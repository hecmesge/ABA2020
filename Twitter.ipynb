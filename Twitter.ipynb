{
 "cells": [
  {
   "cell_type": "markdown",
   "metadata": {},
   "source": [
    "# <h1><center>Web data mining on Twitter</center></h1>"
   ]
  },
  {
   "cell_type": "markdown",
   "metadata": {},
   "source": [
    "We are going to present our work on how to have access to the public data available on the social network Twitter"
   ]
  },
  {
   "cell_type": "markdown",
   "metadata": {},
   "source": [
    "# With API"
   ]
  },
  {
   "cell_type": "markdown",
   "metadata": {},
   "source": [
    "First of all, we are going to use the Twitter APi"
   ]
  },
  {
   "cell_type": "markdown",
   "metadata": {},
   "source": [
    "One can use his API:"
   ]
  },
  {
   "cell_type": "code",
   "execution_count": 1,
   "metadata": {},
   "outputs": [],
   "source": [
    "import tweepy\n",
    "\n",
    "\n",
    "api_key = \n",
    "api_secret_key = \n",
    "access_token = \n",
    "access_token_secret = "
   ]
  },
  {
   "cell_type": "code",
   "execution_count": 2,
   "metadata": {},
   "outputs": [],
   "source": [
    "# Creating the authentication object\n",
    "auth = tweepy.OAuthHandler(api_key, api_secret_key)\n",
    "# Setting your access token and secret\n",
    "auth.set_access_token(access_token, access_token_secret)\n",
    "# Creating the API object while passing in auth information\n",
    "api = tweepy.API(auth) "
   ]
  },
  {
   "cell_type": "markdown",
   "metadata": {},
   "source": [
    "We are looking for the consumption behaviour of our different metropolis to see if their is a trend or a ask for a certain kind of restaurant.\n",
    "\n",
    "We are trying to develop the restaurant \"Banh Mi Boys\" from Toronto in different metropolis, we are going to see which metropolis is more likely to enjoy this \"Vietnamese, Asian fusion restaurants\""
   ]
  },
  {
   "cell_type": "markdown",
   "metadata": {},
   "source": [
    "The problem of twitter's API is that we only get tweets from the last week. So, in order to have as more data as possible, the idea is to search for different key words and then analyze if these key words (that would correspond to a restaurant such as Banh Mi Boys) are likely to be apreciated or not."
   ]
  },
  {
   "cell_type": "code",
   "execution_count": 3,
   "metadata": {},
   "outputs": [
    {
     "name": "stdout",
     "output_type": "stream",
     "text": [
      "unfenced_fire tweeted: I treated myself to takeout from my favourite Vietnamese restaurant today 🥰 (they use biodegradable packaging for almost all their stuff!) https://t.co/dLgxhwglbT\n",
      "--------------------------------------------------------------------------------\n",
      "TBBusiness tweeted: Restaurant Curbside Specials: Xin Xin Chinese Vietnamese Cuisine https://t.co/tgrRx9j6O2\n",
      "--------------------------------------------------------------------------------\n",
      "metricalfoot tweeted: @tcstephenson1 @mattyglesias People who like McDonalds and wouldn't join me at a Vietnamese restaurant, say, but have material concerns unaddressed by libertarian economic measures are a group that are prime for Trump rhetorically, if not politically.\n",
      "--------------------------------------------------------------------------------\n",
      "meranduh tweeted: My family's favorite local restaurant is Chao Vietnamese on 96th Street. This would buy us a lot of pho and boba smoothies. https://t.co/ScFPJn9J4t\n",
      "--------------------------------------------------------------------------------\n",
      "phenidone tweeted: @rohan_p The only bad thing about the rona lockdown from my perspective is that I no longer work across the road from an awesome Vietnamese restaurant who understand when I ask for \"the usual\".\n",
      "--------------------------------------------------------------------------------\n"
     ]
    }
   ],
   "source": [
    "# The search term you want to find\n",
    "query = \"Vietnamese restaurant\"\n",
    "# Language code (follows ISO 639-1 standards)\n",
    "language = \"en\"\n",
    "\n",
    "# Calling the user_timeline function with our parameters\n",
    "tweets = api.search(q=query, lang=language, tweet_mode='extended')\n",
    "\n",
    "# foreach through all tweets pulled\n",
    "for tweet in tweets[0:5]:\n",
    "    # printing the text stored inside the tweet object\n",
    "    print(tweet.user.screen_name, \"tweeted:\", tweet.full_text)\n",
    "    print(80 * '-')"
   ]
  },
  {
   "cell_type": "markdown",
   "metadata": {},
   "source": [
    "Of course we have to diversify our vocabulary in order to be efficient in our analyze."
   ]
  },
  {
   "cell_type": "code",
   "execution_count": 4,
   "metadata": {},
   "outputs": [
    {
     "name": "stdout",
     "output_type": "stream",
     "text": [
      "mildmoodvn tweeted: @TharntypeS P'Mild, will you travel to Viet Nam in the future? Would you like to try traditional food of Viet Nam? ^^\n",
      "--------------------------------------------------------------------------------\n",
      "LARRYSWAFFORD6 tweeted: food for thought. WW1=WOODROW WILSON-DEMOCRAT\n",
      "WW2=FDR-DEMOCRAT\n",
      "KOREAN WAR=HARRY TRUMAN-DEMOCRAT\n",
      "VIET NAM=JFK-DEMOCRAT\n",
      "#PATTERN???\n",
      "--------------------------------------------------------------------------------\n",
      "fetbunnys tweeted: @BRichXXX Depends on where in Florida you are. If in Orlando go to east colonial drive just outside downtown to little Viet Nam. Some of the best Asian food outside of Asia.\n",
      "--------------------------------------------------------------------------------\n",
      "jaeflrt tweeted: 21. call me uneducated but i havent tried tacos since there's barely any mexican food place here in viet nam\n",
      "--------------------------------------------------------------------------------\n",
      "acab2882 tweeted: @aznbrutalistgrl @zhangxin9261 as soon as my viet friend flew home, they went straight to government quarantine for two weeks with food/PPE/everything. now they're chilling with barely any cases. they have it so much more under control over there it's crazy.\n",
      "--------------------------------------------------------------------------------\n"
     ]
    }
   ],
   "source": [
    "# The search term you want to find\n",
    "query = [\"Viet food\"]\n",
    "# Language code (follows ISO 639-1 standards)\n",
    "language = \"en\"\n",
    "\n",
    "# Calling the user_timeline function with our parameters\n",
    "tweets = api.search(q=query, lang=language, tweet_mode='extended')\n",
    "\n",
    "# foreach through all tweets pulled\n",
    "for tweet in tweets[0:5]:\n",
    "    # printing the text stored inside the tweet object\n",
    "    print(tweet.user.screen_name, \"tweeted:\", tweet.full_text)\n",
    "    print(80 * '-')"
   ]
  },
  {
   "cell_type": "code",
   "execution_count": 5,
   "metadata": {},
   "outputs": [],
   "source": [
    "from pprint import pprint\n",
    "import json   "
   ]
  },
  {
   "cell_type": "markdown",
   "metadata": {},
   "source": [
    "Not need to run it again, the json file has been saved"
   ]
  },
  {
   "cell_type": "markdown",
   "metadata": {},
   "source": [
    "\n",
    "\n",
    "\n",
    "query = [\"Vietnamese restaurants\"]\n",
    "\n",
    "language = \"en\"\n",
    "max_tweets = 1000\n",
    "\n",
    "searched_tweets = []\n",
    "last_id = -1\n",
    "while len(searched_tweets) < max_tweets:\n",
    "    count = max_tweets - len(searched_tweets)\n",
    "    try:\n",
    "        new_tweets = api.search(q=query, count=count, lang=language, \n",
    "                                max_id=str(last_id - 1), tweet_mode='extended')\n",
    "        if not new_tweets:\n",
    "            break\n",
    "        searched_tweets.extend(new_tweets)\n",
    "        last_id = new_tweets[-1].id\n",
    "    except tweepy.TweepError as e:\n",
    "\n",
    "        print(\"Error\")\n",
    "        break   \n",
    "        \n",
    "with open('Vietnamese_restaurants_tweets.txt', 'w') as outfile:\n",
    "    for tweet in searched_tweets:\n",
    "        outfile.write(json.dumps(tweet._json) + '\\n')\n",
    "\n",
    "print(len(searched_tweets))"
   ]
  },
  {
   "cell_type": "markdown",
   "metadata": {},
   "source": [
    "The first JSON file is for the query \"Vietnamese restaurants\""
   ]
  },
  {
   "cell_type": "markdown",
   "metadata": {},
   "source": [
    "The text files can be downloaded in https://github.com/hecmesge/ABA2020"
   ]
  },
  {
   "cell_type": "code",
   "execution_count": 6,
   "metadata": {},
   "outputs": [
    {
     "name": "stdout",
     "output_type": "stream",
     "text": [
      "146\n",
      "{'contributors': None,\n",
      " 'coordinates': None,\n",
      " 'created_at': 'Fri Apr 24 08:30:26 +0000 2020',\n",
      " 'display_text_range': [0, 194],\n",
      " 'entities': {'hashtags': [],\n",
      "              'symbols': [],\n",
      "              'urls': [{'display_url': 'twitter.com/thenicolawl/st…',\n",
      "                        'expanded_url': 'https://twitter.com/thenicolawl/status/1253076070762295296',\n",
      "                        'indices': [195, 218],\n",
      "                        'url': 'https://t.co/JWAnY3Dv7N'}],\n",
      "              'user_mentions': []},\n",
      " 'favorite_count': 1,\n",
      " 'favorited': False,\n",
      " 'full_text': 'there is vandalism to vietnamese owned restaurants in the bay '\n",
      "              'area, call it what u want but i call it hate crimes to the '\n",
      "              'asian community (esp in a time like this, it makes it even more '\n",
      "              'obvious). https://t.co/JWAnY3Dv7N',\n",
      " 'geo': None,\n",
      " 'id': 1253602186031853574,\n",
      " 'id_str': '1253602186031853574',\n",
      " 'in_reply_to_screen_name': None,\n",
      " 'in_reply_to_status_id': None,\n",
      " 'in_reply_to_status_id_str': None,\n",
      " 'in_reply_to_user_id': None,\n",
      " 'in_reply_to_user_id_str': None,\n",
      " 'is_quote_status': True,\n",
      " 'lang': 'en',\n",
      " 'metadata': {'iso_language_code': 'en', 'result_type': 'recent'},\n",
      " 'place': None,\n",
      " 'possibly_sensitive': False,\n",
      " 'quoted_status': {'contributors': None,\n",
      "                   'coordinates': None,\n",
      "                   'created_at': 'Wed Apr 22 21:39:50 +0000 2020',\n",
      "                   'display_text_range': [0, 40],\n",
      "                   'entities': {'hashtags': [],\n",
      "                                'media': [{'display_url': 'pic.twitter.com/hSowNKCStp',\n",
      "                                           'expanded_url': 'https://twitter.com/thenicolawl/status/1253076070762295296/photo/1',\n",
      "                                           'id': 1253076061467709440,\n",
      "                                           'id_str': '1253076061467709440',\n",
      "                                           'indices': [41, 64],\n",
      "                                           'media_url': 'http://pbs.twimg.com/media/EWPSCfBUEAAQQb0.jpg',\n",
      "                                           'media_url_https': 'https://pbs.twimg.com/media/EWPSCfBUEAAQQb0.jpg',\n",
      "                                           'sizes': {'large': {'h': 720,\n",
      "                                                               'resize': 'fit',\n",
      "                                                               'w': 960},\n",
      "                                                     'medium': {'h': 720,\n",
      "                                                                'resize': 'fit',\n",
      "                                                                'w': 960},\n",
      "                                                     'small': {'h': 510,\n",
      "                                                               'resize': 'fit',\n",
      "                                                               'w': 680},\n",
      "                                                     'thumb': {'h': 150,\n",
      "                                                               'resize': 'crop',\n",
      "                                                               'w': 150}},\n",
      "                                           'type': 'photo',\n",
      "                                           'url': 'https://t.co/hSowNKCStp'}],\n",
      "                                'symbols': [],\n",
      "                                'urls': [],\n",
      "                                'user_mentions': []},\n",
      "                   'extended_entities': {'media': [{'display_url': 'pic.twitter.com/hSowNKCStp',\n",
      "                                                    'expanded_url': 'https://twitter.com/thenicolawl/status/1253076070762295296/photo/1',\n",
      "                                                    'id': 1253076061467709440,\n",
      "                                                    'id_str': '1253076061467709440',\n",
      "                                                    'indices': [41, 64],\n",
      "                                                    'media_url': 'http://pbs.twimg.com/media/EWPSCfBUEAAQQb0.jpg',\n",
      "                                                    'media_url_https': 'https://pbs.twimg.com/media/EWPSCfBUEAAQQb0.jpg',\n",
      "                                                    'sizes': {'large': {'h': 720,\n",
      "                                                                        'resize': 'fit',\n",
      "                                                                        'w': 960},\n",
      "                                                              'medium': {'h': 720,\n",
      "                                                                         'resize': 'fit',\n",
      "                                                                         'w': 960},\n",
      "                                                              'small': {'h': 510,\n",
      "                                                                        'resize': 'fit',\n",
      "                                                                        'w': 680},\n",
      "                                                              'thumb': {'h': 150,\n",
      "                                                                        'resize': 'crop',\n",
      "                                                                        'w': 150}},\n",
      "                                                    'type': 'photo',\n",
      "                                                    'url': 'https://t.co/hSowNKCStp'},\n",
      "                                                   {'display_url': 'pic.twitter.com/hSowNKCStp',\n",
      "                                                    'expanded_url': 'https://twitter.com/thenicolawl/status/1253076070762295296/photo/1',\n",
      "                                                    'id': 1253076061476106240,\n",
      "                                                    'id_str': '1253076061476106240',\n",
      "                                                    'indices': [41, 64],\n",
      "                                                    'media_url': 'http://pbs.twimg.com/media/EWPSCfDUMAAmVwE.jpg',\n",
      "                                                    'media_url_https': 'https://pbs.twimg.com/media/EWPSCfDUMAAmVwE.jpg',\n",
      "                                                    'sizes': {'large': {'h': 2048,\n",
      "                                                                        'resize': 'fit',\n",
      "                                                                        'w': 1536},\n",
      "                                                              'medium': {'h': 1200,\n",
      "                                                                         'resize': 'fit',\n",
      "                                                                         'w': 900},\n",
      "                                                              'small': {'h': 680,\n",
      "                                                                        'resize': 'fit',\n",
      "                                                                        'w': 510},\n",
      "                                                              'thumb': {'h': 150,\n",
      "                                                                        'resize': 'crop',\n",
      "                                                                        'w': 150}},\n",
      "                                                    'type': 'photo',\n",
      "                                                    'url': 'https://t.co/hSowNKCStp'}]},\n",
      "                   'favorite_count': 7870,\n",
      "                   'favorited': False,\n",
      "                   'full_text': 'people are fucking sick. i hate it here. '\n",
      "                                'https://t.co/hSowNKCStp',\n",
      "                   'geo': None,\n",
      "                   'id': 1253076070762295296,\n",
      "                   'id_str': '1253076070762295296',\n",
      "                   'in_reply_to_screen_name': None,\n",
      "                   'in_reply_to_status_id': None,\n",
      "                   'in_reply_to_status_id_str': None,\n",
      "                   'in_reply_to_user_id': None,\n",
      "                   'in_reply_to_user_id_str': None,\n",
      "                   'is_quote_status': False,\n",
      "                   'lang': 'en',\n",
      "                   'metadata': {'iso_language_code': 'en',\n",
      "                                'result_type': 'recent'},\n",
      "                   'place': None,\n",
      "                   'possibly_sensitive': False,\n",
      "                   'retweet_count': 1530,\n",
      "                   'retweeted': False,\n",
      "                   'source': '<a href=\"http://twitter.com/download/iphone\" '\n",
      "                             'rel=\"nofollow\">Twitter for iPhone</a>',\n",
      "                   'truncated': False,\n",
      "                   'user': {'contributors_enabled': False,\n",
      "                            'created_at': 'Mon Dec 10 02:40:37 +0000 2018',\n",
      "                            'default_profile': True,\n",
      "                            'default_profile_image': False,\n",
      "                            'description': 'just here for good vibes & proud '\n",
      "                                           'member of the alphabet community '\n",
      "                                           '🏳️\\u200d🌈🇵🇭| Cashapp: $NicoLawl '\n",
      "                                           'Venmo: NicoLawl',\n",
      "                            'entities': {'description': {'urls': []},\n",
      "                                         'url': {'urls': [{'display_url': 'teespring.com/stores/moonkid…',\n",
      "                                                           'expanded_url': 'https://teespring.com/stores/moonkid-apparel',\n",
      "                                                           'indices': [0, 23],\n",
      "                                                           'url': 'https://t.co/XM5ig7fPMq'}]}},\n",
      "                            'favourites_count': 34731,\n",
      "                            'follow_request_sent': False,\n",
      "                            'followers_count': 915,\n",
      "                            'following': False,\n",
      "                            'friends_count': 643,\n",
      "                            'geo_enabled': True,\n",
      "                            'has_extended_profile': True,\n",
      "                            'id': 1071957828363931649,\n",
      "                            'id_str': '1071957828363931649',\n",
      "                            'is_translation_enabled': False,\n",
      "                            'is_translator': False,\n",
      "                            'lang': None,\n",
      "                            'listed_count': 3,\n",
      "                            'location': 'Bay Area',\n",
      "                            'name': 'NEE-COH🌱',\n",
      "                            'notifications': False,\n",
      "                            'profile_background_color': 'F5F8FA',\n",
      "                            'profile_background_image_url': None,\n",
      "                            'profile_background_image_url_https': None,\n",
      "                            'profile_background_tile': False,\n",
      "                            'profile_banner_url': 'https://pbs.twimg.com/profile_banners/1071957828363931649/1577405143',\n",
      "                            'profile_image_url': 'http://pbs.twimg.com/profile_images/1246175673460199426/Po89t7so_normal.jpg',\n",
      "                            'profile_image_url_https': 'https://pbs.twimg.com/profile_images/1246175673460199426/Po89t7so_normal.jpg',\n",
      "                            'profile_link_color': '1DA1F2',\n",
      "                            'profile_sidebar_border_color': 'C0DEED',\n",
      "                            'profile_sidebar_fill_color': 'DDEEF6',\n",
      "                            'profile_text_color': '333333',\n",
      "                            'profile_use_background_image': True,\n",
      "                            'protected': False,\n",
      "                            'screen_name': 'thenicolawl',\n",
      "                            'statuses_count': 16786,\n",
      "                            'time_zone': None,\n",
      "                            'translator_type': 'none',\n",
      "                            'url': 'https://t.co/XM5ig7fPMq',\n",
      "                            'utc_offset': None,\n",
      "                            'verified': False}},\n",
      " 'quoted_status_id': 1253076070762295296,\n",
      " 'quoted_status_id_str': '1253076070762295296',\n",
      " 'retweet_count': 0,\n",
      " 'retweeted': False,\n",
      " 'source': '<a href=\"http://twitter.com/download/iphone\" '\n",
      "           'rel=\"nofollow\">Twitter for iPhone</a>',\n",
      " 'truncated': False,\n",
      " 'user': {'contributors_enabled': False,\n",
      "          'created_at': 'Sun Apr 27 07:43:26 +0000 2014',\n",
      "          'default_profile': False,\n",
      "          'default_profile_image': False,\n",
      "          'description': 'abriel luna💍 | save the planet',\n",
      "          'entities': {'description': {'urls': []}},\n",
      "          'favourites_count': 21585,\n",
      "          'follow_request_sent': False,\n",
      "          'followers_count': 627,\n",
      "          'following': False,\n",
      "          'friends_count': 337,\n",
      "          'geo_enabled': True,\n",
      "          'has_extended_profile': True,\n",
      "          'id': 2465773716,\n",
      "          'id_str': '2465773716',\n",
      "          'is_translation_enabled': False,\n",
      "          'is_translator': False,\n",
      "          'lang': None,\n",
      "          'listed_count': 6,\n",
      "          'location': 'with my baby sister',\n",
      "          'name': 'jaz',\n",
      "          'notifications': False,\n",
      "          'profile_background_color': 'C0DEED',\n",
      "          'profile_background_image_url': 'http://abs.twimg.com/images/themes/theme1/bg.png',\n",
      "          'profile_background_image_url_https': 'https://abs.twimg.com/images/themes/theme1/bg.png',\n",
      "          'profile_background_tile': False,\n",
      "          'profile_banner_url': 'https://pbs.twimg.com/profile_banners/2465773716/1578212009',\n",
      "          'profile_image_url': 'http://pbs.twimg.com/profile_images/1240557159282143232/KVbOUnRp_normal.jpg',\n",
      "          'profile_image_url_https': 'https://pbs.twimg.com/profile_images/1240557159282143232/KVbOUnRp_normal.jpg',\n",
      "          'profile_link_color': 'F58EA8',\n",
      "          'profile_sidebar_border_color': '000000',\n",
      "          'profile_sidebar_fill_color': '000000',\n",
      "          'profile_text_color': '000000',\n",
      "          'profile_use_background_image': True,\n",
      "          'protected': False,\n",
      "          'screen_name': 'angelfacejaz',\n",
      "          'statuses_count': 9002,\n",
      "          'time_zone': None,\n",
      "          'translator_type': 'none',\n",
      "          'url': None,\n",
      "          'utc_offset': None,\n",
      "          'verified': False}}\n"
     ]
    }
   ],
   "source": [
    "tweets = []\n",
    "infile = open('Vietnamese_restaurants_tweets.txt')\n",
    "for line in infile.readlines():\n",
    "    tweets.append(json.loads(line))\n",
    "infile.close()\n",
    "print(len(tweets))\n",
    "pprint(tweets[0])"
   ]
  },
  {
   "cell_type": "markdown",
   "metadata": {},
   "source": [
    "We will add the tweets that contains \"Vietnamese restaurant\""
   ]
  },
  {
   "cell_type": "markdown",
   "metadata": {},
   "source": [
    "It has been saved also\n",
    "\n",
    "query = [\"Vietnamese restaurant\"]\n",
    "\n",
    "language = \"en\"\n",
    "max_tweets = 1000\n",
    "\n",
    "searched_tweets = []\n",
    "last_id = -1\n",
    "while len(searched_tweets) < max_tweets:\n",
    "    count = max_tweets - len(searched_tweets)\n",
    "    try:\n",
    "        new_tweets = api.search(q=query, count=count, lang=language, \n",
    "                                max_id=str(last_id - 1), tweet_mode='extended')\n",
    "        if not new_tweets:\n",
    "            break\n",
    "        searched_tweets.extend(new_tweets)\n",
    "        last_id = new_tweets[-1].id\n",
    "    except tweepy.TweepError as e:\n",
    "\n",
    "        print(\"Error\")\n",
    "        break   \n",
    "        \n",
    "with open('Vietnamese_restaurant_tweets.txt', 'w') as outfile:\n",
    "    for tweet in searched_tweets:\n",
    "        outfile.write(json.dumps(tweet._json) + '\\n')\n",
    "\n",
    "print(len(searched_tweets))"
   ]
  },
  {
   "cell_type": "code",
   "execution_count": 7,
   "metadata": {},
   "outputs": [
    {
     "name": "stdout",
     "output_type": "stream",
     "text": [
      "410\n"
     ]
    }
   ],
   "source": [
    "infile = open('Vietnamese_restaurant_tweets.txt')\n",
    "for line in infile.readlines():\n",
    "    tweets.append(json.loads(line))\n",
    "infile.close()\n",
    "print(len(tweets))"
   ]
  },
  {
   "cell_type": "markdown",
   "metadata": {},
   "source": [
    "We will add the tweets that contains \"Vietnamese food\""
   ]
  },
  {
   "cell_type": "markdown",
   "metadata": {},
   "source": [
    "\n",
    "query = [\"Vietnamese food\"]\n",
    "\n",
    "language = \"en\"\n",
    "max_tweets = 1000\n",
    "\n",
    "searched_tweets = []\n",
    "last_id = -1\n",
    "while len(searched_tweets) < max_tweets:\n",
    "    count = max_tweets - len(searched_tweets)\n",
    "    try:\n",
    "        new_tweets = api.search(q=query, count=count, lang=language, \n",
    "                                max_id=str(last_id - 1), tweet_mode='extended')\n",
    "        if not new_tweets:\n",
    "            break\n",
    "        searched_tweets.extend(new_tweets)\n",
    "        last_id = new_tweets[-1].id\n",
    "    except tweepy.TweepError as e:\n",
    "\n",
    "        print(\"Error\")\n",
    "        break   \n",
    "        \n",
    "with open('Vietnamese_food_tweets.txt', 'w') as outfile:\n",
    "    for tweet in searched_tweets:\n",
    "        outfile.write(json.dumps(tweet._json) + '\\n')\n",
    "\n",
    "print(len(searched_tweets))"
   ]
  },
  {
   "cell_type": "code",
   "execution_count": 8,
   "metadata": {},
   "outputs": [
    {
     "name": "stdout",
     "output_type": "stream",
     "text": [
      "1124\n"
     ]
    }
   ],
   "source": [
    "infile = open('Vietnamese_food_tweets.txt')\n",
    "for line in infile.readlines():\n",
    "    tweets.append(json.loads(line))\n",
    "infile.close()\n",
    "print(len(tweets))"
   ]
  },
  {
   "cell_type": "markdown",
   "metadata": {},
   "source": [
    "We will add the tweets that contains \"Viet food\""
   ]
  },
  {
   "cell_type": "markdown",
   "metadata": {},
   "source": [
    "\n",
    "query = [\"Viet food\"]\n",
    "\n",
    "language = \"en\"\n",
    "max_tweets = 1000\n",
    "\n",
    "searched_tweets = []\n",
    "last_id = -1\n",
    "while len(searched_tweets) < max_tweets:\n",
    "    count = max_tweets - len(searched_tweets)\n",
    "    try:\n",
    "        new_tweets = api.search(q=query, count=count, lang=language, \n",
    "                                max_id=str(last_id - 1), tweet_mode='extended')\n",
    "        if not new_tweets:\n",
    "            break\n",
    "        searched_tweets.extend(new_tweets)\n",
    "        last_id = new_tweets[-1].id\n",
    "        \n",
    "    except tweepy.TweepError as e:\n",
    "\n",
    "        print(\"Error\")\n",
    "        break   \n",
    "        \n",
    "with open('Viet_food_tweets.txt', 'w') as outfile:\n",
    "    for tweet in searched_tweets:\n",
    "        outfile.write(json.dumps(tweet._json) + '\\n')\n",
    "\n",
    "print(len(searched_tweets))"
   ]
  },
  {
   "cell_type": "code",
   "execution_count": 9,
   "metadata": {},
   "outputs": [
    {
     "name": "stdout",
     "output_type": "stream",
     "text": [
      "1275\n"
     ]
    }
   ],
   "source": [
    "infile = open('Viet_food_tweets.txt')\n",
    "for line in infile.readlines():\n",
    "    tweets.append(json.loads(line))\n",
    "infile.close()\n",
    "print(len(tweets))"
   ]
  },
  {
   "cell_type": "markdown",
   "metadata": {},
   "source": [
    "I merges on these different topics, because we want to have a lot of tweets."
   ]
  },
  {
   "cell_type": "markdown",
   "metadata": {},
   "source": [
    "We will look at the sentiment of each tweets, as done in the lecture"
   ]
  },
  {
   "cell_type": "code",
   "execution_count": 10,
   "metadata": {},
   "outputs": [],
   "source": [
    "def build_sent_dictionary(sent_filename):\n",
    "    # initialize an empty dictionary\n",
    "    sent_dictionary = {} \n",
    "    afinnfile = open(sent_filename)\n",
    "    for line in afinnfile:\n",
    "        # The file is tab-delimited. \"\\t\" means \"tab character\"\n",
    "        term, score  = line.split(\"\\t\")  \n",
    "        # Convert the score to an integer.\n",
    "        sent_dictionary[term] = int(score)\n",
    "    afinnfile.close()  \n",
    "    # Print every (term, score) pair in the dictionary\n",
    "    #print sent_dictionary.items() \n",
    "    return sent_dictionary"
   ]
  },
  {
   "cell_type": "code",
   "execution_count": 16,
   "metadata": {},
   "outputs": [],
   "source": [
    "import string\n",
    "\n",
    "def rate_sentiments(tweets, sent_dictionary):\n",
    "    scores = []\n",
    "    for tweet in tweets:\n",
    "        score = 0\n",
    "        words = [word.strip(string.punctuation) for word in tweet['full_text'].split()]\n",
    "        for word in words:\n",
    "            if word in sent_dictionary: \n",
    "                score += sent_dictionary[word]\n",
    "        scores.append(score)\n",
    "    return scores"
   ]
  },
  {
   "cell_type": "markdown",
   "metadata": {},
   "source": [
    "We use the txt file AFINN"
   ]
  },
  {
   "cell_type": "code",
   "execution_count": 17,
   "metadata": {},
   "outputs": [],
   "source": [
    "sent_dictionary = build_sent_dictionary('AFINN-111.txt')\n",
    "scores = rate_sentiments(tweets, sent_dictionary)"
   ]
  },
  {
   "cell_type": "code",
   "execution_count": 18,
   "metadata": {},
   "outputs": [
    {
     "data": {
      "image/png": "[encoded data removed]",
      "text/plain": [
       "<Figure size 432x288 with 1 Axes>"
      ]
     },
     "metadata": {
      "needs_background": "light"
     },
     "output_type": "display_data"
    }
   ],
   "source": [
    "import matplotlib.pyplot as plt\n",
    "%matplotlib inline   \n",
    "\n",
    "n, bins, patches=plt.hist(scores, bins=10)\n",
    "plt.ylabel(\"frequency\")\n",
    "plt.xlabel(\"score\")\n",
    "plt.show()"
   ]
  },
  {
   "cell_type": "markdown",
   "metadata": {},
   "source": [
    "The results are quiet positive:"
   ]
  },
  {
   "cell_type": "code",
   "execution_count": 19,
   "metadata": {},
   "outputs": [
    {
     "name": "stdout",
     "output_type": "stream",
     "text": [
      "1.0572549019607844\n"
     ]
    }
   ],
   "source": [
    "import numpy as np\n",
    "print(np.mean(scores))"
   ]
  },
  {
   "cell_type": "markdown",
   "metadata": {},
   "source": [
    "In general, people have a good opinion regarding Asian food."
   ]
  },
  {
   "cell_type": "code",
   "execution_count": 20,
   "metadata": {},
   "outputs": [],
   "source": [
    "def print_tweet(tweet):\n",
    "    print(tweet['created_at'], tweet['user']['name'], tweet['full_text'])\n",
    "    print(80 * '-')"
   ]
  },
  {
   "cell_type": "code",
   "execution_count": 21,
   "metadata": {},
   "outputs": [
    {
     "name": "stdout",
     "output_type": "stream",
     "text": [
      "Fri Apr 17 20:49:25 +0000 2020 Jenny Ong I love that @bbynezza loves Vietnamese food and that you grew to love Vietnamese food as well. This video honestly made me smile and happy because I am Vietnamese and it made me smile and happy when she bought up San Jose. I love egg rolls and I wish that I had some right now.\n",
      "--------------------------------------------------------------------------------\n",
      "Fri Apr 17 02:11:15 +0000 2020 ericmiller191 I supported my favorite local Vietnamese restaurant tonight. Bánh xèo was superb as always. It is important for those who are able to support our neighbors whose businesses are under stress in this pandemic. Plus, it gives me happy memories of #Vietnam and hopes to return soon. https://t.co/OepTduwuqE\n",
      "--------------------------------------------------------------------------------\n",
      "Sat Apr 18 00:20:48 +0000 2020 ella shasserre celebrating you is too easy!!! wishing the happiest birthday to my better half, the most caring &amp; genuine guy i know🖤 thankful for all the adventures &amp; laughs, love you T @ Mimosa Vietnamese and Thai Restaurant https://t.co/NCpmmxlnFS\n",
      "--------------------------------------------------------------------------------\n",
      "Thu Apr 23 00:16:56 +0000 2020 Ashley Ferre Watching @billieeilish on #payitforwardlive! Excited to support small businesses like @redlotusbistro in Downtown Salt Lake, which has amazing Chinese and Vietnamese food!! @sake in Sandy has fabulous sushi and need to give a shoutout to @dynastyathletics cheer in Draper, UT.\n",
      "--------------------------------------------------------------------------------\n",
      "Wed Apr 22 19:45:30 +0000 2020 CoventryLife This stuff is amazing! I’d you love Vietnamese food, check out this sauce, it’s so good! And all their stuff is great for people who are vegan and have allergies! https://t.co/2YuYTsFCCd\n",
      "--------------------------------------------------------------------------------\n",
      "--------------------------------------------------------------------------------\n",
      "Sat Apr 18 20:46:27 +0000 2020 Susie Weiss @sarisarasally @reneewooding99 @MelliBitch @NVGhost005 @picardonhealth @collinskeith @nytgraphics So why you say Spanish flu? Chinese Eggrolls?Vietnamese food? French rolls?mexican food, I know what you mean ... you mean I’m a racist , I’m against illegals, but I’m Mexican, does that make me racist ? Smart ass you think you above, no dear you are on a fake power trip.....\n",
      "--------------------------------------------------------------------------------\n",
      "Fri Apr 24 00:30:17 +0000 2020 stupidass My stupid ass started craving Vietnamese food out of nowhere, shout-out to skip the fucking dishes cause I would’ve started crying if I didn’t order my bbq short ribs🥺\n",
      "--------------------------------------------------------------------------------\n",
      "Sat Apr 18 02:48:50 +0000 2020 a disgrace, honestly Did I ever bitch about how I literally only missed Vietnamese food while I was away and now I can't have any bc my grandma is too racist ??? Cause that's a thing\n",
      "--------------------------------------------------------------------------------\n",
      "Tue Apr 21 03:35:07 +0000 2020 Savage 🦠Virus-Fighter🦠 Had a trump-living patient come in the office today complaining how stressed out he is having to stay at home&amp; so upset he can’t even eat Chinese food anymore,because he had PTSD from Viet Nam war,&amp; the “Gooks “ that tried to kill him. It was disgusting.\n",
      "--------------------------------------------------------------------------------\n",
      "Sat Apr 18 06:57:33 +0000 2020 Bánh Xèo PyschotherapistLA🌈🏳️‍🌈👩‍❤️‍💋‍👩👭🏻 @KatHeartwell Hmm. In viet buddhist culture (my parents, not me), they have funeral anniversaries &amp; do rituals that include prayers for the dead, conversation with the dead, food &amp; [fake] material (i.e. money, clothes, cars, etc., that they burn)offerings for their afterlife.\n",
      "--------------------------------------------------------------------------------\n"
     ]
    }
   ],
   "source": [
    "scores_ind = enumerate(scores)\n",
    "scores_ind = sorted(scores_ind, key=lambda x: x[1])\n",
    "\n",
    "n_tweets = 5\n",
    "for i in range(n_tweets):\n",
    "    print_tweet(tweets[scores_ind[len(tweets) - i - 1][0]])\n",
    "print(80 * '-')\n",
    "for i in range(n_tweets):\n",
    "    print_tweet(tweets[scores_ind[i][0]])"
   ]
  },
  {
   "cell_type": "markdown",
   "metadata": {},
   "source": [
    "Let's have a look at the term frequency of the words"
   ]
  },
  {
   "cell_type": "code",
   "execution_count": 22,
   "metadata": {},
   "outputs": [],
   "source": [
    "def word_frequency(tweets):\n",
    "    word_freq = {}\n",
    "    word_count = 0\n",
    "    for tweet in tweets:\n",
    "        words = [word.strip(string.punctuation) for word in tweet['full_text'].split()]\n",
    "        #print words\n",
    "        for word in words:\n",
    "            if word not in word_freq: \n",
    "                word_freq[word] = 0\n",
    "            word_freq[word] += 1\n",
    "            word_count += 1\n",
    "    for word in word_freq:\n",
    "        word_freq[word] /= word_count\n",
    "    return word_freq\n",
    "\n",
    "word_freq = word_frequency(tweets)"
   ]
  },
  {
   "cell_type": "code",
   "execution_count": 23,
   "metadata": {},
   "outputs": [
    {
     "data": {
      "image/png": "[encoded data removed]",
      "text/plain": [
       "<Figure size 432x288 with 1 Axes>"
      ]
     },
     "metadata": {
      "needs_background": "light"
     },
     "output_type": "display_data"
    }
   ],
   "source": [
    "word_freq_sorted = sorted(word_freq.items(), key=lambda x: x[1], reverse=True)\n",
    "#print(word_freq_sorted)\n",
    "n_plot = 30\n",
    "y = [x[1] for x in word_freq_sorted[:n_plot]]\n",
    "l = [x[0] for x in word_freq_sorted[:n_plot]]\n",
    "plt.bar(l, y)\n",
    "plt.ylabel(\"frequency\")\n",
    "plt.xticks(rotation=90)\n",
    "plt.show()"
   ]
  },
  {
   "cell_type": "markdown",
   "metadata": {},
   "source": [
    "And the top Hashtags"
   ]
  },
  {
   "cell_type": "code",
   "execution_count": 24,
   "metadata": {},
   "outputs": [
    {
     "name": "stdout",
     "output_type": "stream",
     "text": [
      "[('food', 25),\n",
      " ('Vietnamese', 22),\n",
      " ('Mekong', 13),\n",
      " ('restaurants', 10),\n",
      " ('Vietnam', 9),\n",
      " ('vietnamese', 9),\n",
      " ('restaurant', 9),\n",
      " ('HKPoliceTerrorists', 8),\n",
      " ('delicious', 8),\n",
      " ('perfectsearch', 7)]\n"
     ]
    }
   ],
   "source": [
    "def top_hashtags(tweets):\n",
    "    hashtags = {}\n",
    "    for tweet in tweets:\n",
    "        tweet_hashtags = tweet['entities']['hashtags']\n",
    "        for hashtag in tweet_hashtags:\n",
    "            if hashtag['text'] not in hashtags:\n",
    "                hashtags[hashtag['text']] = 0\n",
    "            hashtags[hashtag['text']] += 1\n",
    "    return hashtags\n",
    "\n",
    "hashtags = top_hashtags(tweets)\n",
    "hashtags_sorted = sorted(hashtags.items(), key=lambda x: x[1], reverse=True)\n",
    "pprint(hashtags_sorted[:10])"
   ]
  },
  {
   "cell_type": "markdown",
   "metadata": {},
   "source": [
    "But we want to have access to the users location"
   ]
  },
  {
   "cell_type": "code",
   "execution_count": 25,
   "metadata": {},
   "outputs": [
    {
     "name": "stdout",
     "output_type": "stream",
     "text": [
      "tweets_place 39\n",
      "tweets_coord 9\n",
      "tweets_user_location 958\n",
      "tweets_total 1275\n"
     ]
    }
   ],
   "source": [
    "tweets_place, tweets_coord, tweets_user_location = 0, 0, 0\n",
    "for tweet in tweets:\n",
    "    if tweet['coordinates']:\n",
    "        tweets_coord += 1\n",
    "    if tweet['place']:\n",
    "        tweets_place += 1\n",
    "    if tweet['user']['location']:\n",
    "        tweets_user_location += 1\n",
    "print(\"tweets_place\", tweets_place)\n",
    "print(\"tweets_coord\", tweets_coord)\n",
    "print(\"tweets_user_location\", tweets_user_location)\n",
    "print(\"tweets_total\", len(tweets))"
   ]
  },
  {
   "cell_type": "markdown",
   "metadata": {},
   "source": [
    "Most of them seem to be in the US and Canada"
   ]
  },
  {
   "cell_type": "code",
   "execution_count": 26,
   "metadata": {},
   "outputs": [
    {
     "name": "stdout",
     "output_type": "stream",
     "text": [
      "location: with my baby sister\n",
      "location: California, USA\n",
      "location: in my own lane\n",
      "location: WorldWide\n",
      "location: London, England\n",
      "location: California, USA\n",
      "location: WorldWide\n",
      "location: Burbank, CA\n",
      "location:     manila | tx\n",
      "location: tx\n",
      "location: orange county, ca\n",
      "location: far from there close to here\n",
      "location: OC|LA, CALIFORNIA.\n",
      "location: San Francisco\n",
      "location: Dallas, TX\n",
      "location: WorldWide\n",
      "location: California\n",
      "location: California\n",
      "location: Florida, USA 🇺🇸\n",
      "location: California, USA\n",
      "location: NorCal and Washington, DC\n",
      "location: Gardena, CA\n",
      "location: Sunny SoCal \n",
      "location: Sunny Southern California\n",
      "location: Canton, Ohio / & California\n",
      "location: Orange County, CA\n",
      "location: Colton, CA\n",
      "location: Santos, SP, Brasil\n",
      "location: Batuu\n",
      "location: Limerick, Ireland\n",
      "location: Vancouver\n",
      "location: valley of heart’s delight\n",
      "location: Further down the river\n",
      "location: Wellington, New Zealand\n",
      "location: Melbourne\n",
      "location: Dallas, TX\n",
      "location: Manchester, England\n",
      "location: Where I'm at\n",
      "location: Kansas, USA\n",
      "location: Houston, TX\n",
      "location: Dallas, TX\n",
      "location: 1902 S Lamar St. Dallas 75215\n",
      "location: Coconut Grove\n",
      "location: SF+kinship to Rome-Tokyo-Nola\n",
      "location: 1902 S Lamar St. Dallas 75215\n",
      "location: Sarasota, FL\n",
      "location: Dallas, Texas, USA\n",
      "location: Dallas, TX\n",
      "location: Dallas, Texas\n",
      "location: Dallas, Texas\n",
      "location: Dallas\n",
      "location: Sarasota, FL\n",
      "location: Sarasota, FL\n",
      "location: London\n",
      "location: Singapore\n",
      "location: Wurundjeri country.\n",
      "location: Cali boy born & raised\n",
      "location: Central Alberta\n",
      "location: Omaha, NE\n",
      "location: Houston, TX, USA\n",
      "location: International\n",
      "location: Chicago - My kind of town\n",
      "location: USA\n",
      "location: USA\n",
      "location: Singapore\n",
      "location:  London\n",
      "location: Manchester, England\n",
      "location: Irwindale, CA\n",
      "location: Nashville, TN\n",
      "location: Nashville, TN\n",
      "location: #LovinLeeds\n",
      "location: Nashville, TN\n",
      "location: Nashville, Tenn.\n",
      "location: L.A. / OC\n",
      "location: The Batcave or Kingsman HQ\n",
      "location: East Bay\n",
      "location: minnesota\n",
      "place: {'id': 'c8e7273a81fab7c0', 'url': 'https://api.twitter.com/1.1/geo/id/c8e7273a81fab7c0.json', 'place_type': 'city', 'name': 'Medford', 'full_name': 'Medford, MA', 'country_code': 'US', 'country': 'United States', 'contained_within': [], 'bounding_box': {'type': 'Polygon', 'coordinates': [[[-71.149807, 42.396145], [-71.071833, 42.396145], [-71.071833, 42.453759], [-71.149807, 42.453759]]]}, 'attributes': {}}\n",
      "location: Glendale, CA\n",
      "location: Everywhere \n",
      "location: New Orleans, LA \n",
      "location: Calgary, Alberta\n",
      "location: Calgary, AB Canada\n",
      "location: (310)263-7246 \n",
      "place: {'id': 'e1e35d357ceefa52', 'url': 'https://api.twitter.com/1.1/geo/id/e1e35d357ceefa52.json', 'place_type': 'city', 'name': 'Redondo Beach', 'full_name': 'Redondo Beach, CA', 'country_code': 'US', 'country': 'United States', 'contained_within': [], 'bounding_box': {'type': 'Polygon', 'coordinates': [[[-118.4019312, 33.814689], [-118.352695, 33.814689], [-118.352695, 33.8946492], [-118.4019312, 33.8946492]]]}, 'attributes': {}}\n",
      "place: {'id': 'e1e35d357ceefa52', 'url': 'https://api.twitter.com/1.1/geo/id/e1e35d357ceefa52.json', 'place_type': 'city', 'name': 'Redondo Beach', 'full_name': 'Redondo Beach, CA', 'country_code': 'US', 'country': 'United States', 'contained_within': [], 'bounding_box': {'type': 'Polygon', 'coordinates': [[[-118.4019312, 33.814689], [-118.352695, 33.814689], [-118.352695, 33.8946492], [-118.4019312, 33.8946492]]]}, 'attributes': {}}\n",
      "location: New Orleans ... San Francisco\n",
      "location: Outer Fongoolia, NJ\n",
      "location: Oakland, CA\n",
      "location: Gadigal Land, Eora Nation\n",
      "location: Melbourne \n",
      "location: Singapore\n",
      "location: Edmonton, Alberta\n",
      "location: Chicago\n",
      "place: {'id': '0fc29e3635d46002', 'url': 'https://api.twitter.com/1.1/geo/id/0fc29e3635d46002.json', 'place_type': 'poi', 'name': 'Tay Ho Restaurant & Bar', 'full_name': 'Tay Ho Restaurant & Bar', 'country_code': 'US', 'country': 'United States', 'contained_within': [], 'bounding_box': {'type': 'Polygon', 'coordinates': [[[-122.26957281073715, 37.80206194000609], [-122.26957281073715, 37.80206194000609], [-122.26957281073715, 37.80206194000609], [-122.26957281073715, 37.80206194000609]]]}, 'attributes': {}}\n",
      "location: Calgary, Alberta\n",
      "location: Seattle, Washington USA\n",
      "location: Toronto, Canada\n",
      "location: Los Angeles, California\n",
      "location: Redlands, CA\n",
      "location: Chicago\n",
      "location: Brooklyn, NY\n",
      "location: St Paul, MN\n",
      "location: St. Paul, MN\n",
      "location: Michigan\n",
      "location: The Flexosphere\n",
      "location: Dartmouth, NS\n",
      "location: Dystopian Hell\n",
      "location: The West\n",
      "location: Alabama, USA\n",
      "location: The 9th Circle of Cancelvania\n",
      "location: my house. forever. \n",
      "location: Columbus, OH\n",
      "location: Columbus, OH\n",
      "location: Eugene, OR\n",
      "location: St Paul, MN\n",
      "location: Adelaide\n",
      "location: Tulsa, OK\n",
      "location: USA\n",
      "location: Pittsburgh, PA\n",
      "location: 501 \n",
      "location: Peachtree City, GA\n",
      "location: Louisiana State University\n",
      "location: Louisiana, USA\n",
      "location: Winnipeg\n",
      "location: California, USA\n",
      "location: Los Angeles, CA\n",
      "location: West Vancouver, British Columb\n",
      "location: Brunswick, Georgia, USA\n",
      "location: Boston Proper Soon!\n",
      "location: Surprise, AZ\n",
      "location: From Parts Unknown\n",
      "location: Vancouver\n",
      "location: Las Vegas, NV\n",
      "location: Earth\n",
      "place: {'id': '4dcfc855e2614f09', 'url': 'https://api.twitter.com/1.1/geo/id/4dcfc855e2614f09.json', 'place_type': 'city', 'name': 'Rapid City', 'full_name': 'Rapid City, SD', 'country_code': 'US', 'country': 'United States', 'contained_within': [], 'bounding_box': {'type': 'Polygon', 'coordinates': [[[-103.315567, 44.01364], [-103.1512544, 44.01364], [-103.1512544, 44.1368142], [-103.315567, 44.1368142]]]}, 'attributes': {}}\n",
      "location: Vancouver\n",
      "location: West Midlands, England\n",
      "location: McAllen, Texas\n",
      "location: seattle\n",
      "location: Manchester, England\n",
      "location: Wellington City, New Zealand\n",
      "location: Thailand / Singapore / Asia\n",
      "location: 973   PC '14   Berg '18 \n",
      "location: Oxford, England\n",
      "location: Chicago, IL\n",
      "location: Edmonton Alberta Cananda\n",
      "location: new york\n",
      "location: San Francisco, CA\n",
      "location: Youngstown, OH\n",
      "location: 400 miles up, lookin' down\n",
      "location: Toronto, Ontario\n",
      "location: Flint, MI\n",
      "location: Funeralopolis, Northeast TN\n",
      "location: Sarasota, FL\n",
      "location: Sarasota, Florida\n",
      "location: Sarasota, FL\n",
      "location: New Orleans, LA\n",
      "location: Houston, TX\n",
      "location: I Rarely Follow Back\n",
      "location: Castle Gormogon\n",
      "location: sunmoon, fairy godmother, kids\n",
      "location: Dubai, United Arab Emirates\n",
      "location: Dunghutti land.\n",
      "location: Kuala Lumpur\n",
      "place: {'id': '2c1be03622fe39b8', 'url': 'https://api.twitter.com/1.1/geo/id/2c1be03622fe39b8.json', 'place_type': 'city', 'name': 'Regina', 'full_name': 'Regina, Saskatchewan', 'country_code': 'CA', 'country': 'Canada', 'contained_within': [], 'bounding_box': {'type': 'Polygon', 'coordinates': [[[-104.778398, 50.39659], [-104.50339, 50.39659], [-104.50339, 50.513682], [-104.778398, 50.513682]]]}, 'attributes': {}}\n",
      "location: The Moon\n",
      "location: The Forest\n",
      "location: West Vancouver, British Columb\n",
      "location: Vancouver\n",
      "location: United States\n",
      "location: Austin, Texas\n",
      "location: New York, USA\n",
      "location: Warsaw, Poland\n",
      "location: Central Oregon\n",
      "location: Montgomery metropolitan area,\n",
      "location: ORL, FL\n",
      "location: British Columbia, Canada\n",
      "location: Englewood, CO USA\n",
      "location: Minnesota, USA\n",
      "location: NC\n",
      "location: USA\n",
      "location: USA\n",
      "location: Perth, Western Australia\n",
      "location: Melbourne, Victoria\n",
      "location: Manchester, England\n",
      "location: New Orleans, LA\n",
      "location: Dallas, Texas\n",
      "location: maghrebia | saudia | ‘99\n",
      "location: San Jose, CA\n",
      "location: My Box, Alabama\n",
      "location: Northeast US\n",
      "location: Bellevue, WA\n",
      "location: Los Angeles\n",
      "location: jungler @ Egirl Solidarity\n",
      "location: Nashville, TN\n",
      "location: Nashville, TN\n",
      "location: Nashville, TN\n",
      "location: Nashville, Tenn.\n",
      "location: Germany/Spain\n",
      "location: Fort mcmurray \n",
      "location: Cambodia\n",
      "location: Dallas, TX\n",
      "location: Waterloo, ON\n",
      "location: Halifax, Nova Scotia\n",
      "location: L.A. / OC\n",
      "location: Helping Hand Acceptance Corp.\n",
      "location: Portland, OR\n",
      "location: quarantine\n",
      "location: bay x ucr\n",
      "location: California, USA\n",
      "location: Edmonton, Alberta\n",
      "location: she/her ♡ // seeing bts !!\n",
      "location: 626 / 949\n",
      "place: {'id': '7c4ae4537997a58f', 'url': 'https://api.twitter.com/1.1/geo/id/7c4ae4537997a58f.json', 'place_type': 'city', 'name': 'Elgin', 'full_name': 'Elgin, IL', 'country_code': 'US', 'country': 'United States', 'contained_within': [], 'bounding_box': {'type': 'Polygon', 'coordinates': [[[-88.4312933, 41.986293], [-88.189602, 41.986293], [-88.189602, 42.093586], [-88.4312933, 42.093586]]]}, 'attributes': {}}\n",
      "location: Midwest\n",
      "location: Cypress, CA\n",
      "location: 18 |  she/her | aussie |🏳️‍🌈\n",
      "location: Calgary, Alberta\n",
      "location: Halifax, Nova Scotia\n",
      "location: San Diego, CA\n",
      "location: my basement, KS\n",
      "location: St George, UT\n",
      "location: Garden Grove, CA\n",
      "location: Washington, DC\n",
      "location: Westminster, CA\n",
      "location: Agana Heights, GU\n",
      "location: bnë, au\n",
      "location: Busan, Republic of Korea\n",
      "location: 909\n",
      "location: Buena Park, CA\n",
      "location: Guam\n",
      "location: CA\n",
      "location: Long Beach, CA\n",
      "location: Santa Cruz County, California, USA\n",
      "location: Sachse, TX\n",
      "location: Perth, Western Australia\n",
      "location: Indio, CA\n",
      "location: tx\n",
      "location: Orange County \n",
      "location: Bay Area, CA\n",
      "location: OC\n",
      "location: California, USA\n",
      "location: GA for now,Trinidad always. \n",
      "location: Racine, WI\n",
      "location: South Dakota, USA\n",
      "location: Garden Grove, CA\n",
      "location: Boulder, CO\n",
      "location: 18 pdx ♎︎♎︎♏︎ no tws\n",
      "location: Dallas, TX\n",
      "location: City Rat 🐀\n",
      "location: Halloween Mountain\n",
      "location: Atlanta\n",
      "location: California, USA\n",
      "location: Sherman Heights, San Diego\n",
      "location: Michigan, USA\n",
      "location: San Diego, CA\n",
      "location: Omaha, Nebraska\n",
      "location: Russellville, AR\n",
      "location: New York, USA\n",
      "location: Yavapai County\n",
      "location: Jefferson City, MO\n",
      "location: San Antonio, Texas\n",
      "location: France\n",
      "location: France\n",
      "location: White Rock \n",
      "location: Funeralopolis, Northeast TN\n",
      "location: Athabascan Country, AK\n",
      "place: {'id': 'ce1765e3abafe93e', 'url': 'https://api.twitter.com/1.1/geo/id/ce1765e3abafe93e.json', 'place_type': 'city', 'name': 'Springfield', 'full_name': 'Springfield, IL', 'country_code': 'US', 'country': 'United States', 'contained_within': [], 'bounding_box': {'type': 'Polygon', 'coordinates': [[[-89.7731855, 39.673272], [-89.546193, 39.673272], [-89.546193, 39.87542], [-89.7731855, 39.87542]]]}, 'attributes': {}}\n",
      "location: 619.\n",
      "location: San Diego, CA\n",
      "location: people's republic of n. khalea\n",
      "location: 19, she, dracoswhores™️\n",
      "location: San Diego, CA\n",
      "location: Bay Area, CA\n",
      "location: Colorado, USA\n",
      "location: Virginia\n",
      "place: {'id': '0a0de7bd49ef942d', 'url': 'https://api.twitter.com/1.1/geo/id/0a0de7bd49ef942d.json', 'place_type': 'city', 'name': 'Scottsdale', 'full_name': 'Scottsdale, AZ', 'country_code': 'US', 'country': 'United States', 'contained_within': [], 'bounding_box': {'type': 'Polygon', 'coordinates': [[[-111.960775, 33.4358637], [-111.756022, 33.4358637], [-111.756022, 33.842816], [-111.960775, 33.842816]]]}, 'attributes': {}}\n",
      "location: Los Angeles, California\n",
      "location: Mariska, Hargitay \n",
      "location: Peckham, mostly\n",
      "location: Brisvegas, Australia\n",
      "location: NYC \n",
      "location: Hong Kong\n",
      "location: Washington, DC\n",
      "location: Olympia, WA\n",
      "location: san diego\n",
      "location: Michigan\n",
      "location: Houston, TX\n",
      "location: Arlington, VA\n",
      "location: Portland, Oregon\n",
      "place: {'id': '56316c24480c1a3a', 'url': 'https://api.twitter.com/1.1/geo/id/56316c24480c1a3a.json', 'place_type': 'city', 'name': 'St. Albert', 'full_name': 'St. Albert, Alberta', 'country_code': 'CA', 'country': 'Canada', 'contained_within': [], 'bounding_box': {'type': 'Polygon', 'coordinates': [[[-113.7070882, 53.599415], [-113.565747, 53.599415], [-113.565747, 53.6818589], [-113.7070882, 53.6818589]]]}, 'attributes': {}}\n",
      "location: San Francisco, CA\n",
      "location: Dystopian Hell\n",
      "location: The West\n",
      "location: Portland, Oregon\n",
      "location: Portland, Oregon\n",
      "location: United States\n",
      "location: Oregon, USA\n",
      "location: Portland State University\n",
      "location: PDX\n",
      "location: Massachusetts, USA\n",
      "location: Portland, OR\n",
      "location: Flagstaff, AZ\n",
      "location: Kent\n",
      "location: Colorado, USA\n",
      "location: The 9th Circle of Cancelvania\n",
      "location: 18 |  she/her | aussie |🏳️‍🌈\n",
      "location: my house. forever. \n",
      "location: Columbus, OH\n",
      "location: Columbus, OH\n",
      "location: A very dusty office\n",
      "location: 夢\n",
      "location: High Wycombe\n",
      "location: they/them, 21\n",
      "location: Melbourne\n",
      "location: Hanoi, Vietnam\n",
      "location: California, USA\n",
      "location: England, United Kingdom\n",
      "location: Auckland, New Zealand\n",
      "location: Floridaaaaa ☀\n",
      "location: WorldWide\n",
      "location: California, USA\n",
      "location: NC\n",
      "location: she/her ♡ nonbinary mess\n",
      "location: in my spaceship\n",
      "location: @harvard_kennedy ex @bagehot \n",
      "location: WorldWide\n",
      "place: {'id': 'cf3b45e29c2c319b', 'url': 'https://api.twitter.com/1.1/geo/id/cf3b45e29c2c319b.json', 'place_type': 'city', 'name': 'League City', 'full_name': 'League City, TX', 'country_code': 'US', 'country': 'United States', 'contained_within': [], 'bounding_box': {'type': 'Polygon', 'coordinates': [[[-95.178987, 29.438994], [-94.9950713, 29.438994], [-94.9950713, 29.55532], [-95.178987, 29.55532]]]}, 'attributes': {}}\n",
      "location:  Miyavi’s songwriting book\n",
      "location: Fredonia, NY\n",
      "place: {'id': '00ab941b685334e3', 'url': 'https://api.twitter.com/1.1/geo/id/00ab941b685334e3.json', 'place_type': 'city', 'name': 'Nashville', 'full_name': 'Nashville, TN', 'country_code': 'US', 'country': 'United States', 'contained_within': [], 'bounding_box': {'type': 'Polygon', 'coordinates': [[[-87.022482, 35.9945681], [-86.560616, 35.9945681], [-86.560616, 36.405448], [-87.022482, 36.405448]]]}, 'attributes': {}}\n",
      "location: philadelphia. | she/her | 20 \n",
      "location: she/her ⋈\n",
      "location: Vietnam\n",
      "location: New Orleans, LA\n",
      "location: New York, NY\n",
      "location: Currently, SF Bay Area\n",
      "location: Fuck\n",
      "location: Los Angeles, CA\n",
      "location: Ontario, Canada\n",
      "location: minding my business\n",
      "location: 18+ mutuals only \n",
      "location: Auckland Central, Auckland\n",
      "location: California, USA\n",
      "location: Moscow, Russia\n",
      "place: {'id': '4dcfc855e2614f09', 'url': 'https://api.twitter.com/1.1/geo/id/4dcfc855e2614f09.json', 'place_type': 'city', 'name': 'Rapid City', 'full_name': 'Rapid City, SD', 'country_code': 'US', 'country': 'United States', 'contained_within': [], 'bounding_box': {'type': 'Polygon', 'coordinates': [[[-103.315567, 44.01364], [-103.1512544, 44.01364], [-103.1512544, 44.1368142], [-103.315567, 44.1368142]]]}, 'attributes': {}}\n",
      "location: Houston, TX\n",
      "location: Arizona, USA\n",
      "location: NorCal\n",
      "location: SD | VEGAS\n",
      "place: {'id': '17547b2136215c08', 'url': 'https://api.twitter.com/1.1/geo/id/17547b2136215c08.json', 'place_type': 'city', 'name': 'Petaling', 'full_name': 'Petaling, Selangor', 'country_code': 'MY', 'country': 'Malaysia', 'contained_within': [], 'bounding_box': {'type': 'Polygon', 'coordinates': [[[101.5767746, 2.9796541], [101.7305756, 2.9796541], [101.7305756, 3.0861946], [101.5767746, 3.0861946]]]}, 'attributes': {}}\n",
      "location: ✈️\n",
      "location: Dorchester, Boston\n",
      "location: clogs and Dennis Bergkamp\n",
      "location: Seattle\n",
      "location: SATX\n",
      "location: she/her\n",
      "location: kp•ldr•h•charli•oitnb\n",
      "location: New South Wales, Australia\n",
      "location: Singleton, England\n",
      "location: Phoenix, AZ\n",
      "location: Seattle\n",
      "location: United Kingdom\n",
      "location: Berlin\n",
      "location: UB 2019\n",
      "location: Houston, TX\n",
      "location: Heidelberg\n",
      "location: she/her\n",
      "location: Planet Earth, Milky Way\n",
      "location: she/her ♡ nonbinary mess\n",
      "location: Dallas, TX\n",
      "location: ATX\n",
      "location: Monterey Bay, Ca .\n",
      "location: Manchester, England\n",
      "location: Singapore\n",
      "location: Thailand / Singapore / Asia\n",
      "location: California\n",
      "location: 논현동 3층\n",
      "location: Sonoma County, California\n",
      "location: swamp\n",
      "location: 九州✌️\n",
      "location: bangkok\n",
      "location: Old Saybrook Center, CT\n",
      "location: Baltimore, MD\n",
      "location: Thailand 4.0\n",
      "location:  He/him  (Tongva land)\n",
      "location: Vietnam\n",
      "location: Canada\n",
      "location: NYC\n",
      "location: Calgary\n",
      "location: United States\n",
      "place: {'id': '00b673715a35dfa7', 'url': 'https://api.twitter.com/1.1/geo/id/00b673715a35dfa7.json', 'place_type': 'city', 'name': 'Columbus', 'full_name': 'Columbus, GA', 'country_code': 'US', 'country': 'United States', 'contained_within': [], 'bounding_box': {'type': 'Polygon', 'coordinates': [[[-85.0386729, 32.373847], [-84.795941, 32.373847], [-84.795941, 32.59076], [-85.0386729, 32.59076]]]}, 'attributes': {}}\n",
      "location: Jeddah, Kingdom of Saudi Arabia\n",
      "location: New Orleans, LA\n",
      "location: New Orleans, LA\n",
      "location: New Orleans, LA\n",
      "location: Illinois, USA\n",
      "location: https://discord.gg/vrMV4Bq\n",
      "location: Atlanta, GA\n",
      "location: they/them ★ 19 ★ 🇲🇽\n",
      "location: Calgary, Alberta\n",
      "location: 8th Dimension Comics & Games\n",
      "location: Edmonton\n",
      "location: New York, NY\n",
      "location: Dallas, TX\n",
      "location: 1902 S Lamar St. Dallas 75215\n",
      "location: San Francisco, CA\n",
      "location: Jacksonville, FL\n",
      "location: Youngstown, OH\n",
      "location: Toronto, Ontario\n",
      "location: Somewhere in TX\n",
      "location: Coconut Grove\n",
      "location: SF+kinship to Rome-Tokyo-Nola\n",
      "location: QC\n",
      "location: Durham, NC\n",
      "location: Coventry\n",
      "location: brooklyn, nyc\n",
      "location: Flint, MI\n",
      "place: {'id': '1e5cb4d0509db554', 'url': 'https://api.twitter.com/1.1/geo/id/1e5cb4d0509db554.json', 'place_type': 'city', 'name': 'Vancouver', 'full_name': 'Vancouver, British Columbia', 'country_code': 'CA', 'country': 'Canada', 'contained_within': [], 'bounding_box': {'type': 'Polygon', 'coordinates': [[[-123.224215, 49.19854], [-123.022947, 49.19854], [-123.022947, 49.316738], [-123.224215, 49.316738]]]}, 'attributes': {}}\n",
      "location: 1902 S Lamar St. Dallas 75215\n",
      "location: Boston, MA\n",
      "location: Philadelphia\n",
      "location: Hell\n",
      "location: Virginia Beach, VA\n",
      "location: Citizen of the world / nowhere\n",
      "location: - koalafield ; 🌨️\n",
      "location: England, United Kingdom\n",
      "location: Oakland, CA\n",
      "location: Toronto\n",
      "location: Houston, TX\n",
      "location: Texas, USA\n",
      "location: Cleveland, OH\n",
      "location: Cleveland, OH\n",
      "location: Cleveland, OH\n",
      "location: Cleveland, OH\n",
      "location: Cleveland, OH\n",
      "location: New Orleans, LA\n",
      "location: New Orleans, LA\n",
      "location: New Orleans, LA\n",
      "location: New Orleans, LA\n",
      "location: Dallas, Texas, USA\n",
      "location: Dallas, TX\n",
      "location: Dallas, Texas\n",
      "location: New York, NY\n",
      "location: United States\n",
      "location: Toa Alta, Puerto Rico\n",
      "location: Dallas, Texas\n",
      "location: Canada\n",
      "location: South East Asia \n",
      "location: Dallas\n",
      "location: Vienna, Austria\n",
      "location: killumbus ✈️ atlanta \n",
      "location: Perth, Western Australia\n",
      "location: Indonesia and Vietnam\n",
      "location: 日本\n",
      "location: skz heart ♡\n",
      "location: Malaysia\n",
      "location: NV | CA\n",
      "location: Hanoi\n",
      "location: Auckland, New Zealand\n",
      "location: I have no idea?\n",
      "location: philippines\n",
      "location: Auckland City, New Zealand\n",
      "location: Home \n",
      "location: New Zealand\n",
      "place: {'id': '2c1be03622fe39b8', 'url': 'https://api.twitter.com/1.1/geo/id/2c1be03622fe39b8.json', 'place_type': 'city', 'name': 'Regina', 'full_name': 'Regina, Saskatchewan', 'country_code': 'CA', 'country': 'Canada', 'contained_within': [], 'bounding_box': {'type': 'Polygon', 'coordinates': [[[-104.778398, 50.39659], [-104.50339, 50.39659], [-104.50339, 50.513682], [-104.778398, 50.513682]]]}, 'attributes': {}}\n",
      "location: Tampa, FL\n",
      "place: {'id': '741e9df4d2522275', 'url': 'https://api.twitter.com/1.1/geo/id/741e9df4d2522275.json', 'place_type': 'city', 'name': 'Beverly Hills', 'full_name': 'Beverly Hills, CA', 'country_code': 'US', 'country': 'United States', 'contained_within': [], 'bounding_box': {'type': 'Polygon', 'coordinates': [[[-118.4273439, 34.052559], [-118.371934, 34.052559], [-118.371934, 34.112434], [-118.4273439, 34.112434]]]}, 'attributes': {}}\n",
      "location: SAC\n",
      "location: Vietnam\n",
      "place: {'id': '58a4c3a0d54e1400', 'url': 'https://api.twitter.com/1.1/geo/id/58a4c3a0d54e1400.json', 'place_type': 'admin', 'name': 'Central Region', 'full_name': 'Central Region, Singapore', 'country_code': 'SG', 'country': 'Singapore', 'contained_within': [], 'bounding_box': {'type': 'Polygon', 'coordinates': [[[103.749959507073, 1.2123138339349], [103.918426999964, 1.2123138339349], [103.918426999964, 1.36874499902569], [103.749959507073, 1.36874499902569]]]}, 'attributes': {}}\n",
      "location: Taranaki\n",
      "location: Ponsonby\n",
      "location: Las Vegas, NV\n",
      "location: Beastcoast\n",
      "location: Auckland, New Zealand\n",
      "location: Japan\n",
      "location: Coahuila y Tejas \n",
      "location: Wurundjeri country.\n",
      "location: ✨\n",
      "location: Morro Bay, CA\n",
      "location: Lower Hutt City, New Zealand\n",
      "location: Seoul, Republic of Korea\n",
      "location: Seattle\n",
      "location: Napier, New Zealand\n",
      "location: Baton Rouge, LA\n",
      "location: Wellington City, New Zealand\n",
      "location: Cali boy born & raised\n",
      "location: Portland, OR\n",
      "location: New Zealand\n",
      "location: Auckland\n",
      "location: Selangor, Malaysia\n",
      "location: United States\n",
      "location: College Park, GA\n",
      "location: LFK\n",
      "place: {'id': '55bb81e82d2aa1aa', 'url': 'https://api.twitter.com/1.1/geo/id/55bb81e82d2aa1aa.json', 'place_type': 'city', 'name': 'Fishers', 'full_name': 'Fishers, IN', 'country_code': 'US', 'country': 'United States', 'contained_within': [], 'bounding_box': {'type': 'Polygon', 'coordinates': [[[-86.076196, 39.9267692], [-85.823905, 39.9267692], [-85.823905, 40.000753], [-86.076196, 40.000753]]]}, 'attributes': {}}\n",
      "location: Los Angeles, CA\n",
      "location: Southern California\n",
      "location: Georgia, USA\n",
      "location: McDonald’s Dumpster\n",
      "place: {'id': '20ddfe3fb0b66252', 'url': 'https://api.twitter.com/1.1/geo/id/20ddfe3fb0b66252.json', 'place_type': 'city', 'name': 'Rochdale', 'full_name': 'Rochdale, England', 'country_code': 'GB', 'country': 'United Kingdom', 'contained_within': [], 'bounding_box': {'type': 'Polygon', 'coordinates': [[[-2.228709, 53.560058], [-2.077293, 53.560058], [-2.077293, 53.6587024], [-2.228709, 53.6587024]]]}, 'attributes': {}}\n",
      "place: {'id': '20ddfe3fb0b66252', 'url': 'https://api.twitter.com/1.1/geo/id/20ddfe3fb0b66252.json', 'place_type': 'city', 'name': 'Rochdale', 'full_name': 'Rochdale, England', 'country_code': 'GB', 'country': 'United Kingdom', 'contained_within': [], 'bounding_box': {'type': 'Polygon', 'coordinates': [[[-2.228709, 53.560058], [-2.077293, 53.560058], [-2.077293, 53.6587024], [-2.228709, 53.6587024]]]}, 'attributes': {}}\n",
      "location: iPhone: 38.550812,-121.428017\n",
      "location: Omaha, NE\n",
      "location: Dorchester, MA\n",
      "location: Dorchester, Boston\n",
      "location: DE\n",
      "location: Seattle, WA\n",
      "location: bella noches\n",
      "location: International\n",
      "location: sa\n",
      "location: PHX, AZ\n",
      "location: Newport News, VA\n",
      "location: Buffalo, NY\n",
      "location: NYC\n",
      "location: NC\n",
      "location: Paranaque City\n",
      "location: Europe\n",
      "location: Hanoi, Vietnam\n",
      "location:  North Carolina\n",
      "location: Việt Nam\n",
      "location: Melbourne, Australia\n",
      "location: Selangor, Malaysia\n",
      "location: Selangor, Malaysia\n",
      "location: Cornell University\n",
      "location: Milano\n",
      "location: Oslo, Norge Norway\n",
      "location: Global (HQs London/Edinburgh)\n",
      "location: hungry\n",
      "location: hungry\n",
      "location: hungry\n",
      "location: Albany, NY\n",
      "location: looking for minayeon\n",
      "location: Los Angeles, CA\n",
      "location: Bangkok, Thailand\n",
      "location: Greenville, SC\n",
      "place: {'id': '53504716d445dcad', 'url': 'https://api.twitter.com/1.1/geo/id/53504716d445dcad.json', 'place_type': 'city', 'name': 'Calgary', 'full_name': 'Calgary, Alberta', 'country_code': 'CA', 'country': 'Canada', 'contained_within': [], 'bounding_box': {'type': 'Polygon', 'coordinates': [[[-114.3160379, 50.84278], [-113.859664, 50.84278], [-113.859664, 51.212548], [-114.3160379, 51.212548]]]}, 'attributes': {}}\n",
      "location: 7\\ietnam \n",
      "location: San Diego, CA\n",
      "location: Seattle\n",
      "location: Oakland, CA\n",
      "location: Washington DC\n",
      "location: San Francisco, CA\n",
      "location: Ron Burgundy - \"A Whale's ..\n",
      "location: Massachusetts, USA\n",
      "location: From CA ➡️ IA\n",
      "location: United States\n",
      "location: Living paycheck to paycheck\n",
      "location: Houston, TX\n",
      "location: ballin with my bros | ♈︎ ♐︎ ♌︎\n",
      "location: New York, NY\n",
      "location: Minnesota, USA\n",
      "location: maghrebia | saudia | ‘99\n",
      "location: nj\n",
      "location: San Jose, CA\n",
      "place: {'id': 'b71fac2ee9792cbe', 'url': 'https://api.twitter.com/1.1/geo/id/b71fac2ee9792cbe.json', 'place_type': 'city', 'name': 'Sacramento', 'full_name': 'Sacramento, CA', 'country_code': 'US', 'country': 'United States', 'contained_within': [], 'bounding_box': {'type': 'Polygon', 'coordinates': [[[-121.576613, 38.43792], [-121.362715, 38.43792], [-121.362715, 38.6855236], [-121.576613, 38.6855236]]]}, 'attributes': {}}\n",
      "location: Omaha, NE\n",
      "location: Earth\n",
      "location: new york city \n",
      "location: Irwindale, CA\n",
      "location: Honolulu, HI\n",
      "location: HOU📍\n",
      "location: Rosenberg, TX\n",
      "location: Los Gatos, CA\n",
      "location: https://www.inyore.com/discover\n",
      "place: {'id': 'd64d438446aaf66a', 'url': 'https://api.twitter.com/1.1/geo/id/d64d438446aaf66a.json', 'place_type': 'city', 'name': 'Canonsburg', 'full_name': 'Canonsburg, PA', 'country_code': 'US', 'country': 'United States', 'contained_within': [], 'bounding_box': {'type': 'Polygon', 'coordinates': [[[-80.206972, 40.242046], [-80.158673, 40.242046], [-80.158673, 40.29827], [-80.206972, 40.29827]]]}, 'attributes': {}}\n",
      "location: Singapore\n",
      "location: England, United Kingdom\n",
      "place: {'id': '981989c5b11d5119', 'url': 'https://api.twitter.com/1.1/geo/id/981989c5b11d5119.json', 'place_type': 'city', 'name': 'Visalia', 'full_name': 'Visalia, CA', 'country_code': 'US', 'country': 'United States', 'contained_within': [], 'bounding_box': {'type': 'Polygon', 'coordinates': [[[-119.4143986, 36.26939], [-119.224654, 36.26939], [-119.224654, 36.3695824], [-119.4143986, 36.3695824]]]}, 'attributes': {}}\n",
      "location: Swfl\n",
      "location: Seattle, WA\n",
      "location: Nashville, TN\n",
      "location: Seattle, WA\n",
      "location: Nashville, TN\n",
      "location: Seattle\n",
      "location: Nashville, TN\n",
      "location: Canada by birth, NYC by choice\n",
      "location: Nashville, Tenn.\n",
      "location: SIN→LON→NYC→BOM→ATL→SEA\n",
      "location: Germany/Spain\n",
      "location: Fort mcmurray \n",
      "location: Ontario / Canada\n",
      "location: Surrey\n",
      "location: Bahn Mi islands \n",
      "location: Earth\n",
      "location: Nederland\n",
      "location: anywhere but mostly AZ\n",
      "location: Berlin, Germany\n",
      "location: Budapest\n",
      "location: Indore, India\n",
      "location: she/her\n",
      "location: The Internet\n",
      "location: L.A. / OC\n",
      "location: Florida, USA\n",
      "location: San Jose, CA\n",
      "location: Dark side of the moon.\n",
      "location: Deer Park, TX\n",
      "location: FL\n",
      "location: pdx | sfw 18+ only plz\n",
      "location: Venmo: Perlitaaxoxo \n",
      "location: Belfast \n",
      "location: Buenos Aires, Argentina\n",
      "location: Minnesota, USA\n",
      "location: Washington DC\n",
      "location: CA, USA\n",
      "location: quarantine\n",
      "location: atl \n",
      "location: Mybag\n",
      "location: San Antonio\n",
      "location: TX 🇲🇽\n",
      "location: bay x ucr\n",
      "location: California, USA\n",
      "location: Quil • they/them • 28 • 🔞\n",
      "location: San Francisco, CA\n",
      "location: Geneva, Switzerland\n",
      "location: Bronx, NY and rochester, NY \n",
      "location: she/her ♡ // seeing bts !!\n",
      "location: 626 / 949\n",
      "location: California, USA\n",
      "location: In bed\n",
      "location: Seattle, WA\n",
      "location: lake erie\n",
      "location: Cypress, CA\n",
      "location: North America\n",
      "location: San Diego, CA\n",
      "location: Space City🚀\n",
      "location: Washington, USA\n",
      "location: Seattle, WA\n",
      "location: Seattle\n",
      "place: {'id': '74790dfe0c08c72f', 'url': 'https://api.twitter.com/1.1/geo/id/74790dfe0c08c72f.json', 'place_type': 'city', 'name': 'Sale', 'full_name': 'Sale, England', 'country_code': 'GB', 'country': 'United Kingdom', 'contained_within': [], 'bounding_box': {'type': 'Polygon', 'coordinates': [[[-2.3798084, 53.358611], [-2.2737406, 53.358611], [-2.2737406, 53.4417876], [-2.3798084, 53.4417876]]]}, 'attributes': {}}\n",
      "location: Bangkok, Thailand\n",
      "location: Republic of Liverpool\n",
      "location: Seattle WA\n",
      "location: St George, UT\n",
      "location: Garden Grove, CA\n",
      "location: Westminster, CA\n",
      "location: Washington, DC\n",
      "location: Montréal, Québec\n",
      "location: PILIPINAS\n",
      "location: Chicago, IL\n",
      "location: Ohio, USA\n",
      "location: SAC\n",
      "location: Moskau- Rossiya\n",
      "location: Indianapolis,  IN\n",
      "location: Reston, Va\n",
      "location: London\n",
      "location: bnë, au\n",
      "location: Afterglow of the Ancient Japan\n",
      "location: Halifax, Canada\n",
      "location: Vietnam\n",
      "location: she/her | 19 | 🇻🇳\n",
      "location: 909\n",
      "location: Glasgow, Scotland\n",
      "location: Buena Park, CA\n",
      "location: CA\n",
      "location: Kuala Lumpur, Malaysia\n",
      "location: Long Beach, CA\n",
      "location: Sachse, TX\n",
      "location: Shanghai\n",
      "location: Japan\n",
      "location: California, USA\n",
      "location: Ontario, Canada\n",
      "location: Indio, CA\n",
      "location: tx\n",
      "location: Orange County \n",
      "location: Bay Area, CA\n",
      "location: OC\n",
      "location: California, USA\n",
      "location: Sydney, Australia 🇦🇺\n",
      "location: Behind you\n",
      "location: Currently: Jeju Island, Korea\n",
      "location: my own business\n",
      "location: 在你的头上💛\n",
      "location: over the mountains and under the stars\n",
      "location: México-Madrid-Austin-Bolivia-NYC-Holanda-Houston\n",
      "location: Mesa, AZ\n",
      "location: Garden Grove, CA\n",
      "location: Newcastle, Australia\n",
      "location: Texas\n",
      "location: Boulder, CO\n",
      "location: Sunnydale, California\n",
      "location: United States\n",
      "place: {'id': '36aa8c1293d4ce43', 'url': 'https://api.twitter.com/1.1/geo/id/36aa8c1293d4ce43.json', 'place_type': 'city', 'name': 'Oakland', 'full_name': 'Oakland, NJ', 'country_code': 'US', 'country': 'United States', 'contained_within': [], 'bounding_box': {'type': 'Polygon', 'coordinates': [[[-74.272496, 40.992314], [-74.20186, 40.992314], [-74.20186, 41.063824], [-74.272496, 41.063824]]]}, 'attributes': {}}\n",
      "location: Lenapehoking\n",
      "location: Little Rock, AR\n",
      "location: On the edge of forever.\n",
      "location: West Coast\n",
      "location: Southern United States\n",
      "location: Bay Area, CA\n",
      "location: Marvins room \n",
      "location: Colorado, USA\n",
      "location: Sherman Heights, San Diego\n",
      "location: El Monte, CA\n",
      "location: Calgary, Alberta\n",
      "location: Calgary, AB Canada\n",
      "location: Seaside, CA\n",
      "location: Kingston, Lewes, East Sussex\n",
      "location: San Diego, CA\n",
      "location: Portland, OR\n",
      "location: San Diego, CA\n",
      "location: Greece 🇬🇷\n",
      "location: Hubballi \n",
      "location: York\n",
      "location: BANGALORE\n",
      "location: Chennai, India\n",
      "place: {'id': '1c69a67ad480e1b1', 'url': 'https://api.twitter.com/1.1/geo/id/1c69a67ad480e1b1.json', 'place_type': 'city', 'name': 'Houston', 'full_name': 'Houston, TX', 'country_code': 'US', 'country': 'United States', 'contained_within': [], 'bounding_box': {'type': 'Polygon', 'coordinates': [[[-95.823268, 29.522325], [-95.069705, 29.522325], [-95.069705, 30.1546646], [-95.823268, 30.1546646]]]}, 'attributes': {}}\n",
      "location: silverblood homeworld\n",
      "location: Here & Now\n",
      "location: Columbus, GA\n",
      "location: Raleigh, NC\n",
      "place: {'id': '0073b76548e5984f', 'url': 'https://api.twitter.com/1.1/geo/id/0073b76548e5984f.json', 'place_type': 'city', 'name': 'Sydney', 'full_name': 'Sydney, New South Wales', 'country_code': 'AU', 'country': 'Australia', 'contained_within': [], 'bounding_box': {'type': 'Polygon', 'coordinates': [[[150.520928608, -34.1183470085], [151.343020992, -34.1183470085], [151.343020992, -33.578140996], [150.520928608, -33.578140996]]]}, 'attributes': {}}\n",
      "location: Nam 🇻🇳\n",
      "location: 강혜원's\n",
      "location: Republic of the Philippines\n",
      "location: Kaplan, LA\n",
      "location: NU'NIVERSITY - Dental Dept\n",
      "location: nuventeen + ggs\n",
      "location: bury me under the sun\n",
      "location: 💚종업💗민현💎태민💛성규💙켄💚뽐녕💜라키+💕\n",
      "location: Nu'Niversity Intl Relations\n",
      "location: she her\n",
      "location: hanoi - vietnam\n",
      "location: Hải Phòng, Việt Nam\n",
      "location: Hồ Chí Minh, Việt Nam\n",
      "location: Vienna Austria\n",
      "location: White Rock \n",
      "location: Gadigal Land, Eora Nation\n",
      "location: Melbourne \n",
      "location: SoCal, Tucson\n",
      "location: Hawaii, USA\n",
      "location: Waipahu, HI\n",
      "location: Kathmandu, Nepal\n",
      "location: Somewhere on I-77\n",
      "location: Boca Raton, FL\n",
      "location: finding my way\n",
      "location: Toronto, Ontario\n",
      "place: {'id': '00430f8519d62c37', 'url': 'https://api.twitter.com/1.1/geo/id/00430f8519d62c37.json', 'place_type': 'city', 'name': 'Hilo', 'full_name': 'Hilo, HI', 'country_code': 'US', 'country': 'United States', 'contained_within': [], 'bounding_box': {'type': 'Polygon', 'coordinates': [[[-155.184552, 19.656471], [-154.990994, 19.656471], [-154.990994, 19.738955], [-155.184552, 19.738955]]]}, 'attributes': {}}\n",
      "location: Athabascan Country, AK\n",
      "location: Sandy Springs, GA\n",
      "location: Chicago\n",
      "location: Oakland, CA\n",
      "location: 619.\n",
      "place: {'id': '0192af60292eace8', 'url': 'https://api.twitter.com/1.1/geo/id/0192af60292eace8.json', 'place_type': 'admin', 'name': 'Hanoi', 'full_name': 'Hanoi, Vietnam', 'country_code': 'VN', 'country': 'Vietnam', 'contained_within': [], 'bounding_box': {'type': 'Polygon', 'coordinates': [[[105.290653, 20.564095], [106.020197, 20.564095], [106.020197, 21.385226], [105.290653, 21.385226]]]}, 'attributes': {}}\n",
      "location: San Diego, CA\n",
      "location: 130 E Sunset Way, Issaquah\n",
      "location: Denver, CO\n",
      "location: the boot\n",
      "location: San Diego, CA\n",
      "location: Toronto,Ontario\n",
      "location: 286 Ruthven St, Toowoomba City\n",
      "location: Dallas ya’ll\n",
      "location: Stuck in Canada\n",
      "location: 286 Ruthven St, Toowoomba City\n",
      "location: Somewhere in Idaho\n",
      "location: Merrell Land\n",
      "location: Merrell Land\n",
      "location: Wisconsin\n",
      "location: amber ♡ \n",
      "location: Westchester, Los Angeles\n",
      "location: Worldwide\n",
      "location: NYC\n",
      "location: Oshawa, Ontario\n",
      "location: Virginia\n",
      "location: Sydney, New South Wales\n",
      "location: she/her 💗💜💙\n",
      "location: London, England\n",
      "location: SW-5269-3395-8109\n",
      "location: San Francisco & New York\n",
      "location: Niagara Falls , NY\n",
      "location: Sycamore, IL\n",
      "location: Philadelphia versus the World\n",
      "location: Chapel Hill, NC, & NYC\n",
      "location: Macondo\n",
      "location: Chicago\n",
      "location: New York, NY\n",
      "location: Vietnam\n",
      "location: Fla via Oz via Cali via Canada\n",
      "location: indy\n",
      "location: UK, Europe, France, BDX, Aube\n",
      "location: Chester, England\n",
      "location: Japan\n",
      "location: Indonesia and Vietnam\n",
      "location: NorCal\n",
      "place: {'id': '0192af60292eace8', 'url': 'https://api.twitter.com/1.1/geo/id/0192af60292eace8.json', 'place_type': 'admin', 'name': 'Hanoi', 'full_name': 'Hanoi, Vietnam', 'country_code': 'VN', 'country': 'Vietnam', 'contained_within': [], 'bounding_box': {'type': 'Polygon', 'coordinates': [[[105.290653, 20.564095], [106.020197, 20.564095], [106.020197, 21.385226], [105.290653, 21.385226]]]}, 'attributes': {}}\n",
      "location: the adventure zone\n",
      "location: 10th Largest City in the US.\n",
      "location: Chicago, IL\n",
      "location: The Nowhere\n",
      "location: Birmingham, AL\n",
      "location: gyu's daegu dialect 💘\n",
      "location: Sydney, New South Wales\n",
      "location: wonderland, ca, usa\n",
      "location: Miami, FL\n",
      "location: New York\n",
      "location: California, USA\n",
      "location: your heart\n",
      "location: Edmonton\n",
      "location: Silicon Valley California\n",
      "location: Sunnyvale, CA\n",
      "location: Silicon Valley, CA\n",
      "location: Miami, FL \n",
      "location: Charlotte, NC\n",
      "location: probs @ Sephora buying Makeup\n",
      "location: san diego\n",
      "location: mingi's pancakes 🥞\n",
      "location: Canada\n",
      "location: Texas\n",
      "location: NY \n",
      "location: Michigan\n",
      "location: Houston, TX\n",
      "location: New York, NY\n",
      "location: Sunrise, FL\n",
      "location: 中国台湾省\n",
      "location: Houston, TX\n",
      "location: Houston, TX\n",
      "location: Santa Clara County\n",
      "location: where u NOT...;-)\n",
      "location: Co.Cork, Ireland\n",
      "place: {'id': '337d304222d75060', 'url': 'https://api.twitter.com/1.1/geo/id/337d304222d75060.json', 'place_type': 'city', 'name': 'Harvey', 'full_name': 'Harvey, LA', 'country_code': 'US', 'country': 'United States', 'contained_within': [], 'bounding_box': {'type': 'Polygon', 'coordinates': [[[-90.092431, 29.836718], [-90.035095, 29.836718], [-90.035095, 29.916898], [-90.092431, 29.916898]]]}, 'attributes': {}}\n",
      "location: JC via NYC via SC\n",
      "place: {'id': 'f227fd9a20f20e9d', 'url': 'https://api.twitter.com/1.1/geo/id/f227fd9a20f20e9d.json', 'place_type': 'city', 'name': 'Gardena', 'full_name': 'Gardena, CA', 'country_code': 'US', 'country': 'United States', 'contained_within': [], 'bounding_box': {'type': 'Polygon', 'coordinates': [[[-118.326601, 33.865559], [-118.290531, 33.865559], [-118.290531, 33.916511], [-118.326601, 33.916511]]]}, 'attributes': {}}\n",
      "location: he/him, rus & eng\n",
      "location: Dystopian Hell\n",
      "location: The West\n",
      "location: LA\n",
      "location: Florida, USA\n",
      "location: London, England\n",
      "location: New York, NY\n",
      "location: ktown🚀bay/LA/seoul/해방haenam\n",
      "location: Venice, Los Angeles\n",
      "location: Nashville TN\n",
      "location: Alabama, USA\n",
      "location: D[M]V\n",
      "location: Buenos Aires, Argentina\n",
      "location: Southern California\n",
      "location: leonandtash.com\n",
      "location: León - Londres - Barcelona\n",
      "location: jewish diaspora\n",
      "location: Scotland, United Kingdom\n",
      "place: {'id': '105c983b0cd45001', 'url': 'https://api.twitter.com/1.1/geo/id/105c983b0cd45001.json', 'place_type': 'poi', 'name': 'The Vietnamese Cooking Class', 'full_name': 'The Vietnamese Cooking Class', 'country_code': 'VN', 'country': 'Vietnam', 'contained_within': [], 'bounding_box': {'type': 'Polygon', 'coordinates': [[[106.692531, 10.792158], [106.692531, 10.792158], [106.692531, 10.792158], [106.692531, 10.792158]]]}, 'attributes': {}}\n",
      "location: Hurricane, WV\n",
      "location: she her\n",
      "location: blue diner\n",
      "location: P. Sherman 42 Wallaby Way\n",
      "location: boston university\n",
      "location: Texas, USA\n",
      "location: New York, USA\n",
      "location: Atlanta, GA \n",
      "location: Somewhere \n",
      "location: Hanoi & HCMC, Vietnam\n",
      "location: Massachusetts, USA\n",
      "location: Santa Clarita, CA\n",
      "location: Self-imposed exile\n",
      "location: Hong Kong, Brooklyn\n",
      "location: San Francisco Bay Area, CA\n",
      "location: PHL\n",
      "location: PHL\n",
      "location: FE, GBF, KHR, KNY HELL\n",
      "location: United States\n",
      "location: Houston, TX\n",
      "location: Republic of the Philippines\n",
      "location: Manchester, England\n",
      "location: she/her\n",
      "location: Greater Vancouver, British Col\n",
      "location: TX\n",
      "location: Riverside, CA\n",
      "location: per aspera ad astra\n",
      "location: she/her\n",
      "location: East Coast, USA\n",
      "location: header by @yuzunonicomi\n",
      "location: DMV\n",
      "location: los angeles\n",
      "location: Baltimore\n",
      "location: Imperial core\n",
      "location: salut, ça va ? :) \n",
      "location: ㅤ\n",
      "ㅤ\n",
      "\n",
      "ㅤ\n",
      " 𝘪'𝘭𝘭 𝘣𝘦 𝘵𝘩𝘦 𝘨𝘪𝘳𝘭𝘧𝘳𝘪𝘦𝘯𝘥 𝘪𝘯 𝘺𝘰𝘶𝘳 \n",
      "𝘸𝘦𝘵 𝘥𝘳𝘦𝘢𝘮𝘴 𝘵𝘰𝘯𝘪𝘨𝘩𝘵ㅤ\n",
      "ㅤ\n",
      "\n",
      "ㅤ\n",
      "                   ㅤ\n",
      "location: Wenzhou Zhejiang China\n",
      "location: Bay Area\n",
      "location: Wellington New Zealand\n",
      "location: Seoul, Republic of Korea\n",
      "location: DeBary, FL\n",
      "location: The Toshiki Zone\n",
      "location: The Toshiki Zone\n",
      "location: Hanoi, Vietnam\n",
      "location: Atlanta, GA\n",
      "location: hungry\n",
      "location: hungry\n",
      "location: San Francisco, CA\n",
      "location: neocity\n",
      "location: Bangkok, Thailand\n",
      "location: she/her 🧃 minor \n",
      "location: Colorado\n",
      "place: {'id': '0073b76548e5984f', 'url': 'https://api.twitter.com/1.1/geo/id/0073b76548e5984f.json', 'place_type': 'city', 'name': 'Sydney', 'full_name': 'Sydney, New South Wales', 'country_code': 'AU', 'country': 'Australia', 'contained_within': [], 'bounding_box': {'type': 'Polygon', 'coordinates': [[[150.520928608, -34.1183470085], [151.343020992, -34.1183470085], [151.343020992, -33.578140996], [150.520928608, -33.578140996]]]}, 'attributes': {}}\n",
      "location: lv\n",
      "location: bts ₁₆₀₁₂₀ | txt ₁₉₀₆₂₈\n",
      "location: Canada\n",
      "place: {'id': '0562e9e53cddf6ec', 'url': 'https://api.twitter.com/1.1/geo/id/0562e9e53cddf6ec.json', 'place_type': 'city', 'name': 'Santa Ana', 'full_name': 'Santa Ana, CA', 'country_code': 'US', 'country': 'United States', 'contained_within': [], 'bounding_box': {'type': 'Polygon', 'coordinates': [[[-117.944051, 33.691774], [-117.830826, 33.691774], [-117.830826, 33.78821], [-117.944051, 33.78821]]]}, 'attributes': {}}\n",
      "location: Singapore\n",
      "location: He/him/his\n",
      "location: New Delhi, India\n",
      "location: Nonexisistent \n",
      "location: Loving and supporting nell\n",
      "location: Las Vegas, NV\n",
      "location: Dumpster near you\n",
      "location: 714\n",
      "location: OC ☆ LV\n",
      "location: 🇻🇳 / 🇦🇺\n",
      "location: Toronto\n",
      "location: Sf\n",
      "location: Nowhere\n",
      "location: she/her\n",
      "location: Toronto and Chiang Mai and...\n",
      "location: Toulouse, France\n",
      "location: Henesys: Maya's House\n",
      "location: , MD\n",
      "location: Glasgow, Scotland\n",
      "location: Estados Unidos\n",
      "location: Redwood City, CA\n",
      "location: 714\n",
      "location: Louisiana, USA\n",
      "location: New Orleans, LA\n",
      "location: TX \n",
      "location: ᵛᴵᴿᴳᴼ ☀︎ ᴸᴱᴼ ☽ ᴸᴵᴮᴿᴬ ^\n",
      "location: Kentucky, USA\n",
      "location: bay area, ca  ~ 12tones\n",
      "location: they/them•bi•16•INFP-T•multi\n",
      "location: she/her\n",
      "location: magnolia\n",
      "location: Left Coast\n",
      "location:  Happy Valley, Pennsylvania\n",
      "location: Eastern Canada\n",
      "location: Paradise\n"
     ]
    },
    {
     "name": "stdout",
     "output_type": "stream",
     "text": [
      "location: Montgomery, AL\n",
      "location: Melbourne, Victoria\n",
      "location: Vietnam & Melbourne\n",
      "location: Bangkok\n",
      "location: Los Angeles, CA\n",
      "location: bay area\n",
      "location: Sacramento, CA\n",
      "location: Anaheim, CA\n",
      "location: Orange County, CA\n",
      "location: Los Angeles, CA\n",
      "location: she/her \n",
      "location: Anaheim, CA\n",
      "location: KDH, she/her\n",
      "location: Corona, CA\n",
      "location: Sydney, Australia \n",
      "location: 703\n",
      "location: Boston, Mass.\n",
      "location: Philadelphia, PA\n",
      "location: Macondo\n",
      "place: {'id': 'e4a0d228eb6be76b', 'url': 'https://api.twitter.com/1.1/geo/id/e4a0d228eb6be76b.json', 'place_type': 'city', 'name': 'Philadelphia', 'full_name': 'Philadelphia, PA', 'country_code': 'US', 'country': 'United States', 'contained_within': [], 'bounding_box': {'type': 'Polygon', 'coordinates': [[[-75.280284, 39.871811], [-74.955712, 39.871811], [-74.955712, 40.13792], [-75.280284, 40.13792]]]}, 'attributes': {}}\n",
      "location: the sevens\n",
      "location: Salt Lake City, UT\n",
      "location: Ottawa, Ontario\n",
      "location: 🎴🐗 + 🌪️🌊\n",
      "location: Ithaca, NY\n",
      "location: San Antonio, TX\n",
      "location: she/her\n",
      "location: she/her \n",
      "location: Vinkus, Oz\n"
     ]
    }
   ],
   "source": [
    "for tweet in tweets:\n",
    "    if tweet['place']:\n",
    "        print(\"place:\", tweet['place'])\n",
    "    elif tweet['user']['location']:\n",
    "        print('location:', tweet['user']['location'])"
   ]
  },
  {
   "cell_type": "markdown",
   "metadata": {},
   "source": [
    "Here is the states of our 9 metropolis"
   ]
  },
  {
   "cell_type": "code",
   "execution_count": 27,
   "metadata": {},
   "outputs": [],
   "source": [
    "states_dict = {\n",
    "        'AZ': 'Arizona',\n",
    "        'AB': 'Alberta',\n",
    "        'NC': 'North Carolina',\n",
    "        'NV': 'Nevada',\n",
    "        'PA': 'Pennsylvania',\n",
    "        'WI': 'Wisconsin',\n",
    "        'OH': 'Ohio',\n",
    "        'ON': 'Ontario',\n",
    "        'QC': 'Quebec'}"
   ]
  },
  {
   "cell_type": "code",
   "execution_count": 28,
   "metadata": {},
   "outputs": [
    {
     "name": "stdout",
     "output_type": "stream",
     "text": [
      "[None, None, None, None, None, None, None, None, None, None, None, None, None, None, None, None, None, None, None, None, None, None, None, None, None, None, None, None, None, None, None, None, None, None, 'OH', None, None, None, None, None, None, None, None, None, None, None, None, None, None, None, None, None, None, None, None, None, None, None, None, None, None, None, None, None, None, None, None, None, None, None, None, None, None, None, None, 'AB', None, None, None, None, None, None, None, None, None, None, None, None, None, None, None, None, None, None, None, None, None, None, None, None, None, None, None, None, None, None, None, 'AB', 'AB', None, None, None, None, None, None, None, None, None, None, 'AB', None, None, 'AB', None, None, None, None, None, None, None, None, None, None, None, None, None, None, None, None, None, None, 'OH', 'OH', None, None, None, None, None, None, 'PA', None, None, None, None, None, None, None, None, None, None, None, None, None, 'AZ', None, None, 'NV', None, None, None, None, None, None, None, None, None, None, None, None, None, None, None, None, 'AB', None, None, None, 'OH', None, 'ON', None, None, None, None, None, None, None, None, None, None, None, None, None, None, None, None, None, None, None, None, None, None, None, None, None, None, None, None, None, None, None, None, None, None, None, None, None, None, 'NC', None, None, None, None, None, None, None, None, None, None, None, None, None, None, None, None, None, None, None, None, None, None, None, None, None, None, None, 'ON', None, None, None, None, None, None, None, None, None, None, None, None, None, None, 'AB', None, None, None, None, None, None, None, None, 'AB', None, None, None, None, None, None, None, None, None, None, None, None, None, None, None, None, None, None, None, None, None, None, None, None, None, None, None, None, None, None, None, None, None, None, None, None, None, None, None, None, None, 'WI', None, None, None, None, None, None, None, None, None, None, None, None, None, None, None, None, None, None, None, None, None, None, None, None, None, None, None, None, None, None, None, None, None, None, None, None, None, None, None, 'AZ', None, None, None, None, None, None, None, None, None, None, None, None, None, None, None, None, None, None, None, None, None, None, None, 'AB', None, None, None, None, None, None, None, None, None, None, None, None, None, 'AZ', None, None, None, None, None, 'OH', 'OH', None, None, None, None, None, None, None, None, None, None, None, None, None, None, 'NC', None, None, None, None, None, None, None, None, None, None, None, None, None, None, None, None, None, None, None, None, None, None, 'ON', None, None, None, None, None, None, None, None, None, 'AZ', None, None, None, None, None, None, None, None, None, None, None, None, 'AZ', None, None, None, None, None, None, None, None, None, None, None, None, None, None, None, None, None, None, None, None, None, None, None, None, None, None, None, None, None, None, None, None, None, None, None, None, None, None, None, None, None, None, None, None, None, None, None, None, None, None, None, None, None, None, None, None, None, None, None, None, None, None, None, None, None, None, None, None, None, 'AB', None, None, None, None, None, None, None, None, None, None, 'OH', 'ON', None, None, None, None, 'QC', 'NC', None, None, None, None, None, None, None, None, None, None, None, None, None, None, None, None, None, 'OH', 'OH', 'OH', 'OH', 'OH', None, None, None, None, None, None, None, None, None, None, None, None, None, None, None, None, None, None, None, None, None, None, None, None, None, None, 'NV', None, None, None, None, None, None, None, None, None, None, None, None, None, None, None, None, None, 'NV', None, None, None, None, None, None, None, None, None, None, None, None, None, None, None, None, None, None, None, None, None, None, None, None, None, None, None, None, None, None, None, None, None, None, None, None, None, None, None, None, None, None, None, None, None, None, None, 'AZ', None, None, None, 'NC', None, None, None, None, None, 'NC', None, None, None, None, None, None, None, None, None, None, None, None, None, None, None, None, None, None, None, None, None, None, 'AB', None, None, None, None, None, None, None, None, None, None, None, None, None, None, None, None, None, None, None, None, None, None, None, None, None, None, None, None, None, None, None, None, None, None, None, None, None, None, 'PA', None, None, None, None, None, None, None, None, None, None, None, None, None, None, None, None, 'ON', None, None, 'ON', None, None, None, None, None, None, 'AZ', None, None, None, None, None, None, None, None, None, None, None, None, None, None, None, None, None, None, None, None, None, None, None, None, None, None, None, None, None, None, None, None, None, None, None, None, None, None, None, None, None, None, None, None, None, None, None, None, None, None, None, None, None, None, None, None, None, None, None, None, None, None, None, None, None, None, None, None, None, None, None, None, None, None, 'OH', None, None, None, None, None, None, None, None, None, None, None, None, None, None, None, None, None, None, None, None, None, None, None, None, None, None, None, None, 'ON', None, None, None, None, None, None, None, None, None, None, None, None, None, None, None, None, None, None, None, None, None, 'AZ', None, None, None, None, None, None, None, None, None, None, None, None, None, None, None, None, None, None, None, None, None, None, None, None, 'AB', 'AB', None, None, None, None, None, None, None, None, None, None, None, None, None, None, None, None, None, None, 'NC', None, None, None, None, None, None, None, None, None, None, None, None, None, None, None, None, None, None, None, None, None, None, None, None, None, None, None, None, None, None, None, None, None, None, None, None, 'ON', None, None, None, None, None, None, None, None, None, None, None, None, None, None, None, None, None, None, 'ON', None, None, None, None, None, None, None, None, 'WI', None, None, None, None, None, None, 'ON', None, None, None, None, None, None, None, None, None, None, None, 'NC', None, None, None, None, None, None, None, None, None, None, None, None, None, None, None, None, None, None, None, None, None, None, None, None, None, None, None, None, None, None, None, None, None, None, None, 'NC', None, None, None, None, None, None, None, None, None, None, None, None, None, None, None, None, None, None, None, None, None, None, None, None, None, None, None, None, None, None, None, None, None, None, None, None, None, None, None, None, None, None, None, None, None, None, None, None, None, None, None, None, None, None, None, None, None, None, None, None, None, None, None, None, None, None, None, None, None, None, None, None, None, None, None, None, None, None, None, None, None, None, None, None, None, None, None, None, None, None, None, None, None, None, None, None, None, None, None, None, None, None, None, None, None, None, None, None, None, None, None, None, None, None, None, None, None, None, None, None, None, None, None, None, None, None, None, None, None, None, None, None, None, None, None, None, 'NV', None, None, None, None, None, None, None, None, None, None, None, None, None, None, None, None, None, None, None, None, None, None, None, None, None, None, None, None, None, None, None, None, None, None, None, 'PA', None, None, None, None, None, None, None, None, None, None, None, None, None, None, None, None, None, None, None, None, None, None, None, None, None, None, None, 'PA', None, 'PA', None, None, 'ON', None, None, None, None, None, None, None]\n"
     ]
    }
   ],
   "source": [
    "import re\n",
    "\n",
    "\n",
    "def get_state_from_str(text, states_dict):\n",
    "    state = None\n",
    "    for k, v in states_dict.items():\n",
    "        searchObj = re.search(v, text, re.IGNORECASE)\n",
    "        if searchObj: \n",
    "            state = k\n",
    "        else:\n",
    "            searchObj = re.search(k, text)\n",
    "            if searchObj: \n",
    "                state = k\n",
    "    return state\n",
    "\n",
    "\n",
    "states = []\n",
    "for tweet in tweets:\n",
    "    state = None\n",
    "    if tweet['place'] and tweet['place']['country_code'] == 'US':\n",
    "        state = get_state_from_str(tweet['place']['full_name'], states_dict)\n",
    "        \n",
    "    if tweet['place'] and tweet['place']['country_code'] == 'Canada':\n",
    "        state = get_state_from_str(tweet['place']['full_name'], states_dict)\n",
    "        \n",
    "    if state is None and tweet['user']['location']:\n",
    "        state = get_state_from_str(tweet['user']['location'], states_dict)\n",
    "    states.append(state)\n",
    "\n",
    "print(states)"
   ]
  },
  {
   "cell_type": "code",
   "execution_count": 29,
   "metadata": {},
   "outputs": [],
   "source": [
    "scores_by_state = {}\n",
    "for score_i, score in enumerate(scores):\n",
    "    state = states[score_i]\n",
    "    if state is not None:\n",
    "        if state not in scores_by_state:\n",
    "            scores_by_state[state] = []\n",
    "        scores_by_state[state].append(score)\n",
    "\n",
    "state_score_mean = {}\n",
    "for k in scores_by_state:\n",
    "    state_score_mean[k] = np.mean(scores_by_state[k])"
   ]
  },
  {
   "cell_type": "code",
   "execution_count": 30,
   "metadata": {},
   "outputs": [
    {
     "name": "stdout",
     "output_type": "stream",
     "text": [
      "{'OH': [-3, 2, 7, 0, 2, 7, 0, -6, 10, -2, -2, 0, 0], 'AB': [0, 0, 0, 1, 0, 4, 0, 2, 2, 4, 0, 0, 0], 'PA': [2, 0, 2, 1, 0], 'AZ': [0, 5, 4, 3, 1, -2, 0, 3], 'NV': [0, 0, 0, 0], 'ON': [0, -1, -4, 0, 4, 6, 3, 0, 0, 0, 3], 'NC': [7, 3, 0, 7, 1, 0, 2, 0], 'WI': [-1, 2], 'QC': [0]}\n"
     ]
    }
   ],
   "source": [
    "print(scores_by_state)"
   ]
  },
  {
   "cell_type": "code",
   "execution_count": 31,
   "metadata": {},
   "outputs": [
    {
     "name": "stdout",
     "output_type": "stream",
     "text": [
      "13\n",
      "13\n",
      "5\n",
      "8\n",
      "4\n",
      "11\n",
      "8\n",
      "2\n",
      "1\n"
     ]
    }
   ],
   "source": [
    "for k in scores_by_state:\n",
    "    print(len(scores_by_state[k]))"
   ]
  },
  {
   "cell_type": "code",
   "execution_count": 32,
   "metadata": {},
   "outputs": [
    {
     "name": "stdout",
     "output_type": "stream",
     "text": [
      "North Carolina 2.5\n",
      "Arizona 1.75\n",
      "Ohio 1.1538461538461537\n",
      "Alberta 1.0\n",
      "Pennsylvania 1.0\n",
      "Ontario 1.0\n",
      "Wisconsin 0.5\n",
      "Nevada 0.0\n",
      "Quebec 0.0\n"
     ]
    }
   ],
   "source": [
    "state_score_mean_sorted = sorted(state_score_mean.items(), key=lambda x: x[1], \n",
    "                                 reverse=True)\n",
    "for state, score in state_score_mean_sorted:\n",
    "    print(states_dict[state], score)"
   ]
  },
  {
   "cell_type": "markdown",
   "metadata": {},
   "source": [
    "Finally we don't have a lot of tweets in these area, in North Carolina, they are said to be more likely to enjoy Vietnamese food. But it might not be sufficient to conclude."
   ]
  },
  {
   "cell_type": "markdown",
   "metadata": {},
   "source": [
    "Our problem come from the fact that with API we are only able to take data from the last weeks, so we don't have enought data and we are not able to filter directly"
   ]
  },
  {
   "cell_type": "markdown",
   "metadata": {},
   "source": [
    "# Using a specific Python package"
   ]
  },
  {
   "cell_type": "markdown",
   "metadata": {},
   "source": [
    "# 1. Getting Twitter data\n",
    "\n",
    "We can use a pyhon package based on Jefferson Henrique'work. It not based on the Twitter API but on the fact that when you enter on Twitter page a scroll loader starts, if you scroll down you start to get more and more tweets, all through calls to a JSON provider. After mimic we get the best advantage of Twitter Search on browsers, it can search the deepest oldest tweets.\n",
    "\n",
    "*Based on https://pypi.org/project/GetOldTweets3/*"
   ]
  },
  {
   "cell_type": "code",
   "execution_count": 33,
   "metadata": {},
   "outputs": [],
   "source": [
    "import GetOldTweets3 as got"
   ]
  },
  {
   "cell_type": "markdown",
   "metadata": {},
   "source": [
    "First we can look at what is said about our restaurant on Twitter"
   ]
  },
  {
   "cell_type": "code",
   "execution_count": 35,
   "metadata": {},
   "outputs": [],
   "source": [
    "tweetCriteria = got.manager.TweetCriteria().setQuerySearch('banh mi boys').setSince(\"2010-01-01\").setUntil(\"2020-04-22\").setMaxTweets(10)\n",
    "tweets = got.manager.TweetManager.getTweets(tweetCriteria)"
   ]
  },
  {
   "cell_type": "code",
   "execution_count": 36,
   "metadata": {},
   "outputs": [
    {
     "name": "stdout",
     "output_type": "stream",
     "text": [
      "me and craig get banh mi boys at least once a week\n",
      "Banh mi boys\n",
      "Boy With Luv #BTS @BTS_twt\n",
      "It's my birthday today o.o so far what I've done: got banh mi &amp; bubble tea Watched the boy 2 and hated every second of it Ian's parents drop off a gift ;-; now Ian and I are playing legend of zelda: twilight princess hd\n",
      "Who else wants a banh mi?\n",
      "Need a banh mi, STAT\n",
      "Banh Mi Boys!!! \n",
      "quel plaisir d’être asiatique durant ce confinement. Entre les bò bún, phò, bánh mì, bánh xèo... INCROYABLE.\n",
      "Banh mi boys\n",
      "1. Grilled Pork Banh Mi 2. Rueben 3. Roast Beef with horseradish, raw red onion and mayo. 4. Fried Shrimp Po Boy 5.Grilled Cheese\n"
     ]
    }
   ],
   "source": [
    "for tweet in tweets:\n",
    "    print(tweet.text)"
   ]
  },
  {
   "cell_type": "markdown",
   "metadata": {},
   "source": [
    "We have access to a lot of information regarding the tweets"
   ]
  },
  {
   "cell_type": "code",
   "execution_count": 37,
   "metadata": {},
   "outputs": [
    {
     "name": "stdout",
     "output_type": "stream",
     "text": [
      "https://twitter.com/LaurenWilkenson/status/1252680307846905857\n",
      "https://twitter.com/twobitsofchange/status/1252680169313239042\n",
      "https://twitter.com/LeeTH_twt/status/1252488660504547330\n",
      "https://twitter.com/dollyshrine/status/1252008796089487360\n",
      "https://twitter.com/ogbillybatson/status/1251997962621747200\n",
      "https://twitter.com/ClydeBlvck/status/1251947155381719041\n",
      "https://twitter.com/owenkcraig/status/1251872271989460993\n",
      "https://twitter.com/KidSenku/status/1251828621360148481\n",
      "https://twitter.com/yung404error/status/1251602230739906569\n",
      "https://twitter.com/waitressdotcom/status/1251508573370286082\n"
     ]
    }
   ],
   "source": [
    "for tweet in tweets:\n",
    "    print(tweet.permalink) "
   ]
  },
  {
   "cell_type": "code",
   "execution_count": 38,
   "metadata": {},
   "outputs": [
    {
     "name": "stdout",
     "output_type": "stream",
     "text": [
      "2020-04-21 19:27:13+00:00\n",
      "2020-04-21 19:26:40+00:00\n",
      "2020-04-21 06:45:41+00:00\n",
      "2020-04-19 22:58:52+00:00\n",
      "2020-04-19 22:15:49+00:00\n",
      "2020-04-19 18:53:56+00:00\n",
      "2020-04-19 13:56:22+00:00\n",
      "2020-04-19 11:02:55+00:00\n",
      "2020-04-18 20:03:20+00:00\n",
      "2020-04-18 13:51:10+00:00\n"
     ]
    }
   ],
   "source": [
    "for tweet in tweets:\n",
    "    print(tweet.date)"
   ]
  },
  {
   "cell_type": "markdown",
   "metadata": {},
   "source": [
    "We have access to the number of favorites and retweets, it can be a interesting if we want to have access to the influence and the visibility of this tweet"
   ]
  },
  {
   "cell_type": "code",
   "execution_count": 39,
   "metadata": {},
   "outputs": [
    {
     "name": "stdout",
     "output_type": "stream",
     "text": [
      "6\n",
      "0\n",
      "1\n",
      "10\n",
      "3\n",
      "8\n",
      "3\n",
      "25\n",
      "1\n",
      "0\n"
     ]
    }
   ],
   "source": [
    "for tweet in tweets:\n",
    "    print(tweet.favorites)"
   ]
  },
  {
   "cell_type": "code",
   "execution_count": 40,
   "metadata": {},
   "outputs": [
    {
     "name": "stdout",
     "output_type": "stream",
     "text": [
      "0\n",
      "1\n",
      "0\n",
      "0\n",
      "0\n",
      "1\n",
      "0\n",
      "3\n",
      "0\n",
      "0\n"
     ]
    }
   ],
   "source": [
    "for tweet in tweets:\n",
    "    print(tweet.retweets)"
   ]
  },
  {
   "cell_type": "markdown",
   "metadata": {},
   "source": [
    "We can search by localisation with setNear ."
   ]
  },
  {
   "cell_type": "code",
   "execution_count": 68,
   "metadata": {},
   "outputs": [],
   "source": [
    "tweetCriteria = got.manager.TweetCriteria().setQuerySearch('banh mi boys').setSince(\"2010-01-01\").setUntil(\"2020-04-22\").setNear(\"Toronto, Canada\").setMaxTweets(10)\n",
    "tweets = got.manager.TweetManager.getTweets(tweetCriteria)"
   ]
  },
  {
   "cell_type": "code",
   "execution_count": 69,
   "metadata": {},
   "outputs": [
    {
     "name": "stdout",
     "output_type": "stream",
     "text": [
      "2020-04-19 13:56:22+00:00\n",
      "2020-01-31 20:06:31+00:00\n",
      "2019-10-03 02:24:10+00:00\n",
      "2019-10-03 02:15:06+00:00\n",
      "2019-09-29 19:52:25+00:00\n",
      "2018-08-06 15:32:16+00:00\n",
      "2018-08-05 17:24:42+00:00\n",
      "2017-10-29 18:04:39+00:00\n",
      "2017-10-07 17:07:03+00:00\n",
      "2017-09-28 00:57:35+00:00\n"
     ]
    }
   ],
   "source": [
    "for tweet in tweets:\n",
    "    print(tweet.date)"
   ]
  },
  {
   "cell_type": "markdown",
   "metadata": {},
   "source": [
    "Let's go back to our research on behaviour and trend on different cities, we will look for Vietnamese food, are people likely to enjoy this kind of food ?"
   ]
  },
  {
   "cell_type": "code",
   "execution_count": 269,
   "metadata": {},
   "outputs": [],
   "source": [
    "tweet_Vietnamese_food = got.manager.TweetCriteria().setQuerySearch('Vietnamese food').setSince(\"2010-01-01\").setUntil(\"2020-04-22\").setNear(\"Toronto, Canada\").setMaxTweets(500)\n",
    "tweets = got.manager.TweetManager.getTweets(tweet_Vietnamese_food)"
   ]
  },
  {
   "cell_type": "code",
   "execution_count": 270,
   "metadata": {},
   "outputs": [
    {
     "name": "stdout",
     "output_type": "stream",
     "text": [
      "301\n"
     ]
    }
   ],
   "source": [
    "print(len(tweets))"
   ]
  },
  {
   "cell_type": "code",
   "execution_count": 74,
   "metadata": {},
   "outputs": [
    {
     "name": "stdout",
     "output_type": "stream",
     "text": [
      "2010-11-27 19:13:07+00:00\n"
     ]
    }
   ],
   "source": [
    "print(tweets[-1].date)"
   ]
  },
  {
   "cell_type": "markdown",
   "metadata": {},
   "source": [
    "So we can analyse 305 tweets from the last decade about Vietnamese food in Toronto."
   ]
  },
  {
   "cell_type": "code",
   "execution_count": 78,
   "metadata": {},
   "outputs": [
    {
     "name": "stdout",
     "output_type": "stream",
     "text": [
      "Your health is always our top priority which is why we'll only be doing take-out and delivery at all 3 of our TorontoPHO locations. Order Online: http://www.torontopho.com #Toronto #tastetoronto #TorontoPHO #vietnamesefood #torontofoodie #Torontosafe #Corona #Coronavirus\n",
      "Your health is always our top priority which is why we'll only be doing take-out and delivery at all 3 of our TorontoPHO locations. Order Online: http://www.torontopho.com #Toronto #tastetoronto #TorontoPHO #vietnamesefood #torontofoodie #Torontosafe #Corona #Coronavirus\n",
      "Your health is always our top priority which is why we'll only be doing take-out and delivery at all 3 of our TorontoPHO locations. Order Online: http://www.torontopho.com #Toronto #tastetoronto #TorontoPHO #vietnamesefood #torontofoodie #Torontosafe #Corona #Coronavirus\n",
      "http://TorontoPHO.com #Toronto #tastetoronto #TorontoPHO #vietnamesefood #torontofoodie #Torontosafe #Corona #Coronavirus #canada #BeStrong #BeSafe #TorontoFood\n",
      "My loaded phở tai nam, or Vietnamese rare beef noodle soup. This is by far the best thing that has come from my kitchen. Recipe in my stories. Gonna open a shop after this lol #phở #photai #vietnamesefood… https://www.instagram.com/p/B_PhmVohmV9/?igshid=prsls8ttk4hq\n",
      "Your health is always our top priority which is why we'll only be doing take-out and delivery at all 3 of our TorontoPHO locations. Order Online: http://www.torontopho.com #Toronto #tastetoronto #TorontoPHO #vietnamesefood #torontofoodie #Torontosafe #Corona #Coronavirus\n",
      "Your health is always our top priority which is why we'll only be doing take-out and delivery at all 3 of our TorontoPHO locations. Order Online: http://www.torontopho.com #Toronto #tastetoronto #TorontoPHO #vietnamesefood #torontofoodie #Torontosafe #Corona #Coronavirus\n",
      "Your health is always our top priority which is why we'll only be doing take-out and delivery at all 3 of our TorontoPHO locations. Order Online: http://www.torontopho.com #Toronto #tastetoronto #TorontoPHO #vietnamesefood #torontofoodie #Torontosafe #Corona #Coronavirus\n",
      "http://TorontoPHO.com #Toronto #tastetoronto #TorontoPHO #vietnamesefood #torontofoodie #Torontosafe #Corona #Coronavirus #canada #BeStrong #BeSafe #TorontoFood\n",
      "Your health is always our top priority which is why we'll only be doing take-out and delivery at all 3 of our TorontoPHO locations. Order Online: http://www.torontopho.com #Toronto #tastetoronto #TorontoPHO #vietnamesefood #torontofoodie #Torontosafe #Corona #Coronavirus\n",
      "Your health is always our top priority which is why we'll only be doing take-out and delivery at all 3 of our TorontoPHO locations. Order Online: http://www.torontopho.com #Toronto #tastetoronto #TorontoPHO #vietnamesefood #torontofoodie #Torontosafe #Corona #Coronavirus\n",
      "Your health is always our top priority which is why we'll only be doing take-out and delivery at all 3 of our TorontoPHO locations. Order Online: http://www.torontopho.com #Toronto #tastetoronto #TorontoPHO #vietnamesefood #torontofoodie #Torontosafe #Corona #Coronavirus\n",
      "http://TorontoPHO.com #Toronto #tastetoronto #TorontoPHO #vietnamesefood #torontofoodie #Torontosafe #Corona #Coronavirus #canada #BeStrong #BeSafe #TorontoFood\n",
      "Your health is always our top priority which is why we'll only be doing take-out and delivery at all 3 of our TorontoPHO locations. Order Online: http://www.torontopho.com #Toronto #tastetoronto #TorontoPHO #vietnamesefood #torontofoodie #Torontosafe #Corona #Coronavirus\n",
      "Your health is always our top priority which is why we'll only be doing take-out and delivery at all 3 of our TorontoPHO locations. Order Online: http://www.torontopho.com #Toronto #tastetoronto #TorontoPHO #vietnamesefood #torontofoodie #Torontosafe #Corona #Coronavirus\n",
      "http://TorontoPHO.com #Toronto #tastetoronto #TorontoPHO #vietnamesefood #torontofoodie #Torontosafe #Corona #Coronavirus #canada #BeStrong #BeSafe #TorontoFood\n",
      "I HAD VIETNAMESE FOOD FOR DINNER \n",
      "Vietnamese food \n",
      "Your health is always our top priority which is why we'll only be doing take-out and delivery at all 3 of our TorontoPHO locations. Order Online: http://www.torontopho.com #Toronto #tastetoronto #TorontoPHO #vietnamesefood #torontofoodie #Torontosafe #Corona #Coronavirus\n",
      "http://TorontoPHO.com #Toronto #tastetoronto #TorontoPHO #vietnamesefood #torontofoodie #Torontosafe #Corona #Coronavirus #canada #BeStrong #BeSafe #TorontoFood\n",
      "Your health is always our top priority which is why we'll only be doing take-out and delivery at all 3 of our TorontoPHO locations. Order Online: http://www.torontopho.com #Toronto #tastetoronto #TorontoPHO #vietnamesefood #torontofoodie #Torontosafe #Corona #Coronavirus\n",
      "Your health is always our top priority which is why we'll only be doing take-out and delivery at all 3 of our TorontoPHO locations. Order Online: http://www.torontopho.com #Toronto #tastetoronto #TorontoPHO #vietnamesefood #torontofoodie #Torontosafe #Corona #Coronavirus\n",
      "Your health is always our top priority which is why we'll only be doing take-out and delivery at all 3 of our TorontoPHO locations. Order Online: http://www.torontopho.com #Toronto #tastetoronto #TorontoPHO #vietnamesefood #torontofoodie #Torontosafe #Corona #Coronavirus\n",
      "I can’t think of a better way to celebrate #NationalTakeoutDay. Owned by one of the most down-to-earth men I know, #vietnoms offers exceptional #vietnamese food. Don’t miss your chance to support friendly owners who care about what they do and how they do it. #toronto\n",
      "#hutieumytho Clear #noodle #soup with mixed #seafood #pork and #quaileggs with #goicuontomthit #Shrimp and pork #rice paper roll #vietnamesefood #foodphotography #lunchtime #ubereats – at Pho Metro\n",
      "Also Vietnamese food.\n",
      "lowkey craving for some vietnamese food especially their lumpia \n",
      "Enjoying Vietnamese rice wraps on St. Clair W. No pho, nice change! #toronto #torontovietnamesefood #vietnamesefood #vietnamesefoodtoronto https://www.instagram.com/p/B53-9v4Ac4x/?igshid=lr5q114waae5\n",
      "Totally craving something fresh tonight for dinner!!! Couldn’t have worked out better! I had everything I needed #home #vietnamesefood #freshrolls @Harbord Village https://www.instagram.com/p/B-d6cgpAx1E/?igshid=mf1mnea8v3rs\n",
      "Love their grilled meat here Pork Bún &amp; Lemongrass Chicken Rice &amp; Spring Rolls #vietnamesefood #vietfood #torontochinatown #bún #vermicelli #springrolls #comtám #fishsauce #lemongrasschicken #vietspringrolls… https://www.instagram.com/p/B9xiC9iBF8R/?igshid=ociuk5g1qrsv\n",
      "What's better than Vietnamese food? You will love it #GoodFoodGoodMood #VietnameseFood #foodlover @ross_professor – at Pho 88 Vietnamese Cuisine\n",
      "Viernes con V de FaleFergalaFida Mi cara de felicidad antes de saber que esa sopa haría que mi anillo se atore en mi dedo #sopitaculera #vietnamesefood @Toronto C•A•N•A•D•A https://www.instagram.com/p/B8AlT9EgGAV/?igshid=vkecdl6uobus\n",
      "It's great in Vietnamese food \n",
      "So wonderful to get together with my family for a Vietnamese lunch this Christmas. #family #reunion #vietnamesefood @Pho Ngoc Yen Restaurant https://www.instagram.com/p/B6Yoy3Dh94O/?igshid=1gr42sgfs15u5\n",
      "@rustleandstill take on #eggnog is #creamy good with #gingermilk - great #christmasdrink to cool down your mouth when you ask for more heat in your #brunchto - yummy #vietnamesefood #ktown.bia #toronto #canada… https://www.instagram.com/p/B6XsvmHhgHT/?igshid=z9888dpmph9g\n",
      "My parents are visiting. During past trips they’ve brought us a full size ladder, pots and pans, and coolers of home made Vietnamese food. My mom texted me “CLEAR THE TRUNK” prior to take off. I can’t wait to see what they bring this time!\n",
      "Authentic Vietnamese food + unique decor &amp; Vietnamese music. luv it! #vietnmaesefood #mosanfran #sanfrancisco #resto #travel #tourism #foodtourism @VisitCA\n",
      "Happy #meatlessmonday food lovers! This #vegan Vietnamese fried rice will leave you extremely full, yet begging for more.. #spicy #limey #ricey #minty #friedrice #veganfood #vietnamesefood Book a private in-home… https://www.instagram.com/p/B5l6Bq-Agxb/?igshid=c7b8kokyto1i\n",
      "#Ibaeños #TagaIbaanAko #PhoBistro #VietnameseFood #MyPrincessYana #MyPrincessKyndra @Pho Bistro LTD https://www.instagram.com/p/B5i6SR-hjbV/?igshid=1we65js2hkxza\n",
      "Special 7 is one of the few anime to feature Vietnamese food. Pho and spring rolls to be exact.\n",
      "Yummy Viet food at this tiny mummy pop shop, prob the best Bún in #Toronto Love the wrap you’re own roll w/ rice wrap. #vietnamesefood #torontochinatown #riceroll #freshrolls #springrolls #bún #fishsauce #viet… https://www.instagram.com/p/B4yYuxlh7fJ/?igshid=1if733q0ammc7\n",
      "Lunch time. Vietnamese food! #believe #foodlovers #vietnamese\n",
      "Today is Wednesday, September 4, 2019. I had a good breakfast this morning at Grenadier restaurant in High Park (before tennis practice). Then got good Vietnamese food from my cousin. I love Asian food. I use the… https://www.instagram.com/p/B1_3JO8lCAp/?igshid=1o5tklpgtwtuw\n",
      "Pho time! #latedinner #pho #vietnamesefood #chinatown #chinatowneats #vermicelli #springrolls #tasty #tastyfood #tastyshoutouts #foodie #foodporn #foodgasm #instagood #instafood #instadaily #instagram #goodlife… https://www.instagram.com/p/B1z8xpUhy3i/?igshid=dq9klla051kl\n",
      "Vietnamese pho for dinner tonight. Generous portions and the spring rolls were good. I've had better pho but it's still comfort food. Lots of beef in it tho! #vietnamesefood #pho #comfortfood #foodporn… https://www.instagram.com/p/B1zzupahP82/?igshid=9wbojzsu08vq\n",
      "It's beautiful. Definitely hit the spot. #foodporn #fatfuck #pho #vietnamesefood #torontostockyards #toronto @PHO 90 https://www.instagram.com/p/B1hFqMvA0HF/?igshid=1jubsrry2oblv\n",
      "My favourite is vietnamese food. I like Rice vermicelli, tofu, vegetable, crispy pancakes. From I love pho. – at I &lt;3 Pho\n",
      "Vietnamese pho noodles for lunch.. Anytime is a great time to eat this! @localguides @VietnameseFood @scarborough @food – at Xe Lua Vietnamese Cuisine 火車頭\n",
      "Self-medicating with Vietnamese food this week apparently. – at Pho Rua Vang (Golden Turtle)\n",
      "I love how this Vietnamese place just opened up near where I work. Must take advantage of it more often! #toronto #foodporn #fatfuck #vietnamesefood @PHO 90 https://www.instagram.com/p/Bz1EhwwAfEK/?igshid=1moeil33gt9il\n",
      "Millennials Like Vietnamese Food. ! ?\n",
      "Pâté chaud and tell. #patechaud #banhpateso #instafood #instabake #homemade #handpies #puffpastry #vietnamesefood #vietnamesecooking #vietfood #igfood #igeats #food #foodphoto #foodphotography… https://www.instagram.com/p/BzDwM0qBB4R/?igshid=wenajjkil5dm\n",
      "Pâté chaud and tell. #patechaud #banhpateso #instafood #instabake #homemade #handpies #puffpastry #vietnamesefood #vietnamesecooking #vietfood #igfood #igeats #food #foodphoto #foodphotography… https://www.instagram.com/p/BzDwM0qBB4R/?igshid=cv3m4vcsalaw\n",
      "Trying a new Vietnamese spot in Vaughan. Had me some lemongrass chicken and rice w Sriracha Honey Wings while the GF got tomato and fish cake Pho w veggie spring rolls. Delicious! #pickolime #vietnamesefood #fusion… https://www.instagram.com/p/BydSCwYBHu9/?igshid=6fz00jct0bes\n",
      "Trick with the rice noodles is you put them in cold water, then increase the heat to boiling; and then turn it off. #vietnamesefood #cooking #foodie | @KimThuyOfficiel @torontolibrary\n",
      "Size of noodles is super important as well. #vietnamesefood @KimThuyOfficiel @AppelSalon\n",
      "Special thanks to katy_hung for the kitchen space to pull off this meal, her husband, Dan, who took on grilling duties, and andreanguyen88's 'Vietnamese Food Any Day' for renewing my love affair with Viet cooking… https://www.instagram.com/p/Bx6AU7DBePL/?igshid=ewu3zfim25x3\n",
      "Time to feast on this deliciousness-ness! - #vietnamesefood #grilledpork #lunch #feast #food #foodporn #wednesdaymotivation @Pho Dau Bo Restaurant https://www.instagram.com/p/BxflTnChcQM/?igshid=188i6o0957om3\n",
      "...take out container+$1 = sauce #pho #phoexpress #vietnamesefood #wethenorth #math #equation @Pho Viet Xpress https://www.instagram.com/p/Bwk-kLlHA7w/?utm_source=ig_twitter_share&amp;igshid=18t1bsapyzkyo\n",
      "The noodles in this #pho was twice as thick as other places which made it exceptionally chewy. Also the broth was so salty and lacked the usual herbal complexity. #soupnoodles #vietnamesefood #slurp #tendon #tripe… https://www.instagram.com/p/BwVUrvSB_et/?igshid=50hdj44oy9rm\n",
      "#tofu #eggroll #vercimelli #vietnamesefood #foodporn #ginger #toronto #canada @Ginger 695 Yonge St. Toronto https://www.instagram.com/p/BwBCCqepgfd/?utm_source=ig_twitter_share&amp;igshid=z2pql9mhu9tw\n",
      "#ginger #Vietnamesefood #shrimp #beef #veggies #rice #grilled #foodporn #toronto #canada @Ginger 695 Yonge St. Toronto https://www.instagram.com/p/BvuDKVCB9yO/?utm_source=ig_twitter_share&amp;igshid=pikabqi6q7qx\n",
      "Came to try here today #food #foodwithfriends #hungry #restaurant #vietnamesefood #pho @Pho Saigon St https://www.instagram.com/p/BvH3Ue2nByU/?utm_source=ig_twitter_share&amp;igshid=dtvam2o62xvm\n",
      "Just had an amazing lunch with friends at this small busy Vietnamese restaurant in Richmond Hill. #vietnamesefood #friends @Nam Vietnamese Restaurant https://www.instagram.com/p/BvCk1GtgcVW/?utm_source=ig_twitter_share&amp;igshid=1cg2qowowdcq6\n",
      "Great deal for Bahn Mi Chicken Salad and Dasani water only in February. Try this light &amp; low-carb Vietnamese salad from OTG. #vietnamesefood #vietnamesesalad #healthysalad #yummysalad… https://www.instagram.com/p/Btv5nwsBz6J/?utm_source=ig_twitter_share&amp;igshid=14zb35met80e0\n",
      "#torontofood #vietnameserestaurant #vietnamesefood #blogto — Went to q1phofamous recently and I would say it’s not bad at all for a Viet restaurant in Chinatown! Portion is quite big… https://www.instagram.com/p/BtWKX70HBhV/?utm_source=ig_twitter_share&amp;igshid=1pfwbu9adyndj\n",
      "#snowday? #pho DAY!! Needed another hit of hot soup with #noodles and #sriracha and #freshlime! #warmingup #comfortfood #noodleaddict #beefbroth #beef #vietnamesefood #beansprouts #basil… https://www.instagram.com/p/BtT2YYbAedz/?utm_source=ig_twitter_share&amp;igshid=5i5a4f30lqch\n",
      "Vietnamese food and bakery galore #pigout #torontofood #lunch #fitness #foodporn @Yorkgate Mall https://www.instagram.com/p/Bs8ZUnggZvb/?utm_source=ig_twitter_share&amp;igshid=jm87q1m894hw\n",
      "Is that food PHO reals? #phoq #pho #fhemfooddiary #food #toronto #vietnamesefood @Pho Q https://www.instagram.com/p/BsSMVrXg6Ig/?utm_source=ig_twitter_share&amp;igshid=q5lagf6kr0g6\n",
      "This is how I roll . #food #foodie #foodpics #foodphotography #foodlover #instafood #instafoodie #springrolls #summerrolls #vietnamesefood #toronto #eat #nofilter #nomnom #yummy… https://www.instagram.com/p/BsJqXhQB8vy/?utm_source=ig_twitter_share&amp;igshid=36o24xobf3wz\n",
      "Our office holiday party serves home cooked Vietnamese food you won’t find anywhere else. So proud and grateful for this group of eclectics I call my team at… https://www.instagram.com/annpoochareon/p/BroyIOMBvyZ/?utm_source=ig_twitter_share&amp;igshid=gynzcaydkfhl\n",
      "PhoPasFlavours.... simmering along my darlings... phopassocialbistro #Cabbagetown #OysterBar #vietnamesefood #Bistro @Cabbagetown, Toronto https://www.instagram.com/p/BrmB4Z2hg8K/?utm_source=ig_twitter_share&amp;igshid=crofjhcdmsz9\n",
      "A winter necessity pho sure . #food #foodie #foodphotography #foodstagram #foodlover #foodpics #life #blessed #toronto #eat #pho #vietnamesefood #nofilter #iphonephotography #nomnom… https://www.instagram.com/p/BrlkXk5hhbr/?utm_source=ig_twitter_share&amp;igshid=c4znyiqfq7wh\n",
      "NICE BUNS | bun rieu cua. bonus: there is a shop kitty . . #food #bunrieucua #bunrieu #vietnamesefood #noodles #parkdale #toronto #the6ix #soup #restaurant @Hanoi Restaurant https://www.instagram.com/p/BqVdcPpBNqj/?utm_source=ig_twitter_share&amp;igshid=ltrejhg27sjo\n",
      "#Cravings The Best Vietnamese Steam Rice Rolls #vietfood #vietnamesefood #vietricerolls #steamricerolls #kikisBFF #kikisBFFeats #foodpics #foodporn #foodblogger #foodshare #foodstagram… https://www.instagram.com/p/BpusKJlBU2l/?utm_source=ig_twitter_share&amp;igshid=114qec1k4cnox\n",
      "With frankdamico6 and @americaluigi enjoying Tom yum soup on a cold Saturday night. #soup #tomyumsoup #vietnamesefood #vietnam #springrolls #beefroll #frankdamico #blogto #foodtruck… https://www.instagram.com/p/BpdYQQ_Fxmz/?utm_source=ig_twitter_share&amp;igshid=1wlgy6wd2v93s\n",
      "#food #hungry #restaurant #vietnamesefood #pho @Pho Mi 99 https://www.instagram.com/p/BpNkcdwnWnB/?utm_source=ig_twitter_share&amp;igshid=713967qposqg\n",
      "Home is where the heart is. That and wherever the reused jam jars that now hold nước chấm are. #nuoccham #fishsau #banhxeo #vietnamesefood #vietnamesecooking #homecooking… https://www.instagram.com/p/BpKjemTAp2r/?utm_source=ig_twitter_share&amp;igshid=1u9rvlzbyzppd\n",
      "Break a leg out there. #duckconfit #mivit #ducknoodle #ducknoodlesoup #vietnamesefood #vietfood #igeats #torontoeats #toeats #eatto #food #foodphoto #foodphotography… https://www.instagram.com/p/Bo7JVUwh2vp/?utm_source=ig_twitter_share&amp;igshid=1q1aqp7xmq8w5\n",
      "bun Bo hue and 腸粉！#bunrieu #bunbohue #腸粉 #vietnamesefood #torontofood #torontolife #torontoeats #yummylunch #eunicebabygirl #toronto #foodiegram #nomnom #mommylovesyou #mommylife… https://www.instagram.com/p/BorrDDVj1_6/?utm_source=ig_twitter_share&amp;igshid=1u8q28g0aj7oo\n",
      "Getting cold outside in #toronto so time for some hot #pho #soup #cold #fall #lunch #dinner #vietnamesefood #hot #yum #foodreviewca #beef #foodie #foodblogger #torontofood #photooftheday… https://www.instagram.com/p/BoIVLSDAPKf/?utm_source=ig_twitter_share&amp;igshid=w3mgq31tthy6\n",
      "Neighborhood gem #pho #vietnamesefood #noodles #comfortfood #foodporn #foodpornto #foodstagram #foodgasmic #foodgasm #foodofinstagram #tofoodies #yyz #torontoeats #foodtoronto… https://www.instagram.com/p/Bn1mFzcAS_C/?utm_source=ig_twitter_share&amp;igshid=jgwx87990269\n",
      "Báhn-mi & Iced Viet Coffee rustleandstill #bahnmi #vietnamesefood #vietcoffee #icedvietnamesecoffee #vietnamesecoffee #lunch #cafe #torontocoffee #coffee #coffeeaddict #kikisbffcoffee… https://www.instagram.com/p/BnNEfghgloQ/?utm_source=ig_twitter_share&amp;igshid=17pdyly0cx7gz\n",
      "CURRY ON MY WAYWARD SON | there'll be peace when u r done . . #food #noodles #curry #vietnamesefood #buncariga #toronto #the6ix #latergram @Pho Asia 21 https://www.instagram.com/p/BmXVNlrA4Wd/?utm_source=ig_twitter_share&amp;igshid=1c7d8mjkj8p5m\n",
      "Nothing like a bowl of #bunrieu to end the work week. #vietnamesefood #noodlesoup #alwaysslurping #torontoeats @Toronto, Ontario https://www.instagram.com/p/BmUIlWSA1Am/?utm_source=ig_twitter_share&amp;igshid=e8vbdqtar8fy\n",
      "207/365 Best Pho #photoaday2018 #pho #vietnamesefood #foodtourism #foodphotography #nom @Pho Tien Thanh https://www.instagram.com/p/BmTrFFwA90a/?utm_source=ig_twitter_share&amp;igshid=tk97u0q3ue52\n",
      "What’s on the menu? #seaweedsalad #hotandsoursoup #tofu #healthyfood #vietnamesefood #healthyeating #veganfood #vegetarian #foodforthought @Toronto, Ontario https://www.instagram.com/p/Bl_KlvTgY9W/?utm_source=ig_twitter_share&amp;igshid=axri8bo18d0s\n",
      "Vietnamese Ice Coffee aka jet fuel...this place actually tasted good. #techno #vietnamese #vietnamesecoffee #vietnamesefood #pho #vermicelli #icedcoffee #icecoffee #vietnamesestyle… https://www.instagram.com/p/Bl0p7UjAS--/?utm_source=ig_twitter_share&amp;igshid=9n0pqgkhu2vt\n",
      "Food here after a long day #food #hungry #restaurant #vietnamesefood #pho @Rua Vang Vietnamese Restaurant https://www.instagram.com/p/BlzDgPIBbdg/?utm_source=ig_twitter_share&amp;igshid=1qockz2em863h\n",
      "I now have a fave neighbourhood joint. #pho #vietnamesefood #soupnoodles #ilovetripe #toronto #torontoeats @Que Ling Restaurant https://www.instagram.com/p/BlqkUG4g-10/?utm_source=ig_twitter_share&amp;igshid=nlhzrtg86n8w\n",
      "This place wins. #pho #noodles #vietnamesefood #foodporn #funny @Pho King Fabulous https://www.instagram.com/p/BllrCHBnggN/?utm_source=ig_twitter_share&amp;igshid=gxt3fw251z4g\n",
      "Bánh cuốn.... Because Authentic Vietnamese Food is more than just Phở &amp; Bánh mì @Pho Dau Bo Restaurant https://www.instagram.com/p/Bk0vs26Fk5i/?utm_source=ig_twitter_share&amp;igshid=nd8anwnr79dm\n",
      "Mango and papaya salad with charcoal grilled squid, nuoc cham, honey and toasted peanuts @HANMOTO_ Look for my review coming soon at http://www.shaneasavours.com #vietnamesefood #toreats… https://www.instagram.com/p/BkcqJaIgZQQ/?utm_source=ig_twitter_share&amp;igshid=ouy46yhyppu\n",
      "Marrow Beef, with cilantro, shiso, fried garlic, shallots, sweet soy, and pat chun vinegar reduction, served in a bone marrow @HANMOTO_ #vietnamesefood #foodiefob #zipkick… https://www.instagram.com/p/BkaJaYEhzOh/?utm_source=ig_twitter_share&amp;igshid=75ufv66g2s50\n",
      "This is ridiculously delicious. Thank you Than for the recommendation #vietnamesefood #toronto #whatsinyourbackyard #spadina #chinatown @Pho Xe Lua Vietnamese Restaurant https://www.instagram.com/p/BkY9xamB5Kd/?utm_source=ig_twitter_share&amp;igshid=laytmevjgwyf\n",
      "#Pho88 #VietnameseFood #Pho #TorontoLife… https://www.instagram.com/p/BkJyWWLA6Vi/?utm_source=ig_twitter_share&amp;igshid=1jh9c0nuim4lm\n",
      "#Pho88 #VietnameseFood #Pho #TorontoLife… https://www.instagram.com/p/BkIEpW0AfbG/?utm_source=ig_twitter_share&amp;igshid=13qezab1hw5vy\n",
      "Great lunch today @Pho Q https://goo.gl/maps/upjUigqAECU2 #localguides #food #vietnamesefood #lunch #Toronto – at Dumpling King 東北餃子王\n",
      "So pho-cking good! . . . . . #pho #vietnamesefood #toronto #blogto… https://www.instagram.com/p/BicahjeBPxG/?utm_source=twitter\n",
      "Pho is life where you sound like death. #vietnamesefood #vietfood #pho #phodacbiet… https://www.instagram.com/p/Bh0D-WUgazH/\n"
     ]
    }
   ],
   "source": [
    "for tweet in tweets[:100]:\n",
    "    print(tweet.text)"
   ]
  },
  {
   "cell_type": "code",
   "execution_count": 82,
   "metadata": {},
   "outputs": [
    {
     "name": "stdout",
     "output_type": "stream",
     "text": [
      "torontopho\n",
      "torontopho\n",
      "torontopho\n",
      "PiqueyEater\n",
      "torontopho\n",
      "torontopho\n",
      "torontopho\n",
      "torontopho\n",
      "torontopho\n"
     ]
    }
   ],
   "source": [
    "for tweet in tweets[1:10]:\n",
    "    print(tweet.username)"
   ]
  },
  {
   "cell_type": "markdown",
   "metadata": {},
   "source": [
    "Let's put out the spam:"
   ]
  },
  {
   "cell_type": "code",
   "execution_count": 149,
   "metadata": {},
   "outputs": [],
   "source": [
    "clean_tweets=[]\n",
    "clean_tweets.append(tweets[0])\n",
    "\n",
    "clean_tweet_text=[]\n",
    "clean_tweet_text.append(tweets[0].text)\n",
    "\n",
    "for tweet in tweets[1:]:\n",
    "    if tweet.text not in clean_tweet_text: \n",
    "        clean_tweets.append(tweet)\n",
    "        clean_tweet_text.append(tweet.text)\n",
    "\n"
   ]
  },
  {
   "cell_type": "code",
   "execution_count": 150,
   "metadata": {},
   "outputs": [
    {
     "name": "stdout",
     "output_type": "stream",
     "text": [
      "287\n"
     ]
    }
   ],
   "source": [
    "print(len(clean_tweets))"
   ]
  },
  {
   "cell_type": "code",
   "execution_count": 168,
   "metadata": {},
   "outputs": [],
   "source": [
    " words = [word.strip(string.punctuation) for word in tweets[0].text]"
   ]
  },
  {
   "cell_type": "code",
   "execution_count": 169,
   "metadata": {},
   "outputs": [
    {
     "name": "stdout",
     "output_type": "stream",
     "text": [
      "['Y', 'o', 'u', 'r', ' ', 'h', 'e', 'a', 'l', 't', 'h', ' ', 'i', 's', ' ', 'a', 'l', 'w', 'a', 'y', 's', ' ', 'o', 'u', 'r', ' ', 't', 'o', 'p', ' ', 'p', 'r', 'i', 'o', 'r', 'i', 't', 'y', ' ', 'w', 'h', 'i', 'c', 'h', ' ', 'i', 's', ' ', 'w', 'h', 'y', ' ', 'w', 'e', '', 'l', 'l', ' ', 'o', 'n', 'l', 'y', ' ', 'b', 'e', ' ', 'd', 'o', 'i', 'n', 'g', ' ', 't', 'a', 'k', 'e', '', 'o', 'u', 't', ' ', 'a', 'n', 'd', ' ', 'd', 'e', 'l', 'i', 'v', 'e', 'r', 'y', ' ', 'a', 't', ' ', 'a', 'l', 'l', ' ', '3', ' ', 'o', 'f', ' ', 'o', 'u', 'r', ' ', 'T', 'o', 'r', 'o', 'n', 't', 'o', 'P', 'H', 'O', ' ', 'l', 'o', 'c', 'a', 't', 'i', 'o', 'n', 's', '', ' ', 'O', 'r', 'd', 'e', 'r', ' ', 'O', 'n', 'l', 'i', 'n', 'e', '', ' ', 'h', 't', 't', 'p', '', '', '', 'w', 'w', 'w', '', 't', 'o', 'r', 'o', 'n', 't', 'o', 'p', 'h', 'o', '', 'c', 'o', 'm', ' ', '', 'T', 'o', 'r', 'o', 'n', 't', 'o', ' ', '', 't', 'a', 's', 't', 'e', 't', 'o', 'r', 'o', 'n', 't', 'o', ' ', '', 'T', 'o', 'r', 'o', 'n', 't', 'o', 'P', 'H', 'O', ' ', '', 'v', 'i', 'e', 't', 'n', 'a', 'm', 'e', 's', 'e', 'f', 'o', 'o', 'd', ' ', '', 't', 'o', 'r', 'o', 'n', 't', 'o', 'f', 'o', 'o', 'd', 'i', 'e', ' ', '', 'T', 'o', 'r', 'o', 'n', 't', 'o', 's', 'a', 'f', 'e', ' ', '', 'C', 'o', 'r', 'o', 'n', 'a', ' ', '', 'C', 'o', 'r', 'o', 'n', 'a', 'v', 'i', 'r', 'u', 's']\n"
     ]
    }
   ],
   "source": [
    "print(words)"
   ]
  },
  {
   "cell_type": "markdown",
   "metadata": {},
   "source": [
    "We will just have to merge these letters to recreate the words:"
   ]
  },
  {
   "cell_type": "code",
   "execution_count": 170,
   "metadata": {},
   "outputs": [],
   "source": [
    "indic=[]\n",
    "number=0\n",
    "for word in tweets[0].text:\n",
    "    if word==\" \":\n",
    "        indic.append(number)\n",
    "    number=number+1\n"
   ]
  },
  {
   "cell_type": "code",
   "execution_count": 171,
   "metadata": {},
   "outputs": [
    {
     "name": "stdout",
     "output_type": "stream",
     "text": [
      "[4, 11, 14, 21, 25, 29, 38, 44, 47, 51, 57, 62, 65, 71, 80, 84, 93, 96, 100, 102, 105, 109, 120, 131, 137, 145, 171, 180, 194, 206, 222, 237, 250, 258]\n"
     ]
    }
   ],
   "source": [
    "print(indic)"
   ]
  },
  {
   "cell_type": "code",
   "execution_count": 172,
   "metadata": {},
   "outputs": [],
   "source": [
    "new_word=[]\n",
    "new_word.append(''.join(words[:indic[0]]))\n",
    "for i in range(len(indic)-1):\n",
    "    new_word.append(''.join(words[indic[i]+1:indic[i+1]]))\n",
    "new_word.append(''.join(words[indic[-1]:]))\n",
    "    \n"
   ]
  },
  {
   "cell_type": "code",
   "execution_count": 173,
   "metadata": {},
   "outputs": [
    {
     "name": "stdout",
     "output_type": "stream",
     "text": [
      "['Your', 'health', 'is', 'always', 'our', 'top', 'priority', 'which', 'is', 'why', 'well', 'only', 'be', 'doing', 'takeout', 'and', 'delivery', 'at', 'all', '3', 'of', 'our', 'TorontoPHO', 'locations', 'Order', 'Online', 'httpwwwtorontophocom', 'Toronto', 'tastetoronto', 'TorontoPHO', 'vietnamesefood', 'torontofoodie', 'Torontosafe', 'Corona', ' Coronavirus']\n"
     ]
    }
   ],
   "source": [
    "print(new_word)"
   ]
  },
  {
   "cell_type": "markdown",
   "metadata": {},
   "source": [
    "So here is a new function to have a rate on the sentiments of the tweets."
   ]
  },
  {
   "cell_type": "code",
   "execution_count": 189,
   "metadata": {},
   "outputs": [],
   "source": [
    "def new_rate_sentiments(tweets, sent_dictionary):\n",
    "    scores = []\n",
    "    for clean_tweet in clean_tweets:\n",
    "        score = 0\n",
    "        words = [word.strip(string.punctuation) for word in clean_tweet.text]\n",
    "        \n",
    "        indic=[]\n",
    "        number=0\n",
    "        for word in clean_tweet.text:\n",
    "            if word==\" \":\n",
    "                indic.append(number)\n",
    "            number=number+1\n",
    "        \n",
    "        new_words=[]\n",
    "        new_words.append(''.join(words[:indic[0]]))\n",
    "        for i in range(len(indic)-1):\n",
    "            new_words.append(''.join(words[indic[i]+1:indic[i+1]]))\n",
    "        new_words.append(''.join(words[indic[-1]:]))\n",
    "        \n",
    "        \n",
    "        \n",
    "        for new_word in new_words:\n",
    "            if new_word in sent_dictionary: \n",
    "                score += sent_dictionary[new_word]\n",
    "        scores.append(score)\n",
    "    return scores"
   ]
  },
  {
   "cell_type": "code",
   "execution_count": 190,
   "metadata": {},
   "outputs": [],
   "source": [
    "sent_dictionary = build_sent_dictionary('AFINN-111.txt')\n",
    "scores = new_rate_sentiments(clean_tweets, sent_dictionary)"
   ]
  },
  {
   "cell_type": "code",
   "execution_count": 191,
   "metadata": {},
   "outputs": [
    {
     "data": {
      "image/png": "[encoded data removed]",
      "text/plain": [
       "<Figure size 432x288 with 1 Axes>"
      ]
     },
     "metadata": {
      "needs_background": "light"
     },
     "output_type": "display_data"
    }
   ],
   "source": [
    "%matplotlib inline   \n",
    "\n",
    "n, bins, patches=plt.hist(scores, bins=10)\n",
    "plt.ylabel(\"frequency\")\n",
    "plt.xlabel(\"score\")\n",
    "plt.show()"
   ]
  },
  {
   "cell_type": "code",
   "execution_count": 192,
   "metadata": {},
   "outputs": [
    {
     "name": "stdout",
     "output_type": "stream",
     "text": [
      "0.9198606271777003\n"
     ]
    }
   ],
   "source": [
    "print(np.mean(scores))"
   ]
  },
  {
   "cell_type": "markdown",
   "metadata": {},
   "source": [
    "We will do that for the other metropolis:"
   ]
  },
  {
   "cell_type": "code",
   "execution_count": 265,
   "metadata": {},
   "outputs": [],
   "source": [
    "metropolis=[\"Las Vegas, USA\",\"Toronto, Canada\",\"Phoenix, USA\",\"Charlotte, USA\",\"Calgary, Canada\",\"Pittsburg, USA\",\"Montreal, Canada\",\"Madisson, USA\",  \"Cleveland, USA\"]\n",
    "\n"
   ]
  },
  {
   "cell_type": "code",
   "execution_count": 271,
   "metadata": {},
   "outputs": [],
   "source": [
    "number_clean_tweets=[]\n",
    "mean_score=[]\n",
    "\n",
    "for city in metropolis:\n",
    "    tweet = got.manager.TweetCriteria().setQuerySearch(\"Vietnamese food\").setSince(\"2010-01-01\").setUntil(\"2020-04-22\").setNear(city).setMaxTweets(500)\n",
    "    tweets = got.manager.TweetManager.getTweets(tweet)\n",
    "    \n",
    "    \n",
    "    clean_tweets=[]\n",
    "    clean_tweets.append(tweets[0])\n",
    "    \n",
    "    clean_tweets_text=[]\n",
    "    clean_tweets_text.append(tweets[0].text)\n",
    "    \n",
    "    for tweet in tweets[1:]:\n",
    "        if tweet.text not in clean_tweets_text: \n",
    "            clean_tweets.append(tweet)\n",
    "            clean_tweets_text.append(tweet.text)\n",
    "    \n",
    "    number_clean_tweets.append(len(clean_tweets))\n",
    "    mean_score.append(np.mean(new_rate_sentiments(clean_tweets, sent_dictionary)))"
   ]
  },
  {
   "cell_type": "code",
   "execution_count": 260,
   "metadata": {},
   "outputs": [],
   "source": [
    "import pandas as pd"
   ]
  },
  {
   "cell_type": "code",
   "execution_count": 272,
   "metadata": {},
   "outputs": [],
   "source": [
    "df = pd.DataFrame({'number': number_clean_tweets, 'score': mean_score},\n",
    "                      index = [metropolis])"
   ]
  },
  {
   "cell_type": "code",
   "execution_count": 273,
   "metadata": {},
   "outputs": [
    {
     "data": {
      "text/html": [
       "<div>\n",
       "<style scoped>\n",
       "    .dataframe tbody tr th:only-of-type {\n",
       "        vertical-align: middle;\n",
       "    }\n",
       "\n",
       "    .dataframe tbody tr th {\n",
       "        vertical-align: top;\n",
       "    }\n",
       "\n",
       "    .dataframe thead th {\n",
       "        text-align: right;\n",
       "    }\n",
       "</style>\n",
       "<table border=\"1\" class=\"dataframe\">\n",
       "  <thead>\n",
       "    <tr style=\"text-align: right;\">\n",
       "      <th></th>\n",
       "      <th>number</th>\n",
       "      <th>score</th>\n",
       "    </tr>\n",
       "  </thead>\n",
       "  <tbody>\n",
       "    <tr>\n",
       "      <th>Las Vegas, USA</th>\n",
       "      <td>372</td>\n",
       "      <td>0.419355</td>\n",
       "    </tr>\n",
       "    <tr>\n",
       "      <th>Toronto, Canada</th>\n",
       "      <td>286</td>\n",
       "      <td>0.923077</td>\n",
       "    </tr>\n",
       "    <tr>\n",
       "      <th>Phoenix, USA</th>\n",
       "      <td>154</td>\n",
       "      <td>1.045455</td>\n",
       "    </tr>\n",
       "    <tr>\n",
       "      <th>Charlotte, USA</th>\n",
       "      <td>64</td>\n",
       "      <td>1.046875</td>\n",
       "    </tr>\n",
       "    <tr>\n",
       "      <th>Calgary, Canada</th>\n",
       "      <td>92</td>\n",
       "      <td>0.673913</td>\n",
       "    </tr>\n",
       "    <tr>\n",
       "      <th>Pittsburg, USA</th>\n",
       "      <td>43</td>\n",
       "      <td>0.441860</td>\n",
       "    </tr>\n",
       "    <tr>\n",
       "      <th>Montreal, Canada</th>\n",
       "      <td>65</td>\n",
       "      <td>1.153846</td>\n",
       "    </tr>\n",
       "    <tr>\n",
       "      <th>Madisson, USA</th>\n",
       "      <td>463</td>\n",
       "      <td>0.861771</td>\n",
       "    </tr>\n",
       "    <tr>\n",
       "      <th>Cleveland, USA</th>\n",
       "      <td>30</td>\n",
       "      <td>0.600000</td>\n",
       "    </tr>\n",
       "  </tbody>\n",
       "</table>\n",
       "</div>"
      ],
      "text/plain": [
       "                  number     score\n",
       "Las Vegas, USA       372  0.419355\n",
       "Toronto, Canada      286  0.923077\n",
       "Phoenix, USA         154  1.045455\n",
       "Charlotte, USA        64  1.046875\n",
       "Calgary, Canada       92  0.673913\n",
       "Pittsburg, USA        43  0.441860\n",
       "Montreal, Canada      65  1.153846\n",
       "Madisson, USA        463  0.861771\n",
       "Cleveland, USA        30  0.600000"
      ]
     },
     "execution_count": 273,
     "metadata": {},
     "output_type": "execute_result"
    }
   ],
   "source": [
    "df.head(10)"
   ]
  },
  {
   "cell_type": "markdown",
   "metadata": {},
   "source": [
    "Here we can conclude that Montreal, Phoenix or Charlotte are cities that are likely to enjoy Vietnamese food. But it is only in Phoenix that we have a significant number of tweets to analyze."
   ]
  }
 ],
 "metadata": {
  "kernelspec": {
   "display_name": "Python 3",
   "language": "python",
   "name": "python3"
  },
  "language_info": {
   "codemirror_mode": {
    "name": "ipython",
    "version": 3
   },
   "file_extension": ".py",
   "mimetype": "text/x-python",
   "name": "python",
   "nbconvert_exporter": "python",
   "pygments_lexer": "ipython3",
   "version": "3.7.3"
  }
 },
 "nbformat": 4,
 "nbformat_minor": 2
}
