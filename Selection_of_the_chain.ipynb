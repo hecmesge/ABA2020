{
 "cells": [
  {
   "cell_type": "markdown",
   "metadata": {},
   "source": [
    "# Chain selection"
   ]
  },
  {
   "cell_type": "code",
   "execution_count": 19,
   "metadata": {},
   "outputs": [],
   "source": [
    "import pandas as pd\n",
    "import numpy as np\n",
    "import matplotlib.pyplot as plt"
   ]
  },
  {
   "cell_type": "markdown",
   "metadata": {},
   "source": [
    "The file Business_Metropolis can be downloaded by running the notebook: DescripitveAnalysis Yelp Dataset inside: https://github.com/hecmesge/ABA2020"
   ]
  },
  {
   "cell_type": "code",
   "execution_count": 20,
   "metadata": {},
   "outputs": [],
   "source": [
    "business=pd.read_excel('Business-Metropolis.xlsx')"
   ]
  },
  {
   "cell_type": "markdown",
   "metadata": {},
   "source": [
    "As we said we are only working with the businesses that belong to one of our nine metropolisses."
   ]
  },
  {
   "cell_type": "code",
   "execution_count": 21,
   "metadata": {},
   "outputs": [],
   "source": [
    "business=business[business['distance metropolis']<90]"
   ]
  },
  {
   "cell_type": "markdown",
   "metadata": {},
   "source": [
    "## FILTER BY CATEGORY, RESTAURANT"
   ]
  },
  {
   "cell_type": "markdown",
   "metadata": {},
   "source": [
    "We are looking for a restaurant"
   ]
  },
  {
   "cell_type": "code",
   "execution_count": 22,
   "metadata": {},
   "outputs": [],
   "source": [
    "business=business[business['categories'].notnull()==True]\n",
    "restaurants=business[business['categories'].str.contains('Restaurants')]"
   ]
  },
  {
   "cell_type": "markdown",
   "metadata": {},
   "source": [
    " # SEARCH FOR CHAIN"
   ]
  },
  {
   "cell_type": "markdown",
   "metadata": {},
   "source": [
    "The chain must own more than one restaurant in the same city."
   ]
  },
  {
   "cell_type": "code",
   "execution_count": 43,
   "metadata": {},
   "outputs": [
    {
     "data": {
      "text/plain": [
       "Index(['McDonald's', 'Subway Restaurants', 'Burger King', 'Taco Bell',\n",
       "       'Wendy's', 'Pizza Hut', 'Subway', 'Tim Hortons', 'Domino's Pizza',\n",
       "       'KFC',\n",
       "       ...\n",
       "       'Microsoft Cafeteria', 'The Normal Restaurant and Bar', 'China Lu',\n",
       "       'Pizza La Rosa', 'Bocca On Baldwin', 'Quaker Steak and Lube',\n",
       "       'A Slice of Chicago At the Inn Zone', 'La Grange Gourmande',\n",
       "       'Royal Buffet', 'Cloves the Spice'],\n",
       "      dtype='object', length=43274)"
      ]
     },
     "execution_count": 43,
     "metadata": {},
     "output_type": "execute_result"
    }
   ],
   "source": [
    "restaurants_name=restaurants['name'].value_counts()\n",
    "\n",
    "restaurants_name=pd.DataFrame(restaurants_name)\n",
    "\n",
    "\n",
    "restaurants_name=restaurants_name.rename(columns={'name': 'number'})\n",
    "\n",
    "restaurants_name.index"
   ]
  },
  {
   "cell_type": "code",
   "execution_count": 56,
   "metadata": {},
   "outputs": [],
   "source": [
    "Interesting_restaurants=restaurants_name[restaurants_name['number'] > 3]"
   ]
  },
  {
   "cell_type": "code",
   "execution_count": 57,
   "metadata": {},
   "outputs": [],
   "source": [
    "list_restaurants=Interesting_restaurants.index"
   ]
  },
  {
   "cell_type": "code",
   "execution_count": 58,
   "metadata": {},
   "outputs": [],
   "source": [
    "restaurants_chain=restaurants[restaurants['name'].isin(list_restaurants)]"
   ]
  },
  {
   "cell_type": "code",
   "execution_count": 59,
   "metadata": {},
   "outputs": [
    {
     "data": {
      "text/plain": [
       "Int64Index([    16,     45,     88,     95,    104,    125,    166,    181,\n",
       "               192,    200,\n",
       "            ...\n",
       "            209297, 209298, 209318, 209328, 209333, 209337, 209341, 209353,\n",
       "            209356, 209361],\n",
       "           dtype='int64', length=16876)"
      ]
     },
     "execution_count": 59,
     "metadata": {},
     "output_type": "execute_result"
    }
   ],
   "source": [
    "restaurants_chain.index"
   ]
  },
  {
   "cell_type": "code",
   "execution_count": 60,
   "metadata": {},
   "outputs": [],
   "source": [
    "def is_unique(s):\n",
    "    a = s.to_numpy() # s.values (pandas<0.24)\n",
    "    return (a[0] == a[1:]).all()"
   ]
  },
  {
   "cell_type": "code",
   "execution_count": 61,
   "metadata": {},
   "outputs": [
    {
     "data": {
      "text/plain": [
       "array([\"Papa Murphy's\", \"McAlister's Deli\", 'Hot Head Burritos', ...,\n",
       "       'Saga Hibachi Steakhouse & Sushi Bar', 'Wing Warehouse',\n",
       "       'Fellinis Pizzeria'], dtype=object)"
      ]
     },
     "execution_count": 61,
     "metadata": {},
     "output_type": "execute_result"
    }
   ],
   "source": [
    "restaurants_chain['name'].unique()"
   ]
  },
  {
   "cell_type": "code",
   "execution_count": 62,
   "metadata": {},
   "outputs": [],
   "source": [
    "List_local_chain=[]\n",
    "\n",
    "for chain in restaurants_chain['name'].unique():\n",
    "    new_restaurants_chain=restaurants_chain[restaurants_chain['name']==chain]\n",
    "    \n",
    "    \n",
    "    if is_unique(new_restaurants_chain['city']):\n",
    "        List_local_chain.append(chain)\n",
    "        \n"
   ]
  },
  {
   "cell_type": "code",
   "execution_count": 63,
   "metadata": {},
   "outputs": [],
   "source": [
    "restaurants_chain=restaurants[restaurants['name'].isin(List_local_chain)]"
   ]
  },
  {
   "cell_type": "code",
   "execution_count": 64,
   "metadata": {},
   "outputs": [],
   "source": [
    "stars_restaurants_chain=restaurants_chain.groupby(['name'])['stars'].mean().reset_index()"
   ]
  },
  {
   "cell_type": "code",
   "execution_count": 65,
   "metadata": {},
   "outputs": [
    {
     "data": {
      "text/html": [
       "<div>\n",
       "<style scoped>\n",
       "    .dataframe tbody tr th:only-of-type {\n",
       "        vertical-align: middle;\n",
       "    }\n",
       "\n",
       "    .dataframe tbody tr th {\n",
       "        vertical-align: top;\n",
       "    }\n",
       "\n",
       "    .dataframe thead th {\n",
       "        text-align: right;\n",
       "    }\n",
       "</style>\n",
       "<table border=\"1\" class=\"dataframe\">\n",
       "  <thead>\n",
       "    <tr style=\"text-align: right;\">\n",
       "      <th></th>\n",
       "      <th>name</th>\n",
       "      <th>stars</th>\n",
       "    </tr>\n",
       "  </thead>\n",
       "  <tbody>\n",
       "    <tr>\n",
       "      <th>0</th>\n",
       "      <td>Ali Baba's Middle Eastern Cuisine</td>\n",
       "      <td>3.200</td>\n",
       "    </tr>\n",
       "    <tr>\n",
       "      <th>1</th>\n",
       "      <td>AmÃ©lie's French Bakery &amp; CafÃ©</td>\n",
       "      <td>4.000</td>\n",
       "    </tr>\n",
       "    <tr>\n",
       "      <th>2</th>\n",
       "      <td>Armando's Mexican Food</td>\n",
       "      <td>3.125</td>\n",
       "    </tr>\n",
       "    <tr>\n",
       "      <th>3</th>\n",
       "      <td>BRGR</td>\n",
       "      <td>2.750</td>\n",
       "    </tr>\n",
       "    <tr>\n",
       "      <th>4</th>\n",
       "      <td>Banh Mi Boys</td>\n",
       "      <td>4.250</td>\n",
       "    </tr>\n",
       "  </tbody>\n",
       "</table>\n",
       "</div>"
      ],
      "text/plain": [
       "                                name  stars\n",
       "0  Ali Baba's Middle Eastern Cuisine  3.200\n",
       "1    AmÃ©lie's French Bakery & CafÃ©  4.000\n",
       "2             Armando's Mexican Food  3.125\n",
       "3                               BRGR  2.750\n",
       "4                       Banh Mi Boys  4.250"
      ]
     },
     "execution_count": 65,
     "metadata": {},
     "output_type": "execute_result"
    }
   ],
   "source": [
    "stars_restaurants_chain.head()"
   ]
  },
  {
   "cell_type": "markdown",
   "metadata": {},
   "source": [
    "Let's sort our results by the number of stars"
   ]
  },
  {
   "cell_type": "code",
   "execution_count": 66,
   "metadata": {},
   "outputs": [],
   "source": [
    "stars_restaurants_chain=stars_restaurants_chain.sort_values(by=['stars'],ascending=False).reset_index(drop = True)"
   ]
  },
  {
   "cell_type": "code",
   "execution_count": 67,
   "metadata": {},
   "outputs": [
    {
     "data": {
      "text/html": [
       "<div>\n",
       "<style scoped>\n",
       "    .dataframe tbody tr th:only-of-type {\n",
       "        vertical-align: middle;\n",
       "    }\n",
       "\n",
       "    .dataframe tbody tr th {\n",
       "        vertical-align: top;\n",
       "    }\n",
       "\n",
       "    .dataframe thead th {\n",
       "        text-align: right;\n",
       "    }\n",
       "</style>\n",
       "<table border=\"1\" class=\"dataframe\">\n",
       "  <thead>\n",
       "    <tr style=\"text-align: right;\">\n",
       "      <th></th>\n",
       "      <th>name</th>\n",
       "      <th>stars</th>\n",
       "    </tr>\n",
       "  </thead>\n",
       "  <tbody>\n",
       "    <tr>\n",
       "      <th>0</th>\n",
       "      <td>Istanbul Grille</td>\n",
       "      <td>4.500000</td>\n",
       "    </tr>\n",
       "    <tr>\n",
       "      <th>1</th>\n",
       "      <td>Sweet PokÃ©</td>\n",
       "      <td>4.500000</td>\n",
       "    </tr>\n",
       "    <tr>\n",
       "      <th>2</th>\n",
       "      <td>Banh Mi Boys</td>\n",
       "      <td>4.250000</td>\n",
       "    </tr>\n",
       "    <tr>\n",
       "      <th>3</th>\n",
       "      <td>Braddah's Island Style</td>\n",
       "      <td>4.250000</td>\n",
       "    </tr>\n",
       "    <tr>\n",
       "      <th>4</th>\n",
       "      <td>Jimmy's Coffee</td>\n",
       "      <td>4.200000</td>\n",
       "    </tr>\n",
       "    <tr>\n",
       "      <th>5</th>\n",
       "      <td>Ravi Soups</td>\n",
       "      <td>4.200000</td>\n",
       "    </tr>\n",
       "    <tr>\n",
       "      <th>6</th>\n",
       "      <td>Rosso Coffee Roasters</td>\n",
       "      <td>4.200000</td>\n",
       "    </tr>\n",
       "    <tr>\n",
       "      <th>7</th>\n",
       "      <td>La PanthÃ¨re Verte</td>\n",
       "      <td>4.071429</td>\n",
       "    </tr>\n",
       "    <tr>\n",
       "      <th>8</th>\n",
       "      <td>La Pasadita Hot Dogs</td>\n",
       "      <td>4.000000</td>\n",
       "    </tr>\n",
       "    <tr>\n",
       "      <th>9</th>\n",
       "      <td>Rolltation</td>\n",
       "      <td>4.000000</td>\n",
       "    </tr>\n",
       "    <tr>\n",
       "      <th>10</th>\n",
       "      <td>Ghazale</td>\n",
       "      <td>4.000000</td>\n",
       "    </tr>\n",
       "    <tr>\n",
       "      <th>11</th>\n",
       "      <td>Distill - A Local Bar</td>\n",
       "      <td>4.000000</td>\n",
       "    </tr>\n",
       "    <tr>\n",
       "      <th>12</th>\n",
       "      <td>AmÃ©lie's French Bakery &amp; CafÃ©</td>\n",
       "      <td>4.000000</td>\n",
       "    </tr>\n",
       "    <tr>\n",
       "      <th>13</th>\n",
       "      <td>Bowlology</td>\n",
       "      <td>4.000000</td>\n",
       "    </tr>\n",
       "    <tr>\n",
       "      <th>14</th>\n",
       "      <td>Peppi's</td>\n",
       "      <td>4.000000</td>\n",
       "    </tr>\n",
       "  </tbody>\n",
       "</table>\n",
       "</div>"
      ],
      "text/plain": [
       "                               name     stars\n",
       "0                   Istanbul Grille  4.500000\n",
       "1                       Sweet PokÃ©  4.500000\n",
       "2                      Banh Mi Boys  4.250000\n",
       "3            Braddah's Island Style  4.250000\n",
       "4                    Jimmy's Coffee  4.200000\n",
       "5                        Ravi Soups  4.200000\n",
       "6             Rosso Coffee Roasters  4.200000\n",
       "7                La PanthÃ¨re Verte  4.071429\n",
       "8              La Pasadita Hot Dogs  4.000000\n",
       "9                        Rolltation  4.000000\n",
       "10                          Ghazale  4.000000\n",
       "11            Distill - A Local Bar  4.000000\n",
       "12  AmÃ©lie's French Bakery & CafÃ©  4.000000\n",
       "13                        Bowlology  4.000000\n",
       "14                          Peppi's  4.000000"
      ]
     },
     "execution_count": 67,
     "metadata": {},
     "output_type": "execute_result"
    }
   ],
   "source": [
    "stars_restaurants_chain.head(15)"
   ]
  },
  {
   "cell_type": "code",
   "execution_count": 68,
   "metadata": {},
   "outputs": [
    {
     "data": {
      "text/html": [
       "<div>\n",
       "<style scoped>\n",
       "    .dataframe tbody tr th:only-of-type {\n",
       "        vertical-align: middle;\n",
       "    }\n",
       "\n",
       "    .dataframe tbody tr th {\n",
       "        vertical-align: top;\n",
       "    }\n",
       "\n",
       "    .dataframe thead th {\n",
       "        text-align: right;\n",
       "    }\n",
       "</style>\n",
       "<table border=\"1\" class=\"dataframe\">\n",
       "  <thead>\n",
       "    <tr style=\"text-align: right;\">\n",
       "      <th></th>\n",
       "      <th>address</th>\n",
       "      <th>attributes</th>\n",
       "      <th>business_id</th>\n",
       "      <th>categories</th>\n",
       "      <th>city</th>\n",
       "      <th>hours</th>\n",
       "      <th>is_open</th>\n",
       "      <th>latitude</th>\n",
       "      <th>longitude</th>\n",
       "      <th>name</th>\n",
       "      <th>postal_code</th>\n",
       "      <th>review_count</th>\n",
       "      <th>stars</th>\n",
       "      <th>state</th>\n",
       "      <th>metropolis</th>\n",
       "      <th>distance metropolis</th>\n",
       "    </tr>\n",
       "  </thead>\n",
       "  <tbody>\n",
       "    <tr>\n",
       "      <th>84027</th>\n",
       "      <td>305 N Craig St</td>\n",
       "      <td>{'Alcohol': \"u'none'\", 'RestaurantsPriceRange2...</td>\n",
       "      <td>RyZ3dMJWuFMs2S7zw2C0Zg</td>\n",
       "      <td>Restaurants, Turkish, Middle Eastern</td>\n",
       "      <td>Pittsburgh</td>\n",
       "      <td>{'Monday': '11:0-22:0', 'Tuesday': '11:0-22:0'...</td>\n",
       "      <td>0</td>\n",
       "      <td>40.452039</td>\n",
       "      <td>-79.952326</td>\n",
       "      <td>Istanbul Grille</td>\n",
       "      <td>15213</td>\n",
       "      <td>6</td>\n",
       "      <td>4.5</td>\n",
       "      <td>PA</td>\n",
       "      <td>Pittsburgh</td>\n",
       "      <td>0.0</td>\n",
       "    </tr>\n",
       "    <tr>\n",
       "      <th>85165</th>\n",
       "      <td>1103 S Braddock Ave</td>\n",
       "      <td>{'RestaurantsDelivery': 'False', 'Alcohol': \"u...</td>\n",
       "      <td>-U_0rpIpGpOi-tokc91HUQ</td>\n",
       "      <td>Mediterranean, Restaurants, Modern European, T...</td>\n",
       "      <td>Pittsburgh</td>\n",
       "      <td>{'Monday': '17:0-22:0', 'Wednesday': '17:0-22:...</td>\n",
       "      <td>1</td>\n",
       "      <td>40.432800</td>\n",
       "      <td>-79.893771</td>\n",
       "      <td>Istanbul Grille</td>\n",
       "      <td>15218</td>\n",
       "      <td>120</td>\n",
       "      <td>4.5</td>\n",
       "      <td>PA</td>\n",
       "      <td>Pittsburgh</td>\n",
       "      <td>0.0</td>\n",
       "    </tr>\n",
       "    <tr>\n",
       "      <th>87656</th>\n",
       "      <td>673 Liberty Ave</td>\n",
       "      <td>{'GoodForKids': 'False', 'RestaurantsPriceRang...</td>\n",
       "      <td>v3rXLmTCX6ZFR6kIYTY2fg</td>\n",
       "      <td>Middle Eastern, Mediterranean, Restaurants, Tu...</td>\n",
       "      <td>Pittsburgh</td>\n",
       "      <td>{'Monday': '11:0-19:0', 'Tuesday': '11:0-19:0'...</td>\n",
       "      <td>0</td>\n",
       "      <td>40.442362</td>\n",
       "      <td>-80.000202</td>\n",
       "      <td>Istanbul Grille</td>\n",
       "      <td>15222</td>\n",
       "      <td>44</td>\n",
       "      <td>4.5</td>\n",
       "      <td>PA</td>\n",
       "      <td>Pittsburgh</td>\n",
       "      <td>0.0</td>\n",
       "    </tr>\n",
       "    <tr>\n",
       "      <th>88393</th>\n",
       "      <td>339 Sixth Ave</td>\n",
       "      <td>{'RestaurantsAttire': \"'casual'\", 'BusinessAcc...</td>\n",
       "      <td>GNa1y5-b7u_5ary42o8-LQ</td>\n",
       "      <td>Restaurants, Delis, Turkish</td>\n",
       "      <td>Pittsburgh</td>\n",
       "      <td>{'Monday': '11:0-14:0', 'Tuesday': '11:0-14:0'...</td>\n",
       "      <td>1</td>\n",
       "      <td>40.441672</td>\n",
       "      <td>-79.997990</td>\n",
       "      <td>Istanbul Grille</td>\n",
       "      <td>15215</td>\n",
       "      <td>22</td>\n",
       "      <td>4.5</td>\n",
       "      <td>PA</td>\n",
       "      <td>Pittsburgh</td>\n",
       "      <td>0.0</td>\n",
       "    </tr>\n",
       "  </tbody>\n",
       "</table>\n",
       "</div>"
      ],
      "text/plain": [
       "                   address                                         attributes  \\\n",
       "84027       305 N Craig St  {'Alcohol': \"u'none'\", 'RestaurantsPriceRange2...   \n",
       "85165  1103 S Braddock Ave  {'RestaurantsDelivery': 'False', 'Alcohol': \"u...   \n",
       "87656      673 Liberty Ave  {'GoodForKids': 'False', 'RestaurantsPriceRang...   \n",
       "88393        339 Sixth Ave  {'RestaurantsAttire': \"'casual'\", 'BusinessAcc...   \n",
       "\n",
       "                  business_id  \\\n",
       "84027  RyZ3dMJWuFMs2S7zw2C0Zg   \n",
       "85165  -U_0rpIpGpOi-tokc91HUQ   \n",
       "87656  v3rXLmTCX6ZFR6kIYTY2fg   \n",
       "88393  GNa1y5-b7u_5ary42o8-LQ   \n",
       "\n",
       "                                              categories        city  \\\n",
       "84027               Restaurants, Turkish, Middle Eastern  Pittsburgh   \n",
       "85165  Mediterranean, Restaurants, Modern European, T...  Pittsburgh   \n",
       "87656  Middle Eastern, Mediterranean, Restaurants, Tu...  Pittsburgh   \n",
       "88393                        Restaurants, Delis, Turkish  Pittsburgh   \n",
       "\n",
       "                                                   hours  is_open   latitude  \\\n",
       "84027  {'Monday': '11:0-22:0', 'Tuesday': '11:0-22:0'...        0  40.452039   \n",
       "85165  {'Monday': '17:0-22:0', 'Wednesday': '17:0-22:...        1  40.432800   \n",
       "87656  {'Monday': '11:0-19:0', 'Tuesday': '11:0-19:0'...        0  40.442362   \n",
       "88393  {'Monday': '11:0-14:0', 'Tuesday': '11:0-14:0'...        1  40.441672   \n",
       "\n",
       "       longitude             name postal_code  review_count  stars state  \\\n",
       "84027 -79.952326  Istanbul Grille       15213             6    4.5    PA   \n",
       "85165 -79.893771  Istanbul Grille       15218           120    4.5    PA   \n",
       "87656 -80.000202  Istanbul Grille       15222            44    4.5    PA   \n",
       "88393 -79.997990  Istanbul Grille       15215            22    4.5    PA   \n",
       "\n",
       "       metropolis  distance metropolis  \n",
       "84027  Pittsburgh                  0.0  \n",
       "85165  Pittsburgh                  0.0  \n",
       "87656  Pittsburgh                  0.0  \n",
       "88393  Pittsburgh                  0.0  "
      ]
     },
     "execution_count": 68,
     "metadata": {},
     "output_type": "execute_result"
    }
   ],
   "source": [
    "business_1=restaurants[restaurants['name']=='Istanbul Grille']\n",
    "business_1.head(10)"
   ]
  },
  {
   "cell_type": "markdown",
   "metadata": {},
   "source": [
    "Unfortunately, tis one doesn't have a lot of reviews even if the stars are quite hight."
   ]
  },
  {
   "cell_type": "code",
   "execution_count": 69,
   "metadata": {},
   "outputs": [
    {
     "data": {
      "text/html": [
       "<div>\n",
       "<style scoped>\n",
       "    .dataframe tbody tr th:only-of-type {\n",
       "        vertical-align: middle;\n",
       "    }\n",
       "\n",
       "    .dataframe tbody tr th {\n",
       "        vertical-align: top;\n",
       "    }\n",
       "\n",
       "    .dataframe thead th {\n",
       "        text-align: right;\n",
       "    }\n",
       "</style>\n",
       "<table border=\"1\" class=\"dataframe\">\n",
       "  <thead>\n",
       "    <tr style=\"text-align: right;\">\n",
       "      <th></th>\n",
       "      <th>address</th>\n",
       "      <th>attributes</th>\n",
       "      <th>business_id</th>\n",
       "      <th>categories</th>\n",
       "      <th>city</th>\n",
       "      <th>hours</th>\n",
       "      <th>is_open</th>\n",
       "      <th>latitude</th>\n",
       "      <th>longitude</th>\n",
       "      <th>name</th>\n",
       "      <th>postal_code</th>\n",
       "      <th>review_count</th>\n",
       "      <th>stars</th>\n",
       "      <th>state</th>\n",
       "      <th>metropolis</th>\n",
       "      <th>distance metropolis</th>\n",
       "    </tr>\n",
       "  </thead>\n",
       "  <tbody>\n",
       "    <tr>\n",
       "      <th>22620</th>\n",
       "      <td>7965 S Rainbow Blvd, Ste 135</td>\n",
       "      <td>{'GoodForKids': 'True', 'BikeParking': 'True',...</td>\n",
       "      <td>eiTWTVThkHr-DKXxIysbgA</td>\n",
       "      <td>Japanese, Asian Fusion, Food, Hawaiian, Restau...</td>\n",
       "      <td>Las Vegas</td>\n",
       "      <td>{'Monday': '11:0-22:0', 'Tuesday': '11:0-22:0'...</td>\n",
       "      <td>1</td>\n",
       "      <td>36.043750</td>\n",
       "      <td>-115.243965</td>\n",
       "      <td>Sweet PokÃ©</td>\n",
       "      <td>89139</td>\n",
       "      <td>318</td>\n",
       "      <td>4.5</td>\n",
       "      <td>NV</td>\n",
       "      <td>Las Vegas</td>\n",
       "      <td>0.0</td>\n",
       "    </tr>\n",
       "    <tr>\n",
       "      <th>40620</th>\n",
       "      <td>9255 S Eastern Ave, Ste 340-5</td>\n",
       "      <td>{'RestaurantsTableService': 'False', 'GoodForK...</td>\n",
       "      <td>rbQOcy2n8dBPpm5ua3VU_Q</td>\n",
       "      <td>Sushi Bars, Hawaiian, Restaurants, Poke, Food,...</td>\n",
       "      <td>Las Vegas</td>\n",
       "      <td>{'Monday': '11:0-22:0', 'Tuesday': '11:0-22:0'...</td>\n",
       "      <td>1</td>\n",
       "      <td>36.021154</td>\n",
       "      <td>-115.119148</td>\n",
       "      <td>Sweet PokÃ©</td>\n",
       "      <td>89123</td>\n",
       "      <td>198</td>\n",
       "      <td>4.5</td>\n",
       "      <td>NV</td>\n",
       "      <td>Las Vegas</td>\n",
       "      <td>0.0</td>\n",
       "    </tr>\n",
       "    <tr>\n",
       "      <th>42467</th>\n",
       "      <td>4680 S Maryland Pkwy, Ste 300</td>\n",
       "      <td>{'OutdoorSeating': 'False', 'Alcohol': \"u'none...</td>\n",
       "      <td>EyoTq9dd4oKXhXND_imOzA</td>\n",
       "      <td>Asian Fusion, Hawaiian, Restaurants, Sushi Bars</td>\n",
       "      <td>Las Vegas</td>\n",
       "      <td>{'Monday': '11:0-21:0', 'Tuesday': '11:0-21:0'...</td>\n",
       "      <td>1</td>\n",
       "      <td>36.104391</td>\n",
       "      <td>-115.136713</td>\n",
       "      <td>Sweet PokÃ©</td>\n",
       "      <td>89119</td>\n",
       "      <td>111</td>\n",
       "      <td>4.5</td>\n",
       "      <td>NV</td>\n",
       "      <td>Las Vegas</td>\n",
       "      <td>0.0</td>\n",
       "    </tr>\n",
       "    <tr>\n",
       "      <th>44554</th>\n",
       "      <td>5655 Centennial Center Blvd, Ste 120</td>\n",
       "      <td>{'Ambience': \"{'romantic': False, 'intimate': ...</td>\n",
       "      <td>9UVkAmyodpaSBm49DBKFNw</td>\n",
       "      <td>Restaurants, Asian Fusion, Japanese, Seafood, ...</td>\n",
       "      <td>Las Vegas</td>\n",
       "      <td>{'Monday': '0:0-0:0', 'Tuesday': '11:0-22:0', ...</td>\n",
       "      <td>1</td>\n",
       "      <td>36.264618</td>\n",
       "      <td>-115.257566</td>\n",
       "      <td>Sweet PokÃ©</td>\n",
       "      <td>89149</td>\n",
       "      <td>460</td>\n",
       "      <td>4.5</td>\n",
       "      <td>NV</td>\n",
       "      <td>Las Vegas</td>\n",
       "      <td>0.0</td>\n",
       "    </tr>\n",
       "  </tbody>\n",
       "</table>\n",
       "</div>"
      ],
      "text/plain": [
       "                                    address  \\\n",
       "22620          7965 S Rainbow Blvd, Ste 135   \n",
       "40620         9255 S Eastern Ave, Ste 340-5   \n",
       "42467         4680 S Maryland Pkwy, Ste 300   \n",
       "44554  5655 Centennial Center Blvd, Ste 120   \n",
       "\n",
       "                                              attributes  \\\n",
       "22620  {'GoodForKids': 'True', 'BikeParking': 'True',...   \n",
       "40620  {'RestaurantsTableService': 'False', 'GoodForK...   \n",
       "42467  {'OutdoorSeating': 'False', 'Alcohol': \"u'none...   \n",
       "44554  {'Ambience': \"{'romantic': False, 'intimate': ...   \n",
       "\n",
       "                  business_id  \\\n",
       "22620  eiTWTVThkHr-DKXxIysbgA   \n",
       "40620  rbQOcy2n8dBPpm5ua3VU_Q   \n",
       "42467  EyoTq9dd4oKXhXND_imOzA   \n",
       "44554  9UVkAmyodpaSBm49DBKFNw   \n",
       "\n",
       "                                              categories       city  \\\n",
       "22620  Japanese, Asian Fusion, Food, Hawaiian, Restau...  Las Vegas   \n",
       "40620  Sushi Bars, Hawaiian, Restaurants, Poke, Food,...  Las Vegas   \n",
       "42467    Asian Fusion, Hawaiian, Restaurants, Sushi Bars  Las Vegas   \n",
       "44554  Restaurants, Asian Fusion, Japanese, Seafood, ...  Las Vegas   \n",
       "\n",
       "                                                   hours  is_open   latitude  \\\n",
       "22620  {'Monday': '11:0-22:0', 'Tuesday': '11:0-22:0'...        1  36.043750   \n",
       "40620  {'Monday': '11:0-22:0', 'Tuesday': '11:0-22:0'...        1  36.021154   \n",
       "42467  {'Monday': '11:0-21:0', 'Tuesday': '11:0-21:0'...        1  36.104391   \n",
       "44554  {'Monday': '0:0-0:0', 'Tuesday': '11:0-22:0', ...        1  36.264618   \n",
       "\n",
       "        longitude         name postal_code  review_count  stars state  \\\n",
       "22620 -115.243965  Sweet PokÃ©       89139           318    4.5    NV   \n",
       "40620 -115.119148  Sweet PokÃ©       89123           198    4.5    NV   \n",
       "42467 -115.136713  Sweet PokÃ©       89119           111    4.5    NV   \n",
       "44554 -115.257566  Sweet PokÃ©       89149           460    4.5    NV   \n",
       "\n",
       "      metropolis  distance metropolis  \n",
       "22620  Las Vegas                  0.0  \n",
       "40620  Las Vegas                  0.0  \n",
       "42467  Las Vegas                  0.0  \n",
       "44554  Las Vegas                  0.0  "
      ]
     },
     "execution_count": 69,
     "metadata": {},
     "output_type": "execute_result"
    }
   ],
   "source": [
    "business_2=restaurants[restaurants['name']=='Sweet PokÃ©']\n",
    "business_2.head(10)"
   ]
  },
  {
   "cell_type": "markdown",
   "metadata": {},
   "source": [
    "This one could be a good candidate but the city of Las Vegas doesn't behave as the other cities. SO we will not consider this chain because the success in Las Vegas is hardly exportable."
   ]
  },
  {
   "cell_type": "code",
   "execution_count": 70,
   "metadata": {},
   "outputs": [
    {
     "data": {
      "text/html": [
       "<div>\n",
       "<style scoped>\n",
       "    .dataframe tbody tr th:only-of-type {\n",
       "        vertical-align: middle;\n",
       "    }\n",
       "\n",
       "    .dataframe tbody tr th {\n",
       "        vertical-align: top;\n",
       "    }\n",
       "\n",
       "    .dataframe thead th {\n",
       "        text-align: right;\n",
       "    }\n",
       "</style>\n",
       "<table border=\"1\" class=\"dataframe\">\n",
       "  <thead>\n",
       "    <tr style=\"text-align: right;\">\n",
       "      <th></th>\n",
       "      <th>address</th>\n",
       "      <th>attributes</th>\n",
       "      <th>business_id</th>\n",
       "      <th>categories</th>\n",
       "      <th>city</th>\n",
       "      <th>hours</th>\n",
       "      <th>is_open</th>\n",
       "      <th>latitude</th>\n",
       "      <th>longitude</th>\n",
       "      <th>name</th>\n",
       "      <th>postal_code</th>\n",
       "      <th>review_count</th>\n",
       "      <th>stars</th>\n",
       "      <th>state</th>\n",
       "      <th>metropolis</th>\n",
       "      <th>distance metropolis</th>\n",
       "    </tr>\n",
       "  </thead>\n",
       "  <tbody>\n",
       "    <tr>\n",
       "      <th>60725</th>\n",
       "      <td>399 Yonge Street</td>\n",
       "      <td>{'RestaurantsPriceRange2': '1', 'Alcohol': \"u'...</td>\n",
       "      <td>ttuEwktrkmh3TUlSFPZqAA</td>\n",
       "      <td>Vietnamese, Asian Fusion, Restaurants</td>\n",
       "      <td>Toronto</td>\n",
       "      <td>{'Monday': '11:0-22:0', 'Tuesday': '11:0-22:0'...</td>\n",
       "      <td>1</td>\n",
       "      <td>43.659097</td>\n",
       "      <td>-79.382078</td>\n",
       "      <td>Banh Mi Boys</td>\n",
       "      <td>M5B</td>\n",
       "      <td>483</td>\n",
       "      <td>4.0</td>\n",
       "      <td>ON</td>\n",
       "      <td>Toronto</td>\n",
       "      <td>0.0</td>\n",
       "    </tr>\n",
       "    <tr>\n",
       "      <th>62747</th>\n",
       "      <td>2365 Yonge Street</td>\n",
       "      <td>{'OutdoorSeating': 'False', 'RestaurantsAttire...</td>\n",
       "      <td>ZhACHVw9k438Z3i-Gw9BHA</td>\n",
       "      <td>Vietnamese, Asian Fusion, Restaurants</td>\n",
       "      <td>Toronto</td>\n",
       "      <td>{'Monday': '11:0-22:0', 'Tuesday': '11:0-22:0'...</td>\n",
       "      <td>1</td>\n",
       "      <td>43.709246</td>\n",
       "      <td>-79.398444</td>\n",
       "      <td>Banh Mi Boys</td>\n",
       "      <td>M4P 3J6</td>\n",
       "      <td>108</td>\n",
       "      <td>4.0</td>\n",
       "      <td>ON</td>\n",
       "      <td>Toronto</td>\n",
       "      <td>0.0</td>\n",
       "    </tr>\n",
       "    <tr>\n",
       "      <th>71655</th>\n",
       "      <td>392 Queen Street W</td>\n",
       "      <td>{'Alcohol': \"u'none'\", 'BikeParking': 'True', ...</td>\n",
       "      <td>N93EYZy9R0sdlEvubu94ig</td>\n",
       "      <td>Sandwiches, Restaurants, Food, Vietnamese, Asi...</td>\n",
       "      <td>Toronto</td>\n",
       "      <td>{'Monday': '11:0-22:0', 'Tuesday': '11:0-22:0'...</td>\n",
       "      <td>1</td>\n",
       "      <td>43.648827</td>\n",
       "      <td>-79.396970</td>\n",
       "      <td>Banh Mi Boys</td>\n",
       "      <td>M5V 2A9</td>\n",
       "      <td>1097</td>\n",
       "      <td>4.5</td>\n",
       "      <td>ON</td>\n",
       "      <td>Toronto</td>\n",
       "      <td>0.0</td>\n",
       "    </tr>\n",
       "    <tr>\n",
       "      <th>72373</th>\n",
       "      <td>95 The Pond Road, C2 Unit 10</td>\n",
       "      <td>{'RestaurantsReservations': 'False', 'Restaura...</td>\n",
       "      <td>BUBGQiHeHhLDALQm8Q4u1w</td>\n",
       "      <td>Sandwiches, Restaurants</td>\n",
       "      <td>Toronto</td>\n",
       "      <td>{'Monday': '11:0-22:0', 'Tuesday': '11:0-22:0'...</td>\n",
       "      <td>1</td>\n",
       "      <td>43.770245</td>\n",
       "      <td>-79.500580</td>\n",
       "      <td>Banh Mi Boys</td>\n",
       "      <td>M3J 2S5</td>\n",
       "      <td>13</td>\n",
       "      <td>4.5</td>\n",
       "      <td>ON</td>\n",
       "      <td>Toronto</td>\n",
       "      <td>0.0</td>\n",
       "    </tr>\n",
       "  </tbody>\n",
       "</table>\n",
       "</div>"
      ],
      "text/plain": [
       "                            address  \\\n",
       "60725              399 Yonge Street   \n",
       "62747             2365 Yonge Street   \n",
       "71655            392 Queen Street W   \n",
       "72373  95 The Pond Road, C2 Unit 10   \n",
       "\n",
       "                                              attributes  \\\n",
       "60725  {'RestaurantsPriceRange2': '1', 'Alcohol': \"u'...   \n",
       "62747  {'OutdoorSeating': 'False', 'RestaurantsAttire...   \n",
       "71655  {'Alcohol': \"u'none'\", 'BikeParking': 'True', ...   \n",
       "72373  {'RestaurantsReservations': 'False', 'Restaura...   \n",
       "\n",
       "                  business_id  \\\n",
       "60725  ttuEwktrkmh3TUlSFPZqAA   \n",
       "62747  ZhACHVw9k438Z3i-Gw9BHA   \n",
       "71655  N93EYZy9R0sdlEvubu94ig   \n",
       "72373  BUBGQiHeHhLDALQm8Q4u1w   \n",
       "\n",
       "                                              categories     city  \\\n",
       "60725              Vietnamese, Asian Fusion, Restaurants  Toronto   \n",
       "62747              Vietnamese, Asian Fusion, Restaurants  Toronto   \n",
       "71655  Sandwiches, Restaurants, Food, Vietnamese, Asi...  Toronto   \n",
       "72373                            Sandwiches, Restaurants  Toronto   \n",
       "\n",
       "                                                   hours  is_open   latitude  \\\n",
       "60725  {'Monday': '11:0-22:0', 'Tuesday': '11:0-22:0'...        1  43.659097   \n",
       "62747  {'Monday': '11:0-22:0', 'Tuesday': '11:0-22:0'...        1  43.709246   \n",
       "71655  {'Monday': '11:0-22:0', 'Tuesday': '11:0-22:0'...        1  43.648827   \n",
       "72373  {'Monday': '11:0-22:0', 'Tuesday': '11:0-22:0'...        1  43.770245   \n",
       "\n",
       "       longitude          name postal_code  review_count  stars state  \\\n",
       "60725 -79.382078  Banh Mi Boys         M5B           483    4.0    ON   \n",
       "62747 -79.398444  Banh Mi Boys     M4P 3J6           108    4.0    ON   \n",
       "71655 -79.396970  Banh Mi Boys     M5V 2A9          1097    4.5    ON   \n",
       "72373 -79.500580  Banh Mi Boys     M3J 2S5            13    4.5    ON   \n",
       "\n",
       "      metropolis  distance metropolis  \n",
       "60725    Toronto                  0.0  \n",
       "62747    Toronto                  0.0  \n",
       "71655    Toronto                  0.0  \n",
       "72373    Toronto                  0.0  "
      ]
     },
     "execution_count": 70,
     "metadata": {},
     "output_type": "execute_result"
    }
   ],
   "source": [
    "business_3=restaurants[restaurants['name']=='Banh Mi Boys']\n",
    "business_3.head(10)"
   ]
  },
  {
   "cell_type": "markdown",
   "metadata": {},
   "source": [
    "This one, \"Banh Mi Boys\" in Toronto is very interesting, we have many reviews, a really good stars score and this chain restaurant is only present in Toronto. (after some researches in Google). Indeed, the fact that one chain is only present in one city in our dataset doesn't imply that this chain is only present in one city in North America. It is due to the fact that our dataset is only represent nine metropolisses."
   ]
  }
 ],
 "metadata": {
  "kernelspec": {
   "display_name": "Python 3",
   "language": "python",
   "name": "python3"
  },
  "language_info": {
   "codemirror_mode": {
    "name": "ipython",
    "version": 3
   },
   "file_extension": ".py",
   "mimetype": "text/x-python",
   "name": "python",
   "nbconvert_exporter": "python",
   "pygments_lexer": "ipython3",
   "version": "3.7.3"
  }
 },
 "nbformat": 4,
 "nbformat_minor": 2
}
