{
 "cells": [
  {
   "cell_type": "markdown",
   "metadata": {},
   "source": [
    "## NEURAL NETWORK MODEL TO PREDICT IF A RESTAURANT WILL BE GOOD OR BAD"
   ]
  },
  {
   "cell_type": "markdown",
   "metadata": {},
   "source": [
    "In this section, we will investigate which features are the most important in order to classify a restaurant into good or bad regarding Yelp's reviews. The aim of this analysis is to know which attributes for a restaurant are more valued in the city of Phoenix as a potential market."
   ]
  },
  {
   "cell_type": "code",
   "execution_count": null,
   "metadata": {},
   "outputs": [],
   "source": [
    "import pandas as pd\n",
    "import numpy as np\n",
    "import matplotlib.pyplot as plt"
   ]
  },
  {
   "cell_type": "code",
   "execution_count": 2,
   "metadata": {},
   "outputs": [],
   "source": [
    "restaurants=pd.read_csv('cleaned_restaurants.csv')"
   ]
  },
  {
   "cell_type": "code",
   "execution_count": 3,
   "metadata": {
    "scrolled": true
   },
   "outputs": [
    {
     "data": {
      "text/html": [
       "<div>\n",
       "<style scoped>\n",
       "    .dataframe tbody tr th:only-of-type {\n",
       "        vertical-align: middle;\n",
       "    }\n",
       "\n",
       "    .dataframe tbody tr th {\n",
       "        vertical-align: top;\n",
       "    }\n",
       "\n",
       "    .dataframe thead th {\n",
       "        text-align: right;\n",
       "    }\n",
       "</style>\n",
       "<table border=\"1\" class=\"dataframe\">\n",
       "  <thead>\n",
       "    <tr style=\"text-align: right;\">\n",
       "      <th></th>\n",
       "      <th>Unnamed: 0</th>\n",
       "      <th>index</th>\n",
       "      <th>RestaurantsTakeOut</th>\n",
       "      <th>BusinessAcceptsCreditCards</th>\n",
       "      <th>NoiseLevel</th>\n",
       "      <th>GoodForKids</th>\n",
       "      <th>RestaurantsReservations</th>\n",
       "      <th>RestaurantsGoodForGroups</th>\n",
       "      <th>RestaurantsPriceRange2</th>\n",
       "      <th>HasTV</th>\n",
       "      <th>...</th>\n",
       "      <th>city</th>\n",
       "      <th>hours</th>\n",
       "      <th>is_open</th>\n",
       "      <th>latitude</th>\n",
       "      <th>longitude</th>\n",
       "      <th>name</th>\n",
       "      <th>postal_code</th>\n",
       "      <th>review_count</th>\n",
       "      <th>stars</th>\n",
       "      <th>state</th>\n",
       "    </tr>\n",
       "  </thead>\n",
       "  <tbody>\n",
       "    <tr>\n",
       "      <th>0</th>\n",
       "      <td>0</td>\n",
       "      <td>8</td>\n",
       "      <td>1</td>\n",
       "      <td>1</td>\n",
       "      <td>-1</td>\n",
       "      <td>0</td>\n",
       "      <td>0</td>\n",
       "      <td>0</td>\n",
       "      <td>1</td>\n",
       "      <td>1</td>\n",
       "      <td>...</td>\n",
       "      <td>Champaign</td>\n",
       "      <td>{'Monday': '11:30-14:30', 'Tuesday': '11:30-14...</td>\n",
       "      <td>1</td>\n",
       "      <td>40.110446</td>\n",
       "      <td>-88.233073</td>\n",
       "      <td>The Empanadas House</td>\n",
       "      <td>61820</td>\n",
       "      <td>5</td>\n",
       "      <td>4.5</td>\n",
       "      <td>IL</td>\n",
       "    </tr>\n",
       "    <tr>\n",
       "      <th>1</th>\n",
       "      <td>1</td>\n",
       "      <td>20</td>\n",
       "      <td>1</td>\n",
       "      <td>1</td>\n",
       "      <td>0</td>\n",
       "      <td>1</td>\n",
       "      <td>0</td>\n",
       "      <td>1</td>\n",
       "      <td>1</td>\n",
       "      <td>0</td>\n",
       "      <td>...</td>\n",
       "      <td>Charlotte</td>\n",
       "      <td>0</td>\n",
       "      <td>0</td>\n",
       "      <td>35.194894</td>\n",
       "      <td>-80.767442</td>\n",
       "      <td>Middle East Deli</td>\n",
       "      <td>28205</td>\n",
       "      <td>5</td>\n",
       "      <td>3.0</td>\n",
       "      <td>NC</td>\n",
       "    </tr>\n",
       "    <tr>\n",
       "      <th>2</th>\n",
       "      <td>2</td>\n",
       "      <td>24</td>\n",
       "      <td>1</td>\n",
       "      <td>0</td>\n",
       "      <td>0</td>\n",
       "      <td>0</td>\n",
       "      <td>0</td>\n",
       "      <td>0</td>\n",
       "      <td>0</td>\n",
       "      <td>1</td>\n",
       "      <td>...</td>\n",
       "      <td>Aurora</td>\n",
       "      <td>{'Monday': '11:0-22:0', 'Tuesday': '11:0-22:0'...</td>\n",
       "      <td>1</td>\n",
       "      <td>44.010962</td>\n",
       "      <td>-79.448677</td>\n",
       "      <td>Philthy Phillys</td>\n",
       "      <td>L4G 7J1</td>\n",
       "      <td>4</td>\n",
       "      <td>4.5</td>\n",
       "      <td>ON</td>\n",
       "    </tr>\n",
       "    <tr>\n",
       "      <th>3</th>\n",
       "      <td>3</td>\n",
       "      <td>25</td>\n",
       "      <td>1</td>\n",
       "      <td>0</td>\n",
       "      <td>0</td>\n",
       "      <td>1</td>\n",
       "      <td>0</td>\n",
       "      <td>0</td>\n",
       "      <td>0</td>\n",
       "      <td>0</td>\n",
       "      <td>...</td>\n",
       "      <td>Thornhill</td>\n",
       "      <td>0</td>\n",
       "      <td>1</td>\n",
       "      <td>43.820492</td>\n",
       "      <td>-79.398466</td>\n",
       "      <td>Banzai Sushi</td>\n",
       "      <td>L3T 5W4</td>\n",
       "      <td>7</td>\n",
       "      <td>4.5</td>\n",
       "      <td>ON</td>\n",
       "    </tr>\n",
       "    <tr>\n",
       "      <th>4</th>\n",
       "      <td>4</td>\n",
       "      <td>30</td>\n",
       "      <td>1</td>\n",
       "      <td>0</td>\n",
       "      <td>0</td>\n",
       "      <td>0</td>\n",
       "      <td>1</td>\n",
       "      <td>0</td>\n",
       "      <td>0</td>\n",
       "      <td>1</td>\n",
       "      <td>...</td>\n",
       "      <td>Richmond Hill</td>\n",
       "      <td>{'Tuesday': '12:0-21:0', 'Wednesday': '12:0-21...</td>\n",
       "      <td>1</td>\n",
       "      <td>43.947011</td>\n",
       "      <td>-79.454862</td>\n",
       "      <td>Apadana Restaurant</td>\n",
       "      <td>L4E 1A5</td>\n",
       "      <td>3</td>\n",
       "      <td>3.0</td>\n",
       "      <td>ON</td>\n",
       "    </tr>\n",
       "  </tbody>\n",
       "</table>\n",
       "<p>5 rows × 56 columns</p>\n",
       "</div>"
      ],
      "text/plain": [
       "   Unnamed: 0  index  RestaurantsTakeOut  BusinessAcceptsCreditCards  \\\n",
       "0           0      8                   1                           1   \n",
       "1           1     20                   1                           1   \n",
       "2           2     24                   1                           0   \n",
       "3           3     25                   1                           0   \n",
       "4           4     30                   1                           0   \n",
       "\n",
       "   NoiseLevel  GoodForKids  RestaurantsReservations  RestaurantsGoodForGroups  \\\n",
       "0          -1            0                        0                         0   \n",
       "1           0            1                        0                         1   \n",
       "2           0            0                        0                         0   \n",
       "3           0            1                        0                         0   \n",
       "4           0            0                        1                         0   \n",
       "\n",
       "   RestaurantsPriceRange2  HasTV  ...           city  \\\n",
       "0                       1      1  ...      Champaign   \n",
       "1                       1      0  ...      Charlotte   \n",
       "2                       0      1  ...         Aurora   \n",
       "3                       0      0  ...      Thornhill   \n",
       "4                       0      1  ...  Richmond Hill   \n",
       "\n",
       "                                               hours  is_open   latitude  \\\n",
       "0  {'Monday': '11:30-14:30', 'Tuesday': '11:30-14...        1  40.110446   \n",
       "1                                                  0        0  35.194894   \n",
       "2  {'Monday': '11:0-22:0', 'Tuesday': '11:0-22:0'...        1  44.010962   \n",
       "3                                                  0        1  43.820492   \n",
       "4  {'Tuesday': '12:0-21:0', 'Wednesday': '12:0-21...        1  43.947011   \n",
       "\n",
       "   longitude                 name  postal_code  review_count  stars  state  \n",
       "0 -88.233073  The Empanadas House        61820             5    4.5     IL  \n",
       "1 -80.767442     Middle East Deli        28205             5    3.0     NC  \n",
       "2 -79.448677      Philthy Phillys      L4G 7J1             4    4.5     ON  \n",
       "3 -79.398466         Banzai Sushi      L3T 5W4             7    4.5     ON  \n",
       "4 -79.454862   Apadana Restaurant      L4E 1A5             3    3.0     ON  \n",
       "\n",
       "[5 rows x 56 columns]"
      ]
     },
     "execution_count": 3,
     "metadata": {},
     "output_type": "execute_result"
    }
   ],
   "source": [
    "restaurants.head()"
   ]
  },
  {
   "cell_type": "code",
   "execution_count": 4,
   "metadata": {},
   "outputs": [
    {
     "data": {
      "text/plain": [
       "Index(['Unnamed: 0', 'index', 'RestaurantsTakeOut',\n",
       "       'BusinessAcceptsCreditCards', 'NoiseLevel', 'GoodForKids',\n",
       "       'RestaurantsReservations', 'RestaurantsGoodForGroups',\n",
       "       'RestaurantsPriceRange2', 'HasTV', 'Alcohol', 'BikeParking',\n",
       "       'RestaurantsDelivery', 'OutdoorSeating', 'RestaurantsTableService',\n",
       "       'Caters', 'RestaurantsAttire_'casual'', 'RestaurantsAttire_'dressy'',\n",
       "       'RestaurantsAttire_'formal'', 'WiFi_'free'', 'WiFi_'no'', 'WiFi_'paid'',\n",
       "       'casual', 'classy', 'divey', 'hipster', 'intimate', 'romantic',\n",
       "       'touristy', 'trendy', 'upscale', 'garage', 'lot', 'street', 'valet',\n",
       "       'validated', 'breakfast', 'brunch', 'dessert', 'dinner', 'latenight',\n",
       "       'lunch', 'address', 'attributes', 'business_id', 'categories', 'city',\n",
       "       'hours', 'is_open', 'latitude', 'longitude', 'name', 'postal_code',\n",
       "       'review_count', 'stars', 'state'],\n",
       "      dtype='object')"
      ]
     },
     "execution_count": 4,
     "metadata": {},
     "output_type": "execute_result"
    }
   ],
   "source": [
    "restaurants.columns"
   ]
  },
  {
   "cell_type": "code",
   "execution_count": 5,
   "metadata": {},
   "outputs": [],
   "source": [
    "features_to_use = ['RestaurantsTakeOut',\n",
    "       'BusinessAcceptsCreditCards', 'NoiseLevel', 'GoodForKids',\n",
    "       'RestaurantsReservations', 'RestaurantsGoodForGroups',\n",
    "       'RestaurantsPriceRange2', 'HasTV', 'Alcohol', 'BikeParking',\n",
    "       'RestaurantsDelivery', 'OutdoorSeating', 'RestaurantsTableService',\n",
    "       'Caters', \"RestaurantsAttire_'casual'\", \"RestaurantsAttire_'dressy'\",\n",
    "       \"RestaurantsAttire_'formal'\", \"WiFi_'free'\", \"WiFi_'no'\", \"WiFi_'paid'\",\n",
    "       'casual', 'classy', 'divey', 'hipster', 'intimate', 'romantic',\n",
    "       'touristy', 'trendy', 'upscale', 'garage', 'lot', 'street', 'valet',\n",
    "       'validated', 'breakfast', 'brunch', 'dessert', 'dinner', 'latenight',\n",
    "       'lunch'] \n",
    "\n",
    "target_variables = 'stars'"
   ]
  },
  {
   "cell_type": "code",
   "execution_count": 6,
   "metadata": {},
   "outputs": [
    {
     "name": "stdout",
     "output_type": "stream",
     "text": [
      "40\n"
     ]
    }
   ],
   "source": [
    "print(len(features_to_use))"
   ]
  },
  {
   "cell_type": "markdown",
   "metadata": {},
   "source": [
    "### Data splitting"
   ]
  },
  {
   "cell_type": "code",
   "execution_count": 7,
   "metadata": {},
   "outputs": [],
   "source": [
    "split1=int(len(restaurants)*3/5)\n",
    "split2=int(len(restaurants)*4/5)\n",
    "\n",
    "train=restaurants[:split1]\n",
    "\n",
    "val=restaurants[split1:split2]\n",
    "test=restaurants[split2:]"
   ]
  },
  {
   "cell_type": "code",
   "execution_count": 8,
   "metadata": {},
   "outputs": [],
   "source": [
    "X_train=train[features_to_use]\n",
    "y_train=train[target_variables]\n",
    "\n",
    "X_val=val[features_to_use]\n",
    "y_val=val[target_variables]\n",
    "\n",
    "\n",
    "X_test=test[features_to_use]\n",
    "y_test=test[target_variables]\n",
    "\n",
    "\n"
   ]
  },
  {
   "cell_type": "code",
   "execution_count": 9,
   "metadata": {},
   "outputs": [
    {
     "name": "stdout",
     "output_type": "stream",
     "text": [
      "Num train examples: 38366\n",
      "Num validation examples: 12789\n",
      "Num test examples: 12789\n"
     ]
    }
   ],
   "source": [
    "print(\"Num train examples:\", len(y_train))\n",
    "print(\"Num validation examples:\", len(y_val))\n",
    "print(\"Num test examples:\", len(y_test))"
   ]
  },
  {
   "cell_type": "code",
   "execution_count": 10,
   "metadata": {},
   "outputs": [
    {
     "data": {
      "text/plain": [
       "3.1971016003753325"
      ]
     },
     "execution_count": 10,
     "metadata": {},
     "output_type": "execute_result"
    }
   ],
   "source": [
    "y_train.astype(int).mean()"
   ]
  },
  {
   "cell_type": "markdown",
   "metadata": {},
   "source": [
    "We separate our target variable, stars rating, in 0(bad) or 1(good) reviews using the threshold of 3.44 stars. If it is over it, it is considered good, otherwise it is considered as bad."
   ]
  },
  {
   "cell_type": "code",
   "execution_count": 11,
   "metadata": {},
   "outputs": [],
   "source": [
    "m=0.6*y_train.mean()+0.2*y_val.mean()+0.2*y_test.mean()"
   ]
  },
  {
   "cell_type": "code",
   "execution_count": 12,
   "metadata": {},
   "outputs": [
    {
     "name": "stdout",
     "output_type": "stream",
     "text": [
      "3.438141203677294\n"
     ]
    }
   ],
   "source": [
    "print(m)"
   ]
  },
  {
   "cell_type": "code",
   "execution_count": 13,
   "metadata": {},
   "outputs": [],
   "source": [
    "new_y_test=[]\n",
    "\n",
    "for y in y_test:\n",
    "    new_y_test.append(int((y-m)/4+1))"
   ]
  },
  {
   "cell_type": "code",
   "execution_count": 14,
   "metadata": {},
   "outputs": [],
   "source": [
    "new_y_val=[]\n",
    "\n",
    "for y in y_val:\n",
    "    new_y_val.append(int((y-m)/4+1))\n",
    "    \n",
    "    "
   ]
  },
  {
   "cell_type": "code",
   "execution_count": 15,
   "metadata": {},
   "outputs": [],
   "source": [
    "new_y_train=[]\n",
    "\n",
    "for y in y_train:\n",
    "    new_y_train.append(int((y-m)/4+1))\n",
    "    \n",
    "    \n"
   ]
  },
  {
   "cell_type": "code",
   "execution_count": 16,
   "metadata": {},
   "outputs": [],
   "source": [
    "y_test=new_y_test\n",
    "y_val=new_y_val\n",
    "y_train=new_y_train"
   ]
  },
  {
   "cell_type": "markdown",
   "metadata": {},
   "source": [
    "We do the imports from keras and sklearn to train our model."
   ]
  },
  {
   "cell_type": "code",
   "execution_count": 17,
   "metadata": {},
   "outputs": [
    {
     "name": "stderr",
     "output_type": "stream",
     "text": [
      "Using TensorFlow backend.\n"
     ]
    }
   ],
   "source": [
    "from keras.models import Sequential\n",
    "from keras.layers import Dense, Dropout\n",
    "from sklearn.metrics import confusion_matrix, recall_score, accuracy_score, precision_score"
   ]
  },
  {
   "cell_type": "markdown",
   "metadata": {},
   "source": [
    "We define a function to evaluate and show the results of the model."
   ]
  },
  {
   "cell_type": "code",
   "execution_count": 18,
   "metadata": {},
   "outputs": [],
   "source": [
    "def evaluate(y_true, y_pred):\n",
    "    # calculate and display confusion matrix\n",
    "    \n",
    "    labels= np.unique(y_true)\n",
    "    \n",
    "    cm = confusion_matrix(y_true, y_pred, labels=labels)\n",
    "    \n",
    "    \n",
    "\n",
    "    df_cm = pd.DataFrame(cm, index = [i for i in list(labels)],\n",
    "                  columns = [i for i in list(labels)])\n",
    "    plt.figure(figsize = (8,5))\n",
    "    plt.rcParams['xtick.bottom'] = plt.rcParams['xtick.labelbottom'] = False\n",
    "    plt.rcParams['xtick.top'] = plt.rcParams['xtick.labeltop'] = True\n",
    "    sns.heatmap(df_cm, annot=True,fmt=\"d\")\n",
    "    plt.title('Confusion Matrix')\n",
    "    plt.xlabel('Predicted')\n",
    "    plt.ylabel('True')\n",
    "    \n",
    "    \n",
    "    accuracy = float(np.trace(cm)) / np.sum(cm)\n",
    "    precision = precision_score(y_true, y_pred, average=None, labels=labels)[1]\n",
    "    recall = recall_score(y_true, y_pred, average=None, labels=labels)[1]\n",
    "    f1 = 2 * precision * recall / (precision + recall)\n",
    "    \n",
    "    \n",
    "    print('\\033[1m'+'Test score'+ '\\033[0m')\n",
    "    print('\\033[1m' +'Accuracy:' + '\\033[0m',\"%.2f\" %(accuracy*100),'%')\n",
    "    print('\\033[1m' + \"Precision:\" + '\\033[0m', \"%.2f\" %(precision*100),\"%\")\n",
    "    print('\\033[1m' + \"Recall:\" + '\\033[0m', \"%.2f\" %(recall*100),\"%\")\n",
    "    print('\\033[1m' + \"f1 score:\" + '\\033[0m', \"%.2f\" %(f1*100),\"%\")"
   ]
  },
  {
   "cell_type": "markdown",
   "metadata": {},
   "source": [
    "## Training of the model"
   ]
  },
  {
   "cell_type": "markdown",
   "metadata": {},
   "source": [
    "To obtain feature importances we got inspired by the solution provided by Justing Hallas using the library eli5. (https://stackoverflow.com/questions/45361559/feature-importance-chart-in-neural-network-using-keras-in-python)"
   ]
  },
  {
   "cell_type": "code",
   "execution_count": 19,
   "metadata": {},
   "outputs": [
    {
     "name": "stdout",
     "output_type": "stream",
     "text": [
      "WARNING:tensorflow:From C:\\Users\\hecto.DESKTOP-ACA6A3T\\Anaconda3\\lib\\site-packages\\keras\\backend\\tensorflow_backend.py:74: The name tf.get_default_graph is deprecated. Please use tf.compat.v1.get_default_graph instead.\n",
      "\n",
      "WARNING:tensorflow:From C:\\Users\\hecto.DESKTOP-ACA6A3T\\Anaconda3\\lib\\site-packages\\keras\\backend\\tensorflow_backend.py:517: The name tf.placeholder is deprecated. Please use tf.compat.v1.placeholder instead.\n",
      "\n",
      "WARNING:tensorflow:From C:\\Users\\hecto.DESKTOP-ACA6A3T\\Anaconda3\\lib\\site-packages\\keras\\backend\\tensorflow_backend.py:4138: The name tf.random_uniform is deprecated. Please use tf.random.uniform instead.\n",
      "\n",
      "WARNING:tensorflow:From C:\\Users\\hecto.DESKTOP-ACA6A3T\\Anaconda3\\lib\\site-packages\\keras\\backend\\tensorflow_backend.py:133: The name tf.placeholder_with_default is deprecated. Please use tf.compat.v1.placeholder_with_default instead.\n",
      "\n",
      "WARNING:tensorflow:From C:\\Users\\hecto.DESKTOP-ACA6A3T\\Anaconda3\\lib\\site-packages\\keras\\backend\\tensorflow_backend.py:3445: calling dropout (from tensorflow.python.ops.nn_ops) with keep_prob is deprecated and will be removed in a future version.\n",
      "Instructions for updating:\n",
      "Please use `rate` instead of `keep_prob`. Rate should be set to `rate = 1 - keep_prob`.\n",
      "WARNING:tensorflow:From C:\\Users\\hecto.DESKTOP-ACA6A3T\\Anaconda3\\lib\\site-packages\\keras\\optimizers.py:790: The name tf.train.Optimizer is deprecated. Please use tf.compat.v1.train.Optimizer instead.\n",
      "\n",
      "WARNING:tensorflow:From C:\\Users\\hecto.DESKTOP-ACA6A3T\\Anaconda3\\lib\\site-packages\\keras\\backend\\tensorflow_backend.py:3376: The name tf.log is deprecated. Please use tf.math.log instead.\n",
      "\n",
      "WARNING:tensorflow:From C:\\Users\\hecto.DESKTOP-ACA6A3T\\Anaconda3\\lib\\site-packages\\tensorflow\\python\\ops\\nn_impl.py:180: add_dispatch_support.<locals>.wrapper (from tensorflow.python.ops.array_ops) is deprecated and will be removed in a future version.\n",
      "Instructions for updating:\n",
      "Use tf.where in 2.0, which has the same broadcast rule as np.where\n",
      "Train on 38366 samples, validate on 12789 samples\n",
      "Epoch 1/10\n",
      "38366/38366 [==============================] - 3s 66us/step - loss: 0.6361 - acc: 0.6307 - val_loss: 0.6098 - val_acc: 0.6623\n",
      "Epoch 2/10\n",
      "38366/38366 [==============================] - 2s 41us/step - loss: 0.6118 - acc: 0.6564 - val_loss: 0.6006 - val_acc: 0.6700\n",
      "Epoch 3/10\n",
      "38366/38366 [==============================] - 1s 38us/step - loss: 0.6057 - acc: 0.6659 - val_loss: 0.6101 - val_acc: 0.6723\n",
      "Epoch 4/10\n",
      "38366/38366 [==============================] - 2s 41us/step - loss: 0.6010 - acc: 0.6679 - val_loss: 0.5986 - val_acc: 0.6725\n",
      "Epoch 5/10\n",
      "38366/38366 [==============================] - 2s 46us/step - loss: 0.5999 - acc: 0.6722 - val_loss: 0.5984 - val_acc: 0.6733\n",
      "Epoch 6/10\n",
      "38366/38366 [==============================] - 1s 35us/step - loss: 0.5966 - acc: 0.6742 - val_loss: 0.5941 - val_acc: 0.6749\n",
      "Epoch 7/10\n",
      "38366/38366 [==============================] - 1s 34us/step - loss: 0.5939 - acc: 0.6736 - val_loss: 0.5956 - val_acc: 0.6730\n",
      "Epoch 8/10\n",
      "38366/38366 [==============================] - 1s 33us/step - loss: 0.5935 - acc: 0.6742 - val_loss: 0.5931 - val_acc: 0.6787\n",
      "Epoch 9/10\n",
      "38366/38366 [==============================] - 1s 35us/step - loss: 0.5924 - acc: 0.6753 - val_loss: 0.5938 - val_acc: 0.6762\n",
      "Epoch 10/10\n",
      "38366/38366 [==============================] - 1s 33us/step - loss: 0.5917 - acc: 0.6759 - val_loss: 0.5944 - val_acc: 0.6789\n",
      "38366/38366 [==============================] - 0s 7us/step\n",
      "38366/38366 [==============================] - 0s 7us/step\n",
      "38366/38366 [==============================] - 0s 8us/step\n",
      "38366/38366 [==============================] - 0s 7us/step\n",
      "38366/38366 [==============================] - 0s 6us/step\n",
      "38366/38366 [==============================] - 0s 7us/step\n",
      "38366/38366 [==============================] - 1s 16us/step\n",
      "38366/38366 [==============================] - 1s 15us/step\n",
      "38366/38366 [==============================] - 1s 13us/step\n",
      "38366/38366 [==============================] - 1s 18us/step\n",
      "38366/38366 [==============================] - 1s 33us/step\n",
      "38366/38366 [==============================] - 0s 10us/step\n",
      "38366/38366 [==============================] - 1s 15us/step\n",
      "38366/38366 [==============================] - 0s 13us/step\n",
      "38366/38366 [==============================] - 0s 11us/step\n",
      "38366/38366 [==============================] - 1s 16us/step\n",
      "38366/38366 [==============================] - 0s 12us/step\n",
      "38366/38366 [==============================] - 1s 13us/step\n",
      "38366/38366 [==============================] - 0s 13us/step\n",
      "38366/38366 [==============================] - 0s 7us/step\n",
      "38366/38366 [==============================] - 0s 7us/step\n",
      "38366/38366 [==============================] - 0s 8us/step\n",
      "38366/38366 [==============================] - 0s 7us/step\n",
      "38366/38366 [==============================] - 0s 6us/step\n",
      "38366/38366 [==============================] - 0s 7us/step\n",
      "38366/38366 [==============================] - 0s 8us/step\n",
      "38366/38366 [==============================] - 0s 7us/step\n",
      "38366/38366 [==============================] - 0s 7us/step\n",
      "38366/38366 [==============================] - 0s 12us/step\n",
      "38366/38366 [==============================] - 0s 7us/step\n",
      "38366/38366 [==============================] - 0s 7us/step\n",
      "38366/38366 [==============================] - 0s 8us/step\n",
      "38366/38366 [==============================] - 0s 8us/step\n",
      "38366/38366 [==============================] - 0s 6us/step\n",
      "38366/38366 [==============================] - 0s 7us/step\n",
      "38366/38366 [==============================] - 0s 7us/step\n",
      "38366/38366 [==============================] - 0s 8us/step\n",
      "38366/38366 [==============================] - 0s 7us/step\n",
      "38366/38366 [==============================] - 0s 7us/step\n",
      "38366/38366 [==============================] - 0s 7us/step\n",
      "38366/38366 [==============================] - 0s 7us/step\n",
      "38366/38366 [==============================] - 0s 7us/step\n",
      "38366/38366 [==============================] - 0s 7us/step\n",
      "38366/38366 [==============================] - 0s 8us/step\n",
      "38366/38366 [==============================] - 0s 7us/step\n",
      "38366/38366 [==============================] - 0s 7us/step\n",
      "38366/38366 [==============================] - 0s 7us/step\n",
      "38366/38366 [==============================] - 0s 8us/step\n",
      "38366/38366 [==============================] - 0s 7us/step\n",
      "38366/38366 [==============================] - 0s 7us/step\n",
      "38366/38366 [==============================] - 0s 8us/step\n",
      "38366/38366 [==============================] - 0s 7us/step\n",
      "38366/38366 [==============================] - 0s 7us/step\n",
      "38366/38366 [==============================] - 0s 7us/step\n",
      "38366/38366 [==============================] - 0s 9us/step\n",
      "38366/38366 [==============================] - 0s 7us/step\n",
      "38366/38366 [==============================] - 0s 7us/step\n",
      "38366/38366 [==============================] - 0s 7us/step\n",
      "38366/38366 [==============================] - 0s 8us/step\n",
      "38366/38366 [==============================] - 0s 8us/step\n",
      "38366/38366 [==============================] - 0s 8us/step\n",
      "38366/38366 [==============================] - 0s 8us/step\n",
      "38366/38366 [==============================] - 0s 8us/step\n",
      "38366/38366 [==============================] - 0s 8us/step\n",
      "38366/38366 [==============================] - 0s 9us/step\n",
      "38366/38366 [==============================] - 0s 8us/step\n",
      "38366/38366 [==============================] - 0s 8us/step\n",
      "38366/38366 [==============================] - 0s 9us/step\n",
      "38366/38366 [==============================] - 0s 7us/step\n",
      "38366/38366 [==============================] - 0s 7us/step\n",
      "38366/38366 [==============================] - 0s 7us/step\n",
      "38366/38366 [==============================] - 0s 8us/step\n",
      "38366/38366 [==============================] - 0s 7us/step\n",
      "38366/38366 [==============================] - 0s 7us/step\n",
      "38366/38366 [==============================] - 0s 7us/step\n",
      "38366/38366 [==============================] - 0s 8us/step\n",
      "38366/38366 [==============================] - 0s 7us/step\n",
      "38366/38366 [==============================] - 0s 7us/step\n",
      "38366/38366 [==============================] - 0s 8us/step\n",
      "38366/38366 [==============================] - 0s 7us/step\n",
      "38366/38366 [==============================] - 0s 7us/step\n"
     ]
    },
    {
     "name": "stdout",
     "output_type": "stream",
     "text": [
      "38366/38366 [==============================] - 0s 6us/step\n",
      "38366/38366 [==============================] - 0s 8us/step\n",
      "38366/38366 [==============================] - 0s 6us/step\n",
      "38366/38366 [==============================] - 0s 7us/step\n",
      "38366/38366 [==============================] - 0s 7us/step\n",
      "38366/38366 [==============================] - 0s 8us/step\n",
      "38366/38366 [==============================] - 0s 7us/step\n",
      "38366/38366 [==============================] - 0s 7us/step\n",
      "38366/38366 [==============================] - 0s 7us/step\n",
      "38366/38366 [==============================] - 0s 8us/step\n",
      "38366/38366 [==============================] - 0s 7us/step\n",
      "38366/38366 [==============================] - 0s 7us/step\n",
      "38366/38366 [==============================] - 0s 8us/step\n",
      "38366/38366 [==============================] - 0s 7us/step\n",
      "38366/38366 [==============================] - 0s 7us/step\n",
      "38366/38366 [==============================] - 0s 11us/step\n",
      "38366/38366 [==============================] - 0s 8us/step\n",
      "38366/38366 [==============================] - 0s 7us/step\n",
      "38366/38366 [==============================] - 0s 7us/step\n",
      "38366/38366 [==============================] - 0s 8us/step\n",
      "38366/38366 [==============================] - 0s 7us/step\n",
      "38366/38366 [==============================] - 0s 7us/step\n",
      "38366/38366 [==============================] - 0s 7us/step\n",
      "38366/38366 [==============================] - 0s 8us/step\n",
      "38366/38366 [==============================] - 0s 7us/step\n",
      "38366/38366 [==============================] - 0s 7us/step\n",
      "38366/38366 [==============================] - 0s 7us/step\n",
      "38366/38366 [==============================] - 0s 8us/step\n",
      "38366/38366 [==============================] - 0s 7us/step\n",
      "38366/38366 [==============================] - 0s 8us/step\n",
      "38366/38366 [==============================] - 0s 7us/step\n",
      "38366/38366 [==============================] - 0s 7us/step\n",
      "38366/38366 [==============================] - 0s 7us/step\n",
      "38366/38366 [==============================] - 0s 7us/step\n",
      "38366/38366 [==============================] - 0s 7us/step\n",
      "38366/38366 [==============================] - 0s 8us/step\n",
      "38366/38366 [==============================] - 0s 8us/step\n",
      "38366/38366 [==============================] - 0s 8us/step\n",
      "38366/38366 [==============================] - 0s 9us/step\n",
      "38366/38366 [==============================] - 0s 8us/step\n",
      "38366/38366 [==============================] - 0s 8us/step\n",
      "38366/38366 [==============================] - 0s 9us/step\n",
      "38366/38366 [==============================] - 0s 8us/step\n",
      "38366/38366 [==============================] - 0s 8us/step\n",
      "38366/38366 [==============================] - 0s 9us/step\n",
      "38366/38366 [==============================] - 0s 7us/step\n",
      "38366/38366 [==============================] - 0s 7us/step\n",
      "38366/38366 [==============================] - 0s 7us/step\n",
      "38366/38366 [==============================] - 0s 9us/step\n",
      "38366/38366 [==============================] - 0s 7us/step\n",
      "38366/38366 [==============================] - 0s 7us/step\n",
      "38366/38366 [==============================] - 0s 7us/step\n",
      "38366/38366 [==============================] - 0s 8us/step\n",
      "38366/38366 [==============================] - 0s 7us/step\n",
      "38366/38366 [==============================] - 0s 7us/step\n",
      "38366/38366 [==============================] - 0s 8us/step\n",
      "38366/38366 [==============================] - 0s 7us/step\n",
      "38366/38366 [==============================] - 0s 7us/step\n",
      "38366/38366 [==============================] - 0s 7us/step\n",
      "38366/38366 [==============================] - 0s 8us/step\n",
      "38366/38366 [==============================] - 0s 7us/step\n",
      "38366/38366 [==============================] - 0s 7us/step\n",
      "38366/38366 [==============================] - 0s 7us/step\n",
      "38366/38366 [==============================] - 0s 9us/step\n",
      "38366/38366 [==============================] - 0s 6us/step\n",
      "38366/38366 [==============================] - 0s 7us/step\n",
      "38366/38366 [==============================] - 0s 8us/step\n",
      "38366/38366 [==============================] - 0s 7us/step\n",
      "38366/38366 [==============================] - 0s 7us/step\n",
      "38366/38366 [==============================] - 0s 7us/step\n",
      "38366/38366 [==============================] - 0s 8us/step\n",
      "38366/38366 [==============================] - 0s 7us/step\n",
      "38366/38366 [==============================] - 0s 7us/step\n",
      "38366/38366 [==============================] - 0s 8us/step\n",
      "38366/38366 [==============================] - 0s 7us/step\n",
      "38366/38366 [==============================] - 0s 7us/step\n",
      "38366/38366 [==============================] - 0s 7us/step\n",
      "38366/38366 [==============================] - 0s 8us/step\n",
      "38366/38366 [==============================] - 0s 7us/step\n",
      "38366/38366 [==============================] - 0s 7us/step\n",
      "38366/38366 [==============================] - 0s 7us/step\n",
      "38366/38366 [==============================] - 0s 8us/step\n",
      "38366/38366 [==============================] - 0s 7us/step\n",
      "38366/38366 [==============================] - 0s 7us/step\n",
      "38366/38366 [==============================] - 0s 7us/step\n",
      "38366/38366 [==============================] - 0s 7us/step\n",
      "38366/38366 [==============================] - 0s 7us/step\n",
      "38366/38366 [==============================] - 0s 7us/step\n",
      "38366/38366 [==============================] - 0s 8us/step\n",
      "38366/38366 [==============================] - 0s 7us/step\n",
      "38366/38366 [==============================] - 0s 6us/step\n",
      "38366/38366 [==============================] - 0s 7us/step\n",
      "38366/38366 [==============================] - 0s 8us/step\n",
      "38366/38366 [==============================] - 0s 7us/step\n",
      "38366/38366 [==============================] - 0s 7us/step\n",
      "38366/38366 [==============================] - 0s 7us/step\n",
      "38366/38366 [==============================] - 0s 8us/step\n",
      "38366/38366 [==============================] - 0s 7us/step\n",
      "38366/38366 [==============================] - 0s 7us/step\n",
      "38366/38366 [==============================] - 0s 8us/step\n",
      "38366/38366 [==============================] - 0s 7us/step\n",
      "38366/38366 [==============================] - 0s 7us/step\n",
      "38366/38366 [==============================] - 0s 7us/step\n",
      "38366/38366 [==============================] - 0s 8us/step\n",
      "38366/38366 [==============================] - 0s 7us/step\n",
      "38366/38366 [==============================] - 0s 7us/step\n",
      "38366/38366 [==============================] - 0s 7us/step\n",
      "38366/38366 [==============================] - 0s 7us/step\n",
      "38366/38366 [==============================] - 0s 7us/step\n",
      "38366/38366 [==============================] - 0s 7us/step\n",
      "38366/38366 [==============================] - 0s 8us/step\n",
      "38366/38366 [==============================] - 0s 7us/step\n",
      "38366/38366 [==============================] - 0s 7us/step\n",
      "38366/38366 [==============================] - 0s 7us/step\n",
      "38366/38366 [==============================] - 0s 8us/step\n",
      "38366/38366 [==============================] - 0s 7us/step\n",
      "38366/38366 [==============================] - 0s 7us/step\n",
      "38366/38366 [==============================] - 0s 7us/step\n",
      "38366/38366 [==============================] - 0s 8us/step\n",
      "38366/38366 [==============================] - 0s 7us/step\n"
     ]
    }
   ],
   "source": [
    "from keras.wrappers.scikit_learn import KerasClassifier, KerasRegressor\n",
    "import eli5\n",
    "from eli5.sklearn import PermutationImportance\n",
    "\n",
    "def baseline_model():\n",
    "    model = Sequential()\n",
    "    model.add(Dense(150, input_dim=40, activation='relu'))\n",
    "    #We have 40 features in our dataset\n",
    "\n",
    "    model.add(Dropout(rate=0.5))\n",
    "    model.add(Dense(100, activation='relu'))\n",
    "    model.add(Dropout(rate=0.5))\n",
    "    model.add(Dense(40, activation='relu'))\n",
    "    model.add(Dropout(rate=0.5))\n",
    "    model.add(Dense(1, activation='sigmoid'))\n",
    "    model.compile(loss='binary_crossentropy', optimizer='adam', metrics=['accuracy'])\n",
    "    return model\n",
    "\n",
    "my_model = KerasRegressor(build_fn=baseline_model, epochs=10, batch_size=128, validation_data=(X_val,y_val))    \n",
    "my_model.fit(X_train,y_train)\n",
    "\n",
    "perm = PermutationImportance(my_model, random_state=1).fit(X_train,y_train)\n",
    "#eli5.show_weights(perm, feature_names = X_train.columns.tolist())"
   ]
  },
  {
   "cell_type": "code",
   "execution_count": 20,
   "metadata": {},
   "outputs": [],
   "source": [
    "importances=eli5.explain_weights_df(perm, feature_names = X_train.columns.tolist())"
   ]
  },
  {
   "cell_type": "code",
   "execution_count": 22,
   "metadata": {
    "scrolled": false
   },
   "outputs": [
    {
     "name": "stdout",
     "output_type": "stream",
     "text": [
      "\u001b[1mTest score\u001b[0m\n",
      "\u001b[1mAccuracy:\u001b[0m 68.41 %\n",
      "\u001b[1mPrecision:\u001b[0m 69.64 %\n",
      "\u001b[1mRecall:\u001b[0m 87.99 %\n",
      "\u001b[1mf1 score:\u001b[0m 77.75 %\n"
     ]
    },
    {
     "data": {
      "image/png": "[encoded data removed]",
      "text/plain": [
       "<Figure size 576x360 with 2 Axes>"
      ]
     },
     "metadata": {
      "needs_background": "light"
     },
     "output_type": "display_data"
    },
    {
     "data": {
      "image/png": "[encoded data removed]",
      "text/plain": [
       "<Figure size 1080x720 with 1 Axes>"
      ]
     },
     "metadata": {
      "needs_background": "light"
     },
     "output_type": "display_data"
    }
   ],
   "source": [
    "import seaborn as sns\n",
    "\n",
    "y_pred = my_model.predict(X_test)\n",
    "y_pred = (y_pred > 0.5).astype(int)\n",
    "\n",
    "evaluate(y_test, y_pred)\n",
    "\n",
    "plt.figure(figsize=(6, 4), dpi=180)\n",
    "sns.barplot(x=importances['weight'], y=importances['feature'])\n",
    "# Add labels to your graph\n",
    "plt.xticks(fontsize=10)\n",
    "plt.yticks(fontsize=6)\n",
    "plt.xlabel('Feature Importance Score')\n",
    "plt.ylabel('Features')\n",
    "plt.title(\"Important Features\")\n",
    "#plt.legend()\n",
    "plt.show() \n",
    "\n",
    "\n"
   ]
  },
  {
   "cell_type": "markdown",
   "metadata": {},
   "source": [
    "## FOR PHOENIX"
   ]
  },
  {
   "cell_type": "markdown",
   "metadata": {},
   "source": [
    "Now we will apply the same model but just for the restaurants included in Phoenix Metropolis."
   ]
  },
  {
   "cell_type": "code",
   "execution_count": 23,
   "metadata": {},
   "outputs": [],
   "source": [
    "restaurants_phoenix=restaurants[restaurants['state']=='AZ']\n",
    "restaurants_phoenix=restaurants_phoenix[restaurants_phoenix['latitude']<34]"
   ]
  },
  {
   "cell_type": "code",
   "execution_count": 24,
   "metadata": {},
   "outputs": [
    {
     "name": "stdout",
     "output_type": "stream",
     "text": [
      "Num train examples: 7274\n",
      "Num validation examples: 2425\n",
      "Num test examples: 2425\n"
     ]
    }
   ],
   "source": [
    "split1=int(len(restaurants_phoenix)*3/5)\n",
    "split2=int(len(restaurants_phoenix)*4/5)\n",
    "\n",
    "train=restaurants_phoenix[:split1]\n",
    "\n",
    "val=restaurants_phoenix[split1:split2]\n",
    "test=restaurants_phoenix[split2:]\n",
    "\n",
    "X_train=train[features_to_use]\n",
    "y_train=train[target_variables]\n",
    "\n",
    "X_val=val[features_to_use]\n",
    "y_val=val[target_variables]\n",
    "\n",
    "\n",
    "X_test=test[features_to_use]\n",
    "y_test=test[target_variables]\n",
    "\n",
    "\n",
    "\n",
    "\n",
    "print(\"Num train examples:\", len(y_train))\n",
    "print(\"Num validation examples:\", len(y_val))\n",
    "print(\"Num test examples:\", len(y_test))\n",
    "\n",
    "y_train.astype(int).mean()\n",
    "m=0.6*y_train.mean()+0.2*y_val.mean()+0.2*y_test.mean()\n",
    "\n",
    "new_y_test=[]\n",
    "\n",
    "for y in y_test:\n",
    "    new_y_test.append(int((y-m)/4+1))\n",
    "    \n",
    "new_y_val=[]\n",
    "\n",
    "for y in y_val:\n",
    "    new_y_val.append(int((y-m)/4+1))\n",
    "    \n",
    "    \n",
    "new_y_train=[]\n",
    "\n",
    "for y in y_train:\n",
    "    new_y_train.append(int((y-m)/4+1))\n",
    "    \n",
    "\n",
    "y_test=new_y_test\n",
    "y_val=new_y_val\n",
    "y_train=new_y_train"
   ]
  },
  {
   "cell_type": "code",
   "execution_count": 25,
   "metadata": {},
   "outputs": [
    {
     "name": "stdout",
     "output_type": "stream",
     "text": [
      "Train on 7274 samples, validate on 2425 samples\n",
      "Epoch 1/10\n",
      "7274/7274 [==============================] - 1s 130us/step - loss: 0.6602 - acc: 0.6030 - val_loss: 0.6396 - val_acc: 0.6190\n",
      "Epoch 2/10\n",
      "7274/7274 [==============================] - 0s 36us/step - loss: 0.6250 - acc: 0.6453 - val_loss: 0.6011 - val_acc: 0.6854\n",
      "Epoch 3/10\n",
      "7274/7274 [==============================] - 0s 39us/step - loss: 0.6042 - acc: 0.6651 - val_loss: 0.5912 - val_acc: 0.6924\n",
      "Epoch 4/10\n",
      "7274/7274 [==============================] - 0s 39us/step - loss: 0.5964 - acc: 0.6849 - val_loss: 0.5843 - val_acc: 0.6936\n",
      "Epoch 5/10\n",
      "7274/7274 [==============================] - 0s 39us/step - loss: 0.5889 - acc: 0.6923 - val_loss: 0.5796 - val_acc: 0.6948\n",
      "Epoch 6/10\n",
      "7274/7274 [==============================] - 0s 44us/step - loss: 0.5768 - acc: 0.6941 - val_loss: 0.5756 - val_acc: 0.6948\n",
      "Epoch 7/10\n",
      "7274/7274 [==============================] - 0s 46us/step - loss: 0.5721 - acc: 0.7053 - val_loss: 0.5741 - val_acc: 0.6907\n",
      "Epoch 8/10\n",
      "7274/7274 [==============================] - 0s 35us/step - loss: 0.5738 - acc: 0.7065 - val_loss: 0.5767 - val_acc: 0.6948\n",
      "Epoch 9/10\n",
      "7274/7274 [==============================] - 0s 38us/step - loss: 0.5674 - acc: 0.7099 - val_loss: 0.5733 - val_acc: 0.6994\n",
      "Epoch 10/10\n",
      "7274/7274 [==============================] - 0s 35us/step - loss: 0.5689 - acc: 0.7050 - val_loss: 0.5729 - val_acc: 0.6977\n",
      "7274/7274 [==============================] - 0s 12us/step\n",
      "7274/7274 [==============================] - 0s 9us/step\n",
      "7274/7274 [==============================] - 0s 9us/step\n",
      "7274/7274 [==============================] - 0s 9us/step\n",
      "7274/7274 [==============================] - 0s 9us/step\n",
      "7274/7274 [==============================] - 0s 9us/step\n",
      "7274/7274 [==============================] - 0s 9us/step\n",
      "7274/7274 [==============================] - 0s 9us/step\n",
      "7274/7274 [==============================] - 0s 9us/step\n",
      "7274/7274 [==============================] - 0s 9us/step\n",
      "7274/7274 [==============================] - 0s 7us/step\n",
      "7274/7274 [==============================] - 0s 9us/step\n",
      "7274/7274 [==============================] - 0s 9us/step: \n",
      "7274/7274 [==============================] - 0s 9us/step\n",
      "7274/7274 [==============================] - 0s 14us/step\n",
      "7274/7274 [==============================] - 0s 20us/step\n",
      "7274/7274 [==============================] - 0s 9us/step\n",
      "7274/7274 [==============================] - 0s 9us/step\n",
      "7274/7274 [==============================] - 0s 11us/step\n",
      "7274/7274 [==============================] - 0s 9us/step\n",
      "7274/7274 [==============================] - 0s 9us/step\n",
      "7274/7274 [==============================] - 0s 11us/step\n",
      "7274/7274 [==============================] - 0s 9us/step\n",
      "7274/7274 [==============================] - 0s 12us/step\n",
      "7274/7274 [==============================] - 0s 12us/step\n",
      "7274/7274 [==============================] - ETA:  - 0s 12us/step\n",
      "7274/7274 [==============================] - 0s 11us/step\n",
      "7274/7274 [==============================] - 0s 11us/step\n",
      "7274/7274 [==============================] - 0s 14us/step\n",
      "7274/7274 [==============================] - 0s 12us/step\n",
      "7274/7274 [==============================] - 0s 12us/step\n",
      "7274/7274 [==============================] - 0s 9us/step\n",
      "7274/7274 [==============================] - 0s 12us/step\n",
      "7274/7274 [==============================] - 0s 11us/step\n",
      "7274/7274 [==============================] - 0s 9us/step\n",
      "7274/7274 [==============================] - 0s 9us/step\n",
      "7274/7274 [==============================] - 0s 12us/step\n",
      "7274/7274 [==============================] - 0s 12us/step\n",
      "7274/7274 [==============================] - 0s 11us/step\n",
      "7274/7274 [==============================] - 0s 12us/step\n",
      "7274/7274 [==============================] - 0s 12us/step\n",
      "7274/7274 [==============================] - 0s 16us/step\n",
      "7274/7274 [==============================] - 0s 9us/step\n",
      "7274/7274 [==============================] - 0s 9us/step\n",
      "7274/7274 [==============================] - 0s 9us/step\n",
      "7274/7274 [==============================] - 0s 9us/step\n",
      "7274/7274 [==============================] - 0s 12us/step\n",
      "7274/7274 [==============================] - 0s 9us/step\n",
      "7274/7274 [==============================] - 0s 13us/step\n",
      "7274/7274 [==============================] - 0s 9us/step\n",
      "7274/7274 [==============================] - 0s 12us/step\n",
      "7274/7274 [==============================] - 0s 30us/step\n",
      "7274/7274 [==============================] - 0s 25us/step\n",
      "7274/7274 [==============================] - 0s 9us/step\n",
      "7274/7274 [==============================] - 0s 12us/step\n",
      "7274/7274 [==============================] - 0s 12us/step\n",
      "7274/7274 [==============================] - 0s 11us/step\n",
      "7274/7274 [==============================] - 0s 9us/step\n",
      "7274/7274 [==============================] - 0s 9us/step\n",
      "7274/7274 [==============================] - 0s 9us/step\n",
      "7274/7274 [==============================] - 0s 11us/step\n",
      "7274/7274 [==============================] - 0s 12us/step\n",
      "7274/7274 [==============================] - 0s 9us/step\n",
      "7274/7274 [==============================] - 0s 7us/step\n",
      "7274/7274 [==============================] - 0s 9us/step\n",
      "7274/7274 [==============================] - 0s 14us/step\n",
      "7274/7274 [==============================] - 0s 9us/step\n",
      "7274/7274 [==============================] - 0s 9us/step\n",
      "7274/7274 [==============================] - 0s 9us/step\n",
      "7274/7274 [==============================] - 0s 9us/step\n",
      "7274/7274 [==============================] - 0s 9us/step\n",
      "7274/7274 [==============================] - 0s 9us/step\n",
      "7274/7274 [==============================] - 0s 9us/step\n",
      "7274/7274 [==============================] - 0s 12us/step\n",
      "7274/7274 [==============================] - 0s 12us/step\n",
      "7274/7274 [==============================] - 0s 9us/step\n",
      "7274/7274 [==============================] - 0s 9us/step\n",
      "7274/7274 [==============================] - 0s 9us/step\n",
      "7274/7274 [==============================] - 0s 11us/step\n",
      "7274/7274 [==============================] - 0s 9us/step\n",
      "7274/7274 [==============================] - 0s 14us/step\n",
      "7274/7274 [==============================] - 0s 7us/step\n",
      "7274/7274 [==============================] - 0s 9us/step\n",
      "7274/7274 [==============================] - 0s 9us/step\n",
      "7274/7274 [==============================] - 0s 9us/step\n",
      "7274/7274 [==============================] - 0s 9us/step\n",
      "7274/7274 [==============================] - 0s 7us/step\n",
      "7274/7274 [==============================] - 0s 9us/step\n",
      "7274/7274 [==============================] - 0s 9us/step\n",
      "7274/7274 [==============================] - 0s 9us/step\n",
      "7274/7274 [==============================] - 0s 10us/step\n",
      "7274/7274 [==============================] - 0s 9us/step\n",
      "7274/7274 [==============================] - 0s 9us/step\n",
      "7274/7274 [==============================] - 0s 9us/step\n",
      "7274/7274 [==============================] - 0s 9us/step\n",
      "7274/7274 [==============================] - 0s 14us/step\n",
      "7274/7274 [==============================] - 0s 9us/step\n",
      "7274/7274 [==============================] - 0s 7us/step\n",
      "7274/7274 [==============================] - 0s 7us/step\n",
      "7274/7274 [==============================] - 0s 11us/step\n",
      "7274/7274 [==============================] - 0s 9us/step\n",
      "7274/7274 [==============================] - 0s 9us/step\n",
      "7274/7274 [==============================] - 0s 9us/step\n",
      "7274/7274 [==============================] - 0s 9us/step\n",
      "7274/7274 [==============================] - 0s 7us/step\n",
      "7274/7274 [==============================] - 0s 9us/step\n",
      "7274/7274 [==============================] - 0s 11us/step\n",
      "7274/7274 [==============================] - 0s 9us/step\n",
      "7274/7274 [==============================] - 0s 9us/step\n",
      "7274/7274 [==============================] - 0s 16us/step\n",
      "7274/7274 [==============================] - 0s 12us/step\n",
      "7274/7274 [==============================] - 0s 12us/step\n",
      "7274/7274 [==============================] - 0s 14us/step\n",
      "7274/7274 [==============================] - 0s 12us/step\n",
      "7274/7274 [==============================] - 0s 11us/step\n",
      "7274/7274 [==============================] - 0s 12us/step\n",
      "7274/7274 [==============================] - 0s 9us/step\n",
      "7274/7274 [==============================] - 0s 12us/step\n"
     ]
    },
    {
     "name": "stdout",
     "output_type": "stream",
     "text": [
      "7274/7274 [==============================] - 0s 12us/step\n",
      "7274/7274 [==============================] - 0s 11us/step\n",
      "7274/7274 [==============================] - 0s 14us/step\n",
      "7274/7274 [==============================] - 0s 17us/step\n",
      "7274/7274 [==============================] - 0s 11us/step\n",
      "7274/7274 [==============================] - 0s 9us/step\n",
      "7274/7274 [==============================] - 0s 9us/step\n",
      "7274/7274 [==============================] - 0s 9us/step\n",
      "7274/7274 [==============================] - 0s 9us/step\n",
      "7274/7274 [==============================] - 0s 9us/step\n",
      "7274/7274 [==============================] - 0s 9us/step\n",
      "7274/7274 [==============================] - 0s 9us/step\n",
      "7274/7274 [==============================] - 0s 9us/step\n",
      "7274/7274 [==============================] - 0s 6us/step\n",
      "7274/7274 [==============================] - 0s 9us/step\n",
      "7274/7274 [==============================] - 0s 7us/step\n",
      "7274/7274 [==============================] - 0s 11us/step\n",
      "7274/7274 [==============================] - 0s 9us/step\n",
      "7274/7274 [==============================] - 0s 14us/step\n",
      "7274/7274 [==============================] - 0s 9us/step\n",
      "7274/7274 [==============================] - 0s 7us/step\n",
      "7274/7274 [==============================] - 0s 11us/step\n",
      "7274/7274 [==============================] - 0s 9us/step\n",
      "7274/7274 [==============================] - 0s 7us/step\n",
      "7274/7274 [==============================] - 0s 9us/step\n",
      "7274/7274 [==============================] - 0s 9us/step\n",
      "7274/7274 [==============================] - 0s 9us/step\n",
      "7274/7274 [==============================] - 0s 9us/step\n",
      "7274/7274 [==============================] - 0s 9us/step\n",
      "7274/7274 [==============================] - 0s 9us/step\n",
      "7274/7274 [==============================] - 0s 9us/step\n",
      "7274/7274 [==============================] - 0s 12us/step\n",
      "7274/7274 [==============================] - 0s 7us/step\n",
      "7274/7274 [==============================] - 0s 14us/step\n",
      "7274/7274 [==============================] - 0s 9us/step\n",
      "7274/7274 [==============================] - 0s 9us/step\n",
      "7274/7274 [==============================] - 0s 9us/step\n",
      "7274/7274 [==============================] - 0s 9us/step\n",
      "7274/7274 [==============================] - 0s 9us/step\n",
      "7274/7274 [==============================] - 0s 7us/step\n",
      "7274/7274 [==============================] - 0s 9us/step\n",
      "7274/7274 [==============================] - 0s 7us/step\n",
      "7274/7274 [==============================] - 0s 6us/step\n",
      "7274/7274 [==============================] - 0s 9us/step\n",
      "7274/7274 [==============================] - 0s 7us/step\n",
      "7274/7274 [==============================] - 0s 9us/step\n",
      "7274/7274 [==============================] - 0s 7us/step\n",
      "7274/7274 [==============================] - 0s 9us/step\n",
      "7274/7274 [==============================] - 0s 9us/step\n",
      "7274/7274 [==============================] - 0s 7us/step\n",
      "7274/7274 [==============================] - 0s 13us/step\n",
      "7274/7274 [==============================] - 0s 6us/step\n",
      "7274/7274 [==============================] - 0s 9us/step\n",
      "7274/7274 [==============================] - 0s 11us/step\n",
      "7274/7274 [==============================] - 0s 7us/step\n",
      "7274/7274 [==============================] - 0s 7us/step\n",
      "7274/7274 [==============================] - 0s 9us/step\n",
      "7274/7274 [==============================] - 0s 7us/step\n",
      "7274/7274 [==============================] - 0s 9us/step\n",
      "7274/7274 [==============================] - 0s 9us/step\n",
      "7274/7274 [==============================] - 0s 7us/step\n",
      "7274/7274 [==============================] - 0s 9us/step\n",
      "7274/7274 [==============================] - 0s 7us/step\n",
      "7274/7274 [==============================] - 0s 6us/step\n",
      "7274/7274 [==============================] - 0s 7us/step\n",
      "7274/7274 [==============================] - 0s 9us/step\n",
      "7274/7274 [==============================] - 0s 6us/step\n",
      "7274/7274 [==============================] - 0s 18us/step\n",
      "7274/7274 [==============================] - 0s 7us/step\n",
      "7274/7274 [==============================] - 0s 7us/step\n",
      "7274/7274 [==============================] - 0s 9us/step\n",
      "7274/7274 [==============================] - 0s 7us/step\n",
      "7274/7274 [==============================] - 0s 9us/step\n",
      "7274/7274 [==============================] - 0s 7us/step\n",
      "7274/7274 [==============================] - 0s 12us/step\n",
      "7274/7274 [==============================] - 0s 6us/step\n",
      "7274/7274 [==============================] - 0s 7us/step\n",
      "7274/7274 [==============================] - 0s 7us/step\n",
      "7274/7274 [==============================] - 0s 9us/step\n",
      "7274/7274 [==============================] - 0s 7us/step\n",
      "7274/7274 [==============================] - 0s 9us/step\n",
      "7274/7274 [==============================] - 0s 7us/step\n",
      "7274/7274 [==============================] - 0s 9us/step\n"
     ]
    }
   ],
   "source": [
    "def baseline_model():\n",
    "    model = Sequential()\n",
    "    model.add(Dense(150, input_dim=40, activation='relu'))\n",
    "    #We have 40 features in our dataset\n",
    "\n",
    "    model.add(Dropout(rate=0.5))\n",
    "    model.add(Dense(100, activation='relu'))\n",
    "    model.add(Dropout(rate=0.5))\n",
    "    model.add(Dense(40, activation='relu'))\n",
    "    model.add(Dropout(rate=0.5))\n",
    "    model.add(Dense(1, activation='sigmoid'))\n",
    "    model.compile(loss='binary_crossentropy', optimizer='adam', metrics=['accuracy'])\n",
    "    return model\n",
    "\n",
    "my_model = KerasRegressor(build_fn=baseline_model, epochs=10, batch_size=128, validation_data=(X_val,y_val))    \n",
    "my_model.fit(X_train,y_train)\n",
    "\n",
    "perm = PermutationImportance(my_model, random_state=1).fit(X_train,y_train)"
   ]
  },
  {
   "cell_type": "code",
   "execution_count": 26,
   "metadata": {
    "scrolled": false
   },
   "outputs": [
    {
     "name": "stdout",
     "output_type": "stream",
     "text": [
      "\u001b[1mTest score\u001b[0m\n",
      "\u001b[1mAccuracy:\u001b[0m 71.13 %\n",
      "\u001b[1mPrecision:\u001b[0m 71.88 %\n",
      "\u001b[1mRecall:\u001b[0m 86.47 %\n",
      "\u001b[1mf1 score:\u001b[0m 78.50 %\n"
     ]
    },
    {
     "data": {
      "image/png": "[encoded data removed]",
      "text/plain": [
       "<Figure size 576x360 with 2 Axes>"
      ]
     },
     "metadata": {
      "needs_background": "light"
     },
     "output_type": "display_data"
    },
    {
     "data": {
      "image/png": "[encoded data removed]",
      "text/plain": [
       "<Figure size 1080x720 with 1 Axes>"
      ]
     },
     "metadata": {
      "needs_background": "light"
     },
     "output_type": "display_data"
    }
   ],
   "source": [
    "y_pred = my_model.predict(X_test)\n",
    "y_pred = (y_pred > 0.5).astype(int)\n",
    "\n",
    "evaluate(y_test, y_pred)\n",
    "\n",
    "\n",
    "\n",
    "importances=eli5.explain_weights_df(perm, feature_names = X_train.columns.tolist())\n",
    "plt.figure(figsize=(6, 4), dpi=180)\n",
    "sns.barplot(x=importances['weight'], y=importances['feature'])\n",
    "# Add labels to your graph\n",
    "plt.xticks(fontsize=10)\n",
    "plt.yticks(fontsize=6)\n",
    "plt.xlabel('Feature Importance Score')\n",
    "plt.ylabel('Features')\n",
    "plt.title(\"Important Features\")\n",
    "#plt.legend()\n",
    "plt.show() \n"
   ]
  },
  {
   "cell_type": "markdown",
   "metadata": {},
   "source": [
    "Here we can see that the main difference in Phoenix is that the most valued feature is that the Restaurant has table service. This could be a good characteristic to take into account for Banh Mi Boys if it is opening in Phoenix."
   ]
  },
  {
   "cell_type": "code",
   "execution_count": null,
   "metadata": {},
   "outputs": [],
   "source": []
  },
  {
   "cell_type": "code",
   "execution_count": null,
   "metadata": {},
   "outputs": [],
   "source": []
  }
 ],
 "metadata": {
  "kernelspec": {
   "display_name": "Python 3",
   "language": "python",
   "name": "python3"
  },
  "language_info": {
   "codemirror_mode": {
    "name": "ipython",
    "version": 3
   },
   "file_extension": ".py",
   "mimetype": "text/x-python",
   "name": "python",
   "nbconvert_exporter": "python",
   "pygments_lexer": "ipython3",
   "version": "3.7.3"
  }
 },
 "nbformat": 4,
 "nbformat_minor": 2
}
